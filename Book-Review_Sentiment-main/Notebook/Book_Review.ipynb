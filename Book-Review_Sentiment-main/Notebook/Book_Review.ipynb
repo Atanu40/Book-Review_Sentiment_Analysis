{
  "cells": [
    {
      "cell_type": "code",
      "execution_count": null,
      "metadata": {
        "colab": {
          "base_uri": "https://localhost:8080/"
        },
        "id": "RgqRxwZk4t-w",
        "outputId": "936d0259-9b4a-4ae1-d54e-c6f1aca62b70"
      },
      "outputs": [
        {
          "output_type": "stream",
          "name": "stdout",
          "text": [
            "Requirement already satisfied: bnlp_toolkit in /usr/local/lib/python3.7/dist-packages (3.1.2)\n",
            "Requirement already satisfied: gensim==4.0.1 in /usr/local/lib/python3.7/dist-packages (from bnlp_toolkit) (4.0.1)\n",
            "Requirement already satisfied: numpy in /usr/local/lib/python3.7/dist-packages (from bnlp_toolkit) (1.21.5)\n",
            "Requirement already satisfied: wasabi in /usr/local/lib/python3.7/dist-packages (from bnlp_toolkit) (0.9.0)\n",
            "Requirement already satisfied: sklearn-crfsuite in /usr/local/lib/python3.7/dist-packages (from bnlp_toolkit) (0.3.6)\n",
            "Requirement already satisfied: scipy in /usr/local/lib/python3.7/dist-packages (from bnlp_toolkit) (1.4.1)\n",
            "Requirement already satisfied: sentencepiece in /usr/local/lib/python3.7/dist-packages (from bnlp_toolkit) (0.1.96)\n",
            "Requirement already satisfied: nltk in /usr/local/lib/python3.7/dist-packages (from bnlp_toolkit) (3.2.5)\n",
            "Requirement already satisfied: smart-open>=1.8.1 in /usr/local/lib/python3.7/dist-packages (from gensim==4.0.1->bnlp_toolkit) (5.2.1)\n",
            "Requirement already satisfied: six in /usr/local/lib/python3.7/dist-packages (from nltk->bnlp_toolkit) (1.15.0)\n",
            "Requirement already satisfied: python-crfsuite>=0.8.3 in /usr/local/lib/python3.7/dist-packages (from sklearn-crfsuite->bnlp_toolkit) (0.9.7)\n",
            "Requirement already satisfied: tabulate in /usr/local/lib/python3.7/dist-packages (from sklearn-crfsuite->bnlp_toolkit) (0.8.9)\n",
            "Requirement already satisfied: tqdm>=2.0 in /usr/local/lib/python3.7/dist-packages (from sklearn-crfsuite->bnlp_toolkit) (4.63.0)\n"
          ]
        }
      ],
      "source": [
        "!pip install bnlp_toolkit"
      ]
    },
    {
      "cell_type": "code",
      "execution_count": null,
      "metadata": {
        "colab": {
          "base_uri": "https://localhost:8080/"
        },
        "id": "EfzbegyD47-y",
        "outputId": "dfc9870f-737c-412f-9e22-97b87343c9c7"
      },
      "outputs": [
        {
          "output_type": "stream",
          "name": "stdout",
          "text": [
            "Requirement already satisfied: bnltk in /usr/local/lib/python3.7/dist-packages (0.7.6)\n",
            "Requirement already satisfied: numpy in /usr/local/lib/python3.7/dist-packages (from bnltk) (1.21.5)\n",
            "Requirement already satisfied: tensorflow in /usr/local/lib/python3.7/dist-packages (from bnltk) (2.8.0)\n",
            "Requirement already satisfied: keras in /usr/local/lib/python3.7/dist-packages (from bnltk) (2.8.0)\n",
            "Requirement already satisfied: requests in /usr/local/lib/python3.7/dist-packages (from bnltk) (2.23.0)\n",
            "Requirement already satisfied: sklearn in /usr/local/lib/python3.7/dist-packages (from bnltk) (0.0)\n",
            "Requirement already satisfied: certifi>=2017.4.17 in /usr/local/lib/python3.7/dist-packages (from requests->bnltk) (2021.10.8)\n",
            "Requirement already satisfied: idna<3,>=2.5 in /usr/local/lib/python3.7/dist-packages (from requests->bnltk) (2.10)\n",
            "Requirement already satisfied: chardet<4,>=3.0.2 in /usr/local/lib/python3.7/dist-packages (from requests->bnltk) (3.0.4)\n",
            "Requirement already satisfied: urllib3!=1.25.0,!=1.25.1,<1.26,>=1.21.1 in /usr/local/lib/python3.7/dist-packages (from requests->bnltk) (1.24.3)\n",
            "Requirement already satisfied: scikit-learn in /usr/local/lib/python3.7/dist-packages (from sklearn->bnltk) (1.0.2)\n",
            "Requirement already satisfied: threadpoolctl>=2.0.0 in /usr/local/lib/python3.7/dist-packages (from scikit-learn->sklearn->bnltk) (3.1.0)\n",
            "Requirement already satisfied: joblib>=0.11 in /usr/local/lib/python3.7/dist-packages (from scikit-learn->sklearn->bnltk) (1.1.0)\n",
            "Requirement already satisfied: scipy>=1.1.0 in /usr/local/lib/python3.7/dist-packages (from scikit-learn->sklearn->bnltk) (1.4.1)\n",
            "Requirement already satisfied: tensorflow-io-gcs-filesystem>=0.23.1 in /usr/local/lib/python3.7/dist-packages (from tensorflow->bnltk) (0.24.0)\n",
            "Requirement already satisfied: astunparse>=1.6.0 in /usr/local/lib/python3.7/dist-packages (from tensorflow->bnltk) (1.6.3)\n",
            "Requirement already satisfied: gast>=0.2.1 in /usr/local/lib/python3.7/dist-packages (from tensorflow->bnltk) (0.5.3)\n",
            "Requirement already satisfied: typing-extensions>=3.6.6 in /usr/local/lib/python3.7/dist-packages (from tensorflow->bnltk) (3.10.0.2)\n",
            "Requirement already satisfied: termcolor>=1.1.0 in /usr/local/lib/python3.7/dist-packages (from tensorflow->bnltk) (1.1.0)\n",
            "Requirement already satisfied: absl-py>=0.4.0 in /usr/local/lib/python3.7/dist-packages (from tensorflow->bnltk) (1.0.0)\n",
            "Requirement already satisfied: keras-preprocessing>=1.1.1 in /usr/local/lib/python3.7/dist-packages (from tensorflow->bnltk) (1.1.2)\n",
            "Requirement already satisfied: opt-einsum>=2.3.2 in /usr/local/lib/python3.7/dist-packages (from tensorflow->bnltk) (3.3.0)\n",
            "Requirement already satisfied: h5py>=2.9.0 in /usr/local/lib/python3.7/dist-packages (from tensorflow->bnltk) (3.1.0)\n",
            "Requirement already satisfied: tensorboard<2.9,>=2.8 in /usr/local/lib/python3.7/dist-packages (from tensorflow->bnltk) (2.8.0)\n",
            "Requirement already satisfied: libclang>=9.0.1 in /usr/local/lib/python3.7/dist-packages (from tensorflow->bnltk) (13.0.0)\n",
            "Requirement already satisfied: tf-estimator-nightly==2.8.0.dev2021122109 in /usr/local/lib/python3.7/dist-packages (from tensorflow->bnltk) (2.8.0.dev2021122109)\n",
            "Requirement already satisfied: six>=1.12.0 in /usr/local/lib/python3.7/dist-packages (from tensorflow->bnltk) (1.15.0)\n",
            "Requirement already satisfied: protobuf>=3.9.2 in /usr/local/lib/python3.7/dist-packages (from tensorflow->bnltk) (3.17.3)\n",
            "Requirement already satisfied: setuptools in /usr/local/lib/python3.7/dist-packages (from tensorflow->bnltk) (57.4.0)\n",
            "Requirement already satisfied: flatbuffers>=1.12 in /usr/local/lib/python3.7/dist-packages (from tensorflow->bnltk) (2.0)\n",
            "Requirement already satisfied: google-pasta>=0.1.1 in /usr/local/lib/python3.7/dist-packages (from tensorflow->bnltk) (0.2.0)\n",
            "Requirement already satisfied: wrapt>=1.11.0 in /usr/local/lib/python3.7/dist-packages (from tensorflow->bnltk) (1.13.3)\n",
            "Requirement already satisfied: grpcio<2.0,>=1.24.3 in /usr/local/lib/python3.7/dist-packages (from tensorflow->bnltk) (1.44.0)\n",
            "Requirement already satisfied: wheel<1.0,>=0.23.0 in /usr/local/lib/python3.7/dist-packages (from astunparse>=1.6.0->tensorflow->bnltk) (0.37.1)\n",
            "Requirement already satisfied: cached-property in /usr/local/lib/python3.7/dist-packages (from h5py>=2.9.0->tensorflow->bnltk) (1.5.2)\n",
            "Requirement already satisfied: tensorboard-data-server<0.7.0,>=0.6.0 in /usr/local/lib/python3.7/dist-packages (from tensorboard<2.9,>=2.8->tensorflow->bnltk) (0.6.1)\n",
            "Requirement already satisfied: tensorboard-plugin-wit>=1.6.0 in /usr/local/lib/python3.7/dist-packages (from tensorboard<2.9,>=2.8->tensorflow->bnltk) (1.8.1)\n",
            "Requirement already satisfied: markdown>=2.6.8 in /usr/local/lib/python3.7/dist-packages (from tensorboard<2.9,>=2.8->tensorflow->bnltk) (3.3.6)\n",
            "Requirement already satisfied: google-auth<3,>=1.6.3 in /usr/local/lib/python3.7/dist-packages (from tensorboard<2.9,>=2.8->tensorflow->bnltk) (1.35.0)\n",
            "Requirement already satisfied: werkzeug>=0.11.15 in /usr/local/lib/python3.7/dist-packages (from tensorboard<2.9,>=2.8->tensorflow->bnltk) (1.0.1)\n",
            "Requirement already satisfied: google-auth-oauthlib<0.5,>=0.4.1 in /usr/local/lib/python3.7/dist-packages (from tensorboard<2.9,>=2.8->tensorflow->bnltk) (0.4.6)\n",
            "Requirement already satisfied: pyasn1-modules>=0.2.1 in /usr/local/lib/python3.7/dist-packages (from google-auth<3,>=1.6.3->tensorboard<2.9,>=2.8->tensorflow->bnltk) (0.2.8)\n",
            "Requirement already satisfied: cachetools<5.0,>=2.0.0 in /usr/local/lib/python3.7/dist-packages (from google-auth<3,>=1.6.3->tensorboard<2.9,>=2.8->tensorflow->bnltk) (4.2.4)\n",
            "Requirement already satisfied: rsa<5,>=3.1.4 in /usr/local/lib/python3.7/dist-packages (from google-auth<3,>=1.6.3->tensorboard<2.9,>=2.8->tensorflow->bnltk) (4.8)\n",
            "Requirement already satisfied: requests-oauthlib>=0.7.0 in /usr/local/lib/python3.7/dist-packages (from google-auth-oauthlib<0.5,>=0.4.1->tensorboard<2.9,>=2.8->tensorflow->bnltk) (1.3.1)\n",
            "Requirement already satisfied: importlib-metadata>=4.4 in /usr/local/lib/python3.7/dist-packages (from markdown>=2.6.8->tensorboard<2.9,>=2.8->tensorflow->bnltk) (4.11.2)\n",
            "Requirement already satisfied: zipp>=0.5 in /usr/local/lib/python3.7/dist-packages (from importlib-metadata>=4.4->markdown>=2.6.8->tensorboard<2.9,>=2.8->tensorflow->bnltk) (3.7.0)\n",
            "Requirement already satisfied: pyasn1<0.5.0,>=0.4.6 in /usr/local/lib/python3.7/dist-packages (from pyasn1-modules>=0.2.1->google-auth<3,>=1.6.3->tensorboard<2.9,>=2.8->tensorflow->bnltk) (0.4.8)\n",
            "Requirement already satisfied: oauthlib>=3.0.0 in /usr/local/lib/python3.7/dist-packages (from requests-oauthlib>=0.7.0->google-auth-oauthlib<0.5,>=0.4.1->tensorboard<2.9,>=2.8->tensorflow->bnltk) (3.2.0)\n"
          ]
        }
      ],
      "source": [
        "!pip install bnltk"
      ]
    },
    {
      "cell_type": "code",
      "execution_count": null,
      "metadata": {
        "colab": {
          "base_uri": "https://localhost:8080/"
        },
        "id": "WKIHgxqy5HGI",
        "outputId": "2da04e6d-b427-4ce7-ec0b-ae4e46effd01"
      },
      "outputs": [
        {
          "output_type": "stream",
          "name": "stdout",
          "text": [
            "Requirement already satisfied: bnlp_toolkit in /usr/local/lib/python3.7/dist-packages (3.1.2)\n",
            "Requirement already satisfied: gensim==4.0.1 in /usr/local/lib/python3.7/dist-packages (from bnlp_toolkit) (4.0.1)\n",
            "Requirement already satisfied: sklearn-crfsuite in /usr/local/lib/python3.7/dist-packages (from bnlp_toolkit) (0.3.6)\n",
            "Requirement already satisfied: numpy in /usr/local/lib/python3.7/dist-packages (from bnlp_toolkit) (1.21.5)\n",
            "Requirement already satisfied: scipy in /usr/local/lib/python3.7/dist-packages (from bnlp_toolkit) (1.4.1)\n",
            "Requirement already satisfied: nltk in /usr/local/lib/python3.7/dist-packages (from bnlp_toolkit) (3.2.5)\n",
            "Requirement already satisfied: wasabi in /usr/local/lib/python3.7/dist-packages (from bnlp_toolkit) (0.9.0)\n",
            "Requirement already satisfied: sentencepiece in /usr/local/lib/python3.7/dist-packages (from bnlp_toolkit) (0.1.96)\n",
            "Requirement already satisfied: smart-open>=1.8.1 in /usr/local/lib/python3.7/dist-packages (from gensim==4.0.1->bnlp_toolkit) (5.2.1)\n",
            "Requirement already satisfied: six in /usr/local/lib/python3.7/dist-packages (from nltk->bnlp_toolkit) (1.15.0)\n",
            "Requirement already satisfied: tabulate in /usr/local/lib/python3.7/dist-packages (from sklearn-crfsuite->bnlp_toolkit) (0.8.9)\n",
            "Requirement already satisfied: tqdm>=2.0 in /usr/local/lib/python3.7/dist-packages (from sklearn-crfsuite->bnlp_toolkit) (4.63.0)\n",
            "Requirement already satisfied: python-crfsuite>=0.8.3 in /usr/local/lib/python3.7/dist-packages (from sklearn-crfsuite->bnlp_toolkit) (0.9.7)\n"
          ]
        }
      ],
      "source": [
        "!pip install -U bnlp_toolkit\n"
      ]
    },
    {
      "cell_type": "code",
      "execution_count": null,
      "metadata": {
        "id": "9Y-EKdoZWntf"
      },
      "outputs": [],
      "source": [
        "import numpy as np\n",
        "import matplotlib.pyplot as plt\n",
        "import pandas as pd\n",
        "from bnlp.corpus import stopwords\n",
        "from bnlp.corpus.util import remove_stopwords\n",
        "\n",
        "from bnltk.stemmer import BanglaStemmer"
      ]
    },
    {
      "cell_type": "code",
      "execution_count": null,
      "metadata": {
        "id": "jfg5AIARYbwp"
      },
      "outputs": [],
      "source": [
        "from google.colab import drive"
      ]
    },
    {
      "cell_type": "code",
      "execution_count": null,
      "metadata": {
        "colab": {
          "base_uri": "https://localhost:8080/"
        },
        "id": "Z2PyXNCOYb4f",
        "outputId": "d5657a9c-dfe0-4ba4-bfde-2c0939bf26ad"
      },
      "outputs": [
        {
          "output_type": "stream",
          "name": "stdout",
          "text": [
            "Drive already mounted at /content/drive; to attempt to forcibly remount, call drive.mount(\"/content/drive\", force_remount=True).\n"
          ]
        }
      ],
      "source": [
        "drive.mount('/content/drive')"
      ]
    },
    {
      "cell_type": "code",
      "execution_count": null,
      "metadata": {
        "id": "40vOlg_6KxFt"
      },
      "outputs": [],
      "source": [
        "data = pd.read_csv('/content/drive/MyDrive/Data/AI/Book Review.csv')"
      ]
    },
    {
      "cell_type": "code",
      "execution_count": null,
      "metadata": {
        "colab": {
          "base_uri": "https://localhost:8080/",
          "height": 363
        },
        "id": "8Zuq_qAWVLDd",
        "outputId": "136aa477-2433-4e04-b145-623a498b6124"
      },
      "outputs": [
        {
          "output_type": "execute_result",
          "data": {
            "text/plain": [
              "                                              Review  Class\n",
              "0                    অনেক কিছু শিখার আছে এই বই থেকে।      1\n",
              "1  এই বইয়ের অনুবাদ টি অন্যান্য বই থেকে ভাল আমার ক...      1\n",
              "2                                      খুব ভাল লাগলো      1\n",
              "3  বইটা খুবই ভালো.... যারা এখনো না কিনছে তাদের অব...      1\n",
              "4                                         বস একটা বই      1\n",
              "5                                           অনেক জোস      1\n",
              "6  নিজের অবস্থান বুঝতে পারার জন্য একবার হলেও পড়া ...      1\n",
              "7                                            বেশ ভাল      1\n",
              "8                                     বইটি পুরাই জুস      1\n",
              "9  কিছু বই থাকে যগুলা পড়লেই নেশা কাজ করে। এই বইটা...      1"
            ],
            "text/html": [
              "\n",
              "  <div id=\"df-45606445-30bf-4e4a-8af2-cb0c5fe2b5e4\">\n",
              "    <div class=\"colab-df-container\">\n",
              "      <div>\n",
              "<style scoped>\n",
              "    .dataframe tbody tr th:only-of-type {\n",
              "        vertical-align: middle;\n",
              "    }\n",
              "\n",
              "    .dataframe tbody tr th {\n",
              "        vertical-align: top;\n",
              "    }\n",
              "\n",
              "    .dataframe thead th {\n",
              "        text-align: right;\n",
              "    }\n",
              "</style>\n",
              "<table border=\"1\" class=\"dataframe\">\n",
              "  <thead>\n",
              "    <tr style=\"text-align: right;\">\n",
              "      <th></th>\n",
              "      <th>Review</th>\n",
              "      <th>Class</th>\n",
              "    </tr>\n",
              "  </thead>\n",
              "  <tbody>\n",
              "    <tr>\n",
              "      <th>0</th>\n",
              "      <td>অনেক কিছু শিখার আছে এই বই থেকে।</td>\n",
              "      <td>1</td>\n",
              "    </tr>\n",
              "    <tr>\n",
              "      <th>1</th>\n",
              "      <td>এই বইয়ের অনুবাদ টি অন্যান্য বই থেকে ভাল আমার ক...</td>\n",
              "      <td>1</td>\n",
              "    </tr>\n",
              "    <tr>\n",
              "      <th>2</th>\n",
              "      <td>খুব ভাল লাগলো</td>\n",
              "      <td>1</td>\n",
              "    </tr>\n",
              "    <tr>\n",
              "      <th>3</th>\n",
              "      <td>বইটা খুবই ভালো.... যারা এখনো না কিনছে তাদের অব...</td>\n",
              "      <td>1</td>\n",
              "    </tr>\n",
              "    <tr>\n",
              "      <th>4</th>\n",
              "      <td>বস একটা বই</td>\n",
              "      <td>1</td>\n",
              "    </tr>\n",
              "    <tr>\n",
              "      <th>5</th>\n",
              "      <td>অনেক জোস</td>\n",
              "      <td>1</td>\n",
              "    </tr>\n",
              "    <tr>\n",
              "      <th>6</th>\n",
              "      <td>নিজের অবস্থান বুঝতে পারার জন্য একবার হলেও পড়া ...</td>\n",
              "      <td>1</td>\n",
              "    </tr>\n",
              "    <tr>\n",
              "      <th>7</th>\n",
              "      <td>বেশ ভাল</td>\n",
              "      <td>1</td>\n",
              "    </tr>\n",
              "    <tr>\n",
              "      <th>8</th>\n",
              "      <td>বইটি পুরাই জুস</td>\n",
              "      <td>1</td>\n",
              "    </tr>\n",
              "    <tr>\n",
              "      <th>9</th>\n",
              "      <td>কিছু বই থাকে যগুলা পড়লেই নেশা কাজ করে। এই বইটা...</td>\n",
              "      <td>1</td>\n",
              "    </tr>\n",
              "  </tbody>\n",
              "</table>\n",
              "</div>\n",
              "      <button class=\"colab-df-convert\" onclick=\"convertToInteractive('df-45606445-30bf-4e4a-8af2-cb0c5fe2b5e4')\"\n",
              "              title=\"Convert this dataframe to an interactive table.\"\n",
              "              style=\"display:none;\">\n",
              "        \n",
              "  <svg xmlns=\"http://www.w3.org/2000/svg\" height=\"24px\"viewBox=\"0 0 24 24\"\n",
              "       width=\"24px\">\n",
              "    <path d=\"M0 0h24v24H0V0z\" fill=\"none\"/>\n",
              "    <path d=\"M18.56 5.44l.94 2.06.94-2.06 2.06-.94-2.06-.94-.94-2.06-.94 2.06-2.06.94zm-11 1L8.5 8.5l.94-2.06 2.06-.94-2.06-.94L8.5 2.5l-.94 2.06-2.06.94zm10 10l.94 2.06.94-2.06 2.06-.94-2.06-.94-.94-2.06-.94 2.06-2.06.94z\"/><path d=\"M17.41 7.96l-1.37-1.37c-.4-.4-.92-.59-1.43-.59-.52 0-1.04.2-1.43.59L10.3 9.45l-7.72 7.72c-.78.78-.78 2.05 0 2.83L4 21.41c.39.39.9.59 1.41.59.51 0 1.02-.2 1.41-.59l7.78-7.78 2.81-2.81c.8-.78.8-2.07 0-2.86zM5.41 20L4 18.59l7.72-7.72 1.47 1.35L5.41 20z\"/>\n",
              "  </svg>\n",
              "      </button>\n",
              "      \n",
              "  <style>\n",
              "    .colab-df-container {\n",
              "      display:flex;\n",
              "      flex-wrap:wrap;\n",
              "      gap: 12px;\n",
              "    }\n",
              "\n",
              "    .colab-df-convert {\n",
              "      background-color: #E8F0FE;\n",
              "      border: none;\n",
              "      border-radius: 50%;\n",
              "      cursor: pointer;\n",
              "      display: none;\n",
              "      fill: #1967D2;\n",
              "      height: 32px;\n",
              "      padding: 0 0 0 0;\n",
              "      width: 32px;\n",
              "    }\n",
              "\n",
              "    .colab-df-convert:hover {\n",
              "      background-color: #E2EBFA;\n",
              "      box-shadow: 0px 1px 2px rgba(60, 64, 67, 0.3), 0px 1px 3px 1px rgba(60, 64, 67, 0.15);\n",
              "      fill: #174EA6;\n",
              "    }\n",
              "\n",
              "    [theme=dark] .colab-df-convert {\n",
              "      background-color: #3B4455;\n",
              "      fill: #D2E3FC;\n",
              "    }\n",
              "\n",
              "    [theme=dark] .colab-df-convert:hover {\n",
              "      background-color: #434B5C;\n",
              "      box-shadow: 0px 1px 3px 1px rgba(0, 0, 0, 0.15);\n",
              "      filter: drop-shadow(0px 1px 2px rgba(0, 0, 0, 0.3));\n",
              "      fill: #FFFFFF;\n",
              "    }\n",
              "  </style>\n",
              "\n",
              "      <script>\n",
              "        const buttonEl =\n",
              "          document.querySelector('#df-45606445-30bf-4e4a-8af2-cb0c5fe2b5e4 button.colab-df-convert');\n",
              "        buttonEl.style.display =\n",
              "          google.colab.kernel.accessAllowed ? 'block' : 'none';\n",
              "\n",
              "        async function convertToInteractive(key) {\n",
              "          const element = document.querySelector('#df-45606445-30bf-4e4a-8af2-cb0c5fe2b5e4');\n",
              "          const dataTable =\n",
              "            await google.colab.kernel.invokeFunction('convertToInteractive',\n",
              "                                                     [key], {});\n",
              "          if (!dataTable) return;\n",
              "\n",
              "          const docLinkHtml = 'Like what you see? Visit the ' +\n",
              "            '<a target=\"_blank\" href=https://colab.research.google.com/notebooks/data_table.ipynb>data table notebook</a>'\n",
              "            + ' to learn more about interactive tables.';\n",
              "          element.innerHTML = '';\n",
              "          dataTable['output_type'] = 'display_data';\n",
              "          await google.colab.output.renderOutput(dataTable, element);\n",
              "          const docLink = document.createElement('div');\n",
              "          docLink.innerHTML = docLinkHtml;\n",
              "          element.appendChild(docLink);\n",
              "        }\n",
              "      </script>\n",
              "    </div>\n",
              "  </div>\n",
              "  "
            ]
          },
          "metadata": {},
          "execution_count": 485
        }
      ],
      "source": [
        "data.head(10)"
      ]
    },
    {
      "cell_type": "code",
      "execution_count": null,
      "metadata": {
        "colab": {
          "base_uri": "https://localhost:8080/",
          "height": 313
        },
        "id": "Nk06opI877Kx",
        "outputId": "84f157d4-46b6-41c7-f341-c134f42bee58"
      },
      "outputs": [
        {
          "output_type": "stream",
          "name": "stdout",
          "text": [
            "Negative: 35000.00%, Positive: 35000.00%\n"
          ]
        },
        {
          "output_type": "display_data",
          "data": {
            "text/plain": [
              "<Figure size 432x288 with 1 Axes>"
            ],
            "image/png": "[encoded data removed]"
          },
          "metadata": {
            "needs_background": "light"
          }
        }
      ],
      "source": [
        "import seaborn as sns\n",
        "target_vc = data[\"Class\"].value_counts(normalize=False)\n",
        "print(\"Negative: {:.2%}, Positive: {:.2%}\".format(target_vc[0], target_vc[1]))\n",
        "sns.barplot(x=target_vc.index, y=target_vc)\n",
        "plt.title(\"Dataset Distribution\")\n",
        "plt.xlabel(\"0 = Negative, 1 = Positive\")\n",
        "plt.ylabel(\"Number of data\")\n",
        "plt.show()"
      ]
    },
    {
      "cell_type": "code",
      "execution_count": null,
      "metadata": {
        "colab": {
          "base_uri": "https://localhost:8080/"
        },
        "id": "szCs5XgQLhxN",
        "outputId": "85962703-7e60-4d0f-d5f2-721747fc400f"
      },
      "outputs": [
        {
          "output_type": "execute_result",
          "data": {
            "text/plain": [
              "(700, 2)"
            ]
          },
          "metadata": {},
          "execution_count": 487
        }
      ],
      "source": [
        "data.shape"
      ]
    },
    {
      "cell_type": "code",
      "execution_count": null,
      "metadata": {
        "colab": {
          "base_uri": "https://localhost:8080/"
        },
        "id": "EiZXV3nfMbfw",
        "outputId": "fdbf1ad2-a099-464f-a8cd-784790eef18c"
      },
      "outputs": [
        {
          "output_type": "execute_result",
          "data": {
            "text/plain": [
              "['শিখার বই',\n",
              " 'বইয়ের অনুবাদ অন্যান্য বই ভাল হয়েছে',\n",
              " 'ভাল লাগলো',\n",
              " 'বইটা খুবই ভালো এখনো কিনছে অবশ্যই কিনা ধন্যবাদ আয়মান ভাইকে একটা বই দেওয়ার',\n",
              " 'বস একটা ব',\n",
              " 'জোস',\n",
              " 'অবস্থান বুঝতে পারার পড়া দরকার বইটি ধন্যবাদ আয়মান সাাদিক অন্তিক মাহমুদ স্পেশালি রকমারিকে ধন্যবাদ বইটি পৌছে দেয়ার',\n",
              " 'ভাল',\n",
              " 'বইটি পুরাই জুস',\n",
              " 'বই যগুলা পড়লেই নেশা বইটাওও তেমনি যতটুকু পড়ে বুঝলাম নেশার মত ভাল লাগা হাতে পাওয়ার অপেক্ষায়',\n",
              " 'অস্থির ভাই অসাধারণ একটা ব\\u200cই',\n",
              " 'ভাললাগসে',\n",
              " 'খুবই ভালো হয়েছে বইটা',\n",
              " 'পারফেক্ট একটা ব',\n",
              " 'পড়ে আনন্দ পেয়েছি',\n",
              " 'বাংলাভাষায় মোটিভেশনের চেয়ে ভালো বই সবচেয়ে বড় কথা যতবারই পড়বেন ততবারই ভালো লাগবে সর্দি সারানোর টনিক মধু লেবুর রস হতাশা দূর হারবাল চিকিৎসা হোল বইটি',\n",
              " 'ভালো বই আত্মিক উন্নতি সাধন সম্ভব',\n",
              " 'বই পড়ে জীবন পাল্টে জীবনের পড়া বইগুলোর সবচাইতে সেরা বই বইয়ের লেখককে ধন্যবাদ সুন্দর বই রচনা এক কথায় বইয়ের লেখকের ফ্যান হয়ে গিয়েছি 3',\n",
              " 'ভালো একটা বই মন কনট্রোল ভালো একটা বই',\n",
              " 'বইটি খুবই ভালো',\n",
              " 'হোয়াট আ বুক বস এতদিন অপেক্ষায় ছিলাম চৌমুহনীতে ভক্ত বস সবাই মিলে বই মেলায় আসবো শুক্রবারে সাথে সেলফি তুলবো বস ভালোবাসা বইটা এবারে বেস্টসেলার হব',\n",
              " 'বইটি হাতে পেলাম সত্যি অসাধারণ ছিলো কঠিন জিনিস সুন্দর ধরার জন্যে',\n",
              " 'অসাধারণ বই',\n",
              " 'ধন্যবাদ এরকম একটা বইয়ের আশা প্যারাময় লাইফের প্যারাগুলো কিছুটা কমে বইটা পড়ার',\n",
              " 'ভালো লাগলো বইটি পড়ে ধন্যবাদ',\n",
              " 'ভালো বই',\n",
              " 'প্যারাসিটামল জাস্ট লাভ ইট',\n",
              " 'বইটি সুন্দর উপস্থাপন হয়েছে প্রত্যক স্টুডেন্টসদের বইটা পড়া দিবে লাইফে বইটা',\n",
              " 'অসাধারণ আইডিয়া প্ল্যানিং দিয়ে লাইফের প্যারা নিরাময়ের অসাধারণ ব',\n",
              " 'স্টুডেন্টদের লাইফের প্রোগ্রেসের অসম্ভব সুন্দর হেল্পফুল একটা বই',\n",
              " 'বইটি মূলত বর্তমান তরুণ সমাজের পড়ণীয় বই হতাশ বিষণ্ণ জীবন সন্দিহান বইটা পড়া',\n",
              " 'বইটটা পড়ে শেষ করলাম যাস্ট ওয়াও ওয়াও এন্ড ওয়াও ভালো লাগল রেটিং ৫ দেয়া বেষ্ট জোস বই রকমারিকে ধন্যবাদ বইটা পৌছে দেয়ার',\n",
              " 'অসাধারণ খুবই উপকারি বই ধন্যবাদ ঝংকার মাহবুব ভাই',\n",
              " 'দারুণ লেগ',\n",
              " 'প্রিয় স্যারের লেখা অসাধারন জীবনে দ্রুত উন্নতি চাইলে বিকল্প বইও দেখি সাড়া বইেমলা',\n",
              " 'তথ্যবহুল বই',\n",
              " 'দারুণ বই',\n",
              " 'অসাধারণ একটা বই ভাবতে শেখায় একটা বই সময়কে কিভাবে সঠিক ব্যয় জীবনের প্রতিটি সাফল্য পাওয়া সম্ভব শেখায় বই',\n",
              " 'বইয়ের তুলানা',\n",
              " 'গত মাস যাবৎ বেশিই মানসিক চাপে ছিলাম বইটা পড়ে চাপ কমেগেছে লেখক ধন্যবাদ এধরনের বই আরো চাই লেখকের শুভকামনা',\n",
              " 'একজন মানুষ গুড়ে দাঁড়াতে পারবে বই মোটিভেশনাল বই ভালো লাগছে পড়ে বয়সের মানুষ বই পড়া দরকার ছাত্র দের পড়াটা জরুরি',\n",
              " 'অসাধারণ বই চাকুরী প্রত্যাশী হতাশাগ্রস্ত মানুষের বইটি পড়া উপহার দেবার মত বই',\n",
              " 'বইটাতো ভালো পড়ে যতটুকু পড়েছি বই মেলায়ও পাঠকেরা প্রকাশনির মস্তিষ্কের ক্যানভাসের ভীড় জমায় গতকাল ত সুখনন সাব কম ৩ - ৪ শ অটোগ্রাফ হইছে প্রথমম দিনে এতভীড় কম বেষ্ট সেলারে বইটা শিক্ষনীয়ও বটে বইটা',\n",
              " 'অসাধারণ অভিজ্ঞতার ভিতর দিয়ে পাঠক নিজেকে আবিষ্কার বারবার পড়ার মত বই অনুরোধ করব পাঠকদের আত্মউন্নয়ন মুলক বই পড়ে ক্লান্ত',\n",
              " 'মাস্টার পাসওয়ার্ড বইটিতে খুবই সুন্দর সফল হবার কৌশলগুলো বর্ণনা বইটি খুবই ভাল লেগেছে জনাব গাজী ইয়ার মোহাম্মদ জনাব এম মোর্শেদ হায়দার সাহেবকে অসংখ্য ধন্যবাদ সুন্দর একটা বই উপহার দেয়ার',\n",
              " 'অমর একুশে গ্রন্থমেলা 2018 - বেস্ট সেলার বই',\n",
              " 'ধনী পুরুষের হতভাগা প্রাসাদে ঘরে বই সম্পর্কে মিল্টন বইয়ের একটা মুখরোচক স্বাদ স্বাদ বঞ্চিত বই এমনই বই পাঠ অতুলনীয় তৃপ্তি লাভ',\n",
              " 'একজন পর্যবেক্ষণশীল পুরুষকে বইয়ের তাক দেখান দিবে কেমন লোকের জীবনে শ্রেষ্ঠ বই ভালোবাসে বই সাথে সময় ব্যয় করাটা সময়ের অপচয় পর্যবেক্ষণ নামক বইটি জীবনের শ্রেষ্ঠ বই',\n",
              " 'বইটি পড়ে অনুপ্রানিত হয়েছি নতুনদের গাইডলাইন বই',\n",
              " '২০১৫তে রকমারির বেস্ট সেলার লিস্টে বইটি ১ নম্বরে দেখেই কিনলাম অসাধারণ এক বই বই ২০ বছরও রকমারির বেস্ট সেলার লিস্টে অবাক হব বেস্ট সেলার লিস্টের ২ ৩ নং বই দুটিও অত্যন্ত ভালো বই রাগিব হাসানের ১ গবেষণায় হাতেখড়ি ২ মন প্রকৌশল স্বপ্ন অনুপ্রেরণা জীবন গড়ার ফরমুলা চমক রাগিব স্যারদের এরকম আরো বই প্রত্যাশা',\n",
              " 'মজা গনিত শেখার বইটি এককথায় অসাধরন',\n",
              " 'বইটা খুবই ভালো লাগে',\n",
              " 'নাইস',\n",
              " 'What a Book Boss Just sexy Book দুবার অলরেডি পড়া শেষ যতবার পড়ি ততবার মুগ্ধ হই অলরেডি ৯ টা বন্ধু বড় ভাইরে গিফ্ট করছি মোটামুটি ফকির হয়ে তারপরেও আফসোস ভাল বইয়ের টাকা খরচ বিষয়',\n",
              " 'অসম্ভব ভালো একটা ব',\n",
              " 'গণিতের ভয় কাটানোর ত্যেকেরই বইটা পড়া চমক ভাইয়ার চমৎকার বই',\n",
              " 'বই সম্পর্কে বলার লেখক চমক হাসান ভাই একজন অসাধারণ ব্যাক্তি উনার বইয়ের তুলনা বইয়ে গল্পের মাধ্যেমে বেসিক জিনিস আলোচনা বিস্তারিত লিখেছেন',\n",
              " 'অসাধারন বই মজার সাথে পড়ছি মাঝে মাঝে হাসি পাচ্ছে শিখতে পারছি সহজভাবে বেসিকের জন্যএর চেয়ে ভালো বই',\n",
              " 'বেসিক কনছেপ্ট অন্যরকম একটা বই',\n",
              " 'অসাধারণ মজা করেও প্রোগ্রামিং শেখা প্রমাণিত জটিল শব্দের সহজ উদাহরণ বুঝে উপায় আরো চাই চাই চাই আরো চাই',\n",
              " 'বন্ধু রাশেদ প্রিয় বইগুলোর বইটি কতবার পড়েছি নিজেও জানি',\n",
              " 'আসলে বইটা খুবই ধরার মত বইয়ের অবলম্বনে বানানো সিনেমা বইটিকে জাজ পারবেন কারন সিনেমাটা খুবই সাদামাটা বানানো বইটি এতই ভালো পড়লে পড়তে মন চাইবে',\n",
              " 'কিশোরদের জাফর ইকবাল স্যারের লেখা শ্রেষ্ঠ উপন্যাসগুলোর বন্ধু রাশেদ একজন কিশোরের চোখে ৭১ মুক্তিযুদ্ধ কেমন সুন্দর বাস্তবায়ন বইটিতে যায় মুক্তিযুদ্ধের মত national crisis কিভাবে একজন কিশোরকে মানসিকভাবে mature তোলে কিভাবে চিন্তাভাবনা কার্যকলাপকে প্রভাবিত সুন্দরভাবে ফুটিয়ে তোলা হয়েছে বইটিতে দেশপ্রেম সাহস এক কেন্দ্রে মিলিত বয়স যতই একজন মানুষকে সহজে দমিয়ে সম্ভব বইটির শেষ মূহুর্তে করুণ সমাপ্তি যায় নিশ্চিতভাবেই প্রতিটি পাঠকের চোখে জল এনে দিবে বইটি পড়া মুক্তিযুদ্ধভিত্তিক শ্রেষ্ট কিশোর উপন্যাস',\n",
              " 'অামার আরেকটি সেরা ব',\n",
              " 'খুবি ভালো লেগেছে বইটিকে বিশুদ্ধ ইতিহাসের গ্রন্থ ভ্রমণ কাহিনী গ্রন্থ এডভেঞ্চার গ্রন্থ অনুবাদ ভালো',\n",
              " 'বইটি পড়েছি ভালো লেগেছে',\n",
              " 'বইটার কাহিনী সুন্দর পরিবারের সবাই বইটি পরেছি',\n",
              " 'পাঁচ পাঁচ বলার',\n",
              " 'পড়া সেরা উপন্যাস যতবার পড়ি ততবার পড়তে মন পড়েছি ইয়ত্তা',\n",
              " 'ভালো লাগেছে জাফর ইকবাল একজন অসাধারণ লিখক',\n",
              " 'ভাল লাগল',\n",
              " 'অসাধারণ কিশোর উপন্যাস ভালো',\n",
              " 'ভালো',\n",
              " 'শুরুটা একদম সাদামাটা চমৎকার পরের ঘটনার বর্ণনাও দারুন ৫ তারকা পাওয়ার ম',\n",
              " 'স্যারের সবগুলো বইই অসাধারণ বইটিও ব্যাতিক্রম বইটি ভালো লেগেছে পড়বেন আশা তাদেরও ভালো লাগবে',\n",
              " 'ভ্রমণ বিষয়ক পড়া বই সমূহের চমৎকার বই মিরআতুল মামালিক চাঞ্চল্যকর তেমনি উত্তেজনাকর পাশাপাশি ভয়ংকরও এক কথায় সবই পেয়েছিলাম বইটিতে',\n",
              " 'খুবই মজার একটা ব',\n",
              " 'পড়ে ভালো লাগলো',\n",
              " 'বেসিক আলি ৭ - ১০ পড়া সবচেয়ে ভালো মজার কমিক',\n",
              " 'সাকিব আল হাসান ভালো খেলেন তেমনি ভালো লেখেন প্রমান স্বরুপ হালুম অসাধারণ ভালো বই',\n",
              " 'চমৎকার বই',\n",
              " 'অসাধারন',\n",
              " 'অসাধারন বই হাসতে হাসতে পেট ফেটে যায়',\n",
              " 'উপন্যাসটির শেষটা এক কথায় অসাধারণ মাঝখানের কাহিনী ভিন্ন কাহিনীর মাঝ পর্যায়ে অনেকবার হয়েছে এটাকে টেনেটুনে বড় জাফর স্যার অত্যন্ত সুন্দরভাবে গ্রামীণ জীবন মানুষের আচার আচরণ ফুটিয়ে তুলতে সক্ষম হয়েছেন গ্রামীণ পরিবেশে বড় হয়েছি সাথে রিলেট পারবো কয়টি ঘটনা নস্টালজিক ফেলবে যাইহোক বইটি পড়ার রিকোমেন্ড করবো সহজ সরল উপন্যাস',\n",
              " 'অসম্ভব ভাল লাগল উপন্যাসটি পড়ে রাশা জীবনে সর্বোচ্চ কষ্টদায়ক মুহূর্তে কীভাবে বেচে কীভাবে করল প্রতিটা কিশোর কিশোরীর',\n",
              " 'পড়া জাফর ইকবাল শ্রেষ্ঠ বই একটু কষ্ট পড়ে দেখুন আপনাকে আশশস্ত - চাই নিরাশ নাহ',\n",
              " \"তুর্কি খিলাফাতের সময় মুসলিম নৌশক্তির ব্যাপক প্রসার ঘটে রাজ্য পরিচালনা করেতে যেয়ে বিবিধ কর্মকান্ড কর্মকান্ড বিশাল ইতিহাস মিরাতুল মামালিক দ্য অ্যাডমিরাল ' বইটি তেমনি এক সাহসী সৈনিকের সমুদ্র অভিযানের ঘটনা বইটি পড়ে ভালো লাগবে\",\n",
              " 'তেরো বয়সের মেয়ে টুম্পা মা সৎ বাবার সাথে আমেরিকায় বাংলাদেশের বৃষ্টিতে ভেজার শখ বাবা মা কিছুতেই বাংলাদেশে পাঠাবে শেষ টুম্পা বাবা মাকে রাজি করাতে আসে সবুজের দেশ বৃষ্টির দেশ বাংলাদেশে দেশে টুম্পা আপন বাবা সম্পর্কে ভয়ানক সত্য কথা জানে বাবা স্কিৎজোফ্রেনিয়া রোগী একটা রোগ রোগী অবাস্তব একটা জিনিষ ভয় পায় জিনিষটা ভয় পায় অবাস্তব ভয়টা পুরোপুরি বাস্তব অন্ধকার ঘরে নিজেকে আটকে রাখে টুম্পার বাবা সবাইকে সন্দেহ টুম্পা বাবাকে বোঝাতে ভয়ংকর একটা অসুখ অসুখ নিয়েই বাঁচা শিখতে একসময় টুম্পা বাবাকে বাইরে বের তখনই ছিনতাইকারীরা যায় টুম্পার বাবা অসুস্থ হয়ে পড়ে টুম্পার বাবার ডাক্তার এজন্য টুম্পাকে দায়ী টুম্পা অনেকটা বাবার অভিমান বাংলাদেশ ছেড়ে যাওয়ার সিদ্ধান্ত নেয় এভাবেই কাহিনী এগিয়ে সবশেষে যায় মুহম্মদ জাফর ইকবালের লেখা বইয়ের বৃষ্টির ঠিকানা বইটি শ্রেষ্ঠ',\n",
              " 'বইটি অসাধারণ লেগেছে বই পোকা বইটি দেখবেন আশাকরি টাকা সময় জলে',\n",
              " 'জাফর ইকবাল স্যারের সেরা কিশোর উপন্যাসগুলোর',\n",
              " 'বইটা কিশোর উপন্যাস সায়েন্স ফিকসান জগাখিচুড়ি বইটা অত্যাধিক ভালো',\n",
              " 'জাফর সাহেব জীবনে ভালো বইটা লিখেছেন স্মৃতি বইটি স্কুল প্রাইজ পেয়েছিলাম এটুকুই শেয়ার করলাম এইটা বইটার একসময় ওনার ভক্ত ছিলাম ওনার ছাইপাঁশ গিলেছি কিনতু রুহান রুহান অসাধারণ একটা বই সাই - ফাই পড়েছি কিনতু বেষ্ট জানি ওনার মৌলিক লেখা কিনা কিনতু চাইলে বইটা সংগ্রহে যায়',\n",
              " 'অসাধারণ লেখনী',\n",
              " 'ভালো বই বই টা সাবার',\n",
              " 'বইটা মানুষের জিবনকে অন্ধকার আলোতে আসতে পার',\n",
              " 'অসাধারণ বই',\n",
              " 'ভালো একটা ব',\n",
              " 'বাংলা ভাষায় এরকম একটা বই খুবই দরকার লস্ট মডেস্টি টিমের দোয়া ভালবাসা',\n",
              " 'সেরা বই',\n",
              " 'সত্যিই অসাধারণ বই জেনারেশন নীল অন্ধকারে ডুবে সময়ে এরকম বই অবশ্যই আমাদেরকে নীল অন্ধকার বেড়িয়ে আসতে সাহায্য হে যুবক ভাই বইটি জন্যই',\n",
              " 'খুবই ভাল একটা বই সবই পড়া',\n",
              " 'যুক্তির অসাধারণ সংমিশ্রণে লিখা অতুলনীয় ব',\n",
              " 'ব্হইটি সহজ সরল প্রাঞ্জল ভাষায় লেখা পড়ে লেখক পাঠকের মনের প্রশ্নটি জানেন ধন্যবাদ লেখক প্রকাশককে',\n",
              " 'সহজ সরল প্রাঞ্জল ভাষায় লেখা অসাধারণ বই বইটি পড়ে লেখক জানেন পাঠকের প্রশ্নটি',\n",
              " 'চমৎকার বই আউটসোর্সিং',\n",
              " 'অসাধারণ একটা বই মো মাহবুবুল হাসান ভাইয়া ধন্যবাদ এতো সুন্দর লিখার - সুন্দর একটা বই উপহার দেয়ার প্রোগ্রামিং বেসিক জানে বই প্রোগ্রামিং কনটেস্টে অংশগ্রহণ চাই বইটি খুবই উপকার',\n",
              " 'অসাধারণ বই বিগিনার টু এডভান্স লেভেলের ভালো পথ প্রদর্শকের ভুমিকা রাখবে বই টা',\n",
              " 'অসাধরন একটা ব',\n",
              " 'এক কথায় অসাধারন বই উদাহরণ দিয়ে এমনভাবে বইটি লিখা আপনাকে প্রোগ্রামিং মজা শিখতে সাহায্য কেবল বইটি পড়লেই বুঝতে পারবেন প্রোগ্রামিং মানেই মজা',\n",
              " 'সত্যি অসাধারণ এক বই সুন্দর যুক্তি সহকারে নাস্তিকদের প্রশ্নগুলো ডিবাংক হয়েছে প্রশংসার দাবি রাখে',\n",
              " 'অসম্ভব সুন্দর ভালো ক্রিয়েটিভ বই লেখকের দুইটি বইয়েই সংগ্রহ করেছি প্রোগ্রামিং আসলে কঠিন বইটি পড়ে অনুভূতি হয়েছে অনেকদিন যাবৎ টিউটোরিয়াল কালেক্ট রেখেছিলাম এভাবে আসলে সবাই বইটি পড়ে যেকোন প্রোগ্রামিং ল্যাঙ্গুয়েজের ফান্ডামেন্টালটা মজবুত লেখককে ভবিষ্যতে জাভাস্ক্রিপ্ট ফ্রেমওয়ার্ক একটা বই লিখার অনুরোধ করব',\n",
              " 'অসাধারণ বই Programming জিনিসটাকে feel করানোর মত বই আড্ডায় আড্ডায় programming চাইলে এখনি বইটা',\n",
              " 'চাইতেসিলাম থ্যাংক ইউ ভাই সুন্দর বুজানো হয়েসে প্রগাম ভয় পাই পারফেক্ট একটা বই',\n",
              " 'সত্যিই বইটা অসাধারণ প্রোগ্রামারদের সহায়াক বইটা অার সত্যিই রকমারির সার্ভিস অসাধারন অর্ডার পরের দিনই বইটা হাতে পাই',\n",
              " 'দারুণ বই মত লাস্ট বেঞ্চের লাস্ট স্টুডেন্টদের খুবই আসবে মত কষ্ট করেও বইয়ের গাদা গাদা পড়া বুঝতে পারেনা তারদের দরকার বইটা ধন্যবাদ বলদ কমিটির চেয়ারম্যানকে বইটার',\n",
              " 'এক কথায় অসাধারন বই অসম্ভব সুন্দর ভালো ক্রিয়েটিভ বই',\n",
              " 'অসাধারন বই বাংলায় প্রোগ্রামিংয়ের বই এতো সহজ লিখা কিনা প্রোগ্রামিংয়ে আগ্রহী বইটি অত্যান্ত সহায়ক',\n",
              " 'আউটসোর্সিং বইটি সহায়ক গুরত্বপূর্ণ একটা বই বইতে বিষয় গুলো সম্পর্কে আলোচনা হয়াছে গুলো শিখতে পারলে অবশ্যই ভালো লেখক ধন্যবাদ এইরকম একটা বই পাঠক দের উপহার দেবার',\n",
              " 'জাভা প্রোগ্রামিং বইটা খুবই ভালো ধন্যবাদ ভাইয়া সুন্দর লেখার',\n",
              " 'জাভা শিখতে আগ্রহীদের অবশ্যই পড়া জাভার সবচেয়ে ভালো বাংলা বই বিষয়বস্তুর সহজ উপস্থাপন উদাহরণগুলো খুবই ভালো লেগেছে আসলে জাভার প্রেমে পড়েছি বই পড়েই',\n",
              " 'মাশাআল্লাহ পয়সা উশুল সুন্দর তথ্য বহুল বই',\n",
              " 'বেস্ট জাভা শিখার বই সিরিয়াসলি প্রত্যেকটি বিষয় ছোট বড় সবকিছুই পানির মত সোজা বুঝানো হয়েছে সত্যি জাভা এতো আনন্দের শিখব ভাবতেও অনেকবার জাভা শিখার কথা ভাবলেও উলোট পালোট আগোছালো বই পড়ে কঠিন সরে এসেছি বইটা কিনে আলহামদুলিল্লাহ্\\u200c সম্পূর্ণ টাকা উসুল হইসে ধন্যবাদ ভাই বই লিখার',\n",
              " 'ভাল বই লেখকের উপস্থপনা চমৎকার',\n",
              " 'অসাধারণ একটা বই কম্পিউটার প্রোগ্রামিং খন্ড প্রোগ্রামিং দুনিয়ায় আসার আগ্রহ তৈরি বইটা আগ্রহ অবিরত রাখবে',\n",
              " 'অসাধারন একিট বই পাইথন দিয়ে প্রোগ্রামিং শেখা অামার বইটি উপকারে এসেছে পড়ছি চর্চা করছি প্রোগ্রামিং - অাগ্রহ বাড়ছে ধন্যবাদ তামিম শাহরিয়ার সুবিন ভাইকে সহজ বাংলা ভাষায় পাইথন দিয়ে প্রোগ্রামিং শেখা বইটি লেখার',\n",
              " 'সুন্দর সাজানো বই এক কথায় অসাধারন',\n",
              " 'অসাধারণ বই খুঁটিনাটি সহজে ব্যাখ্যা সিরিয়াসলি বই বিকল্প',\n",
              " 'প্রোগ্রামিং - বইটি উপযোগী বইটি পড়ার ব্যক্তিগত মতামত প্রোগ্রামিং ফয়সাল স্যার - সহজে শিখি প্রোগ্রামিং - বইটির বিকল্প বুয়েটে ভর্তির প্রোগ্রামিং হাতে খড়ি বুয়েটের প্রিয় ফয়সাল ভাইয়ের বইটি দিয়েই করলাম যেকোন বইটি উপকৃত',\n",
              " 'বইটা সত্যি ভাল একটা বই প্রোগ্রামিং শেখা উপকারে আসবে',\n",
              " 'চমৎকার ব',\n",
              " 'সময়ের সেরা বই',\n",
              " \"অসাধারণ একটা বই ' সহজে শিখি প্রোগ্রামিং ' বইটি একাদশ দ্বাদশ শ্রেণির শিক্ষার্থীদের ICT বিষয়ে সহায়তা প্রদান প্রোগ্রামিং মৌলিক ধারণা সহজে ব্যাখ্যার সাহায্যে চমৎকারভাবে বোঝানো বইটিতে প্রোগ্রামিং পর্যায়ে বোঝার উৎকৃষ্ট একটা বই ' সহজে শিখি প্রোগ্রামিং '\",\n",
              " 'প্রোগ্রামিং শেখার বাংলা ভাষায় লেখা দারুন বই উনার ম্যাটল্যাব বইটিও ভালো লাগছে',\n",
              " \"অয়াধারণ বই প্রোগ্রামিং শেখার মতে অন্যান্য বই পড়ে এতো ক্লিয়ার ধারণা পাওয়া সম্ভব এতো সহজে বোঝানো হয়েছে বইটিতে প্রোগ্রামিং শেখায় বইটি সহায়তা অরেছে নতুন্দের বলছি প্রোগ্রামিং শেখার বইটি দিয়েই করুন - শাহরিয়ার বুয়েট ' ১৩\",\n",
              " 'বইটা পড়তে ভালো লেগেছে সহজ ব্যাখ্যা থাকায় প্রোগ্রামিং শেখার উপযুক্ত বই অন্যান্য বই গুলো ভালো ধন্যবাদ লেখককে আরো বই লিখুন',\n",
              " 'প্রোগ্রামিং শিখার সেরা বই পছন্দের একটা বই ফ্রেন্ডরা সবাই দিয়েই শিখছি',\n",
              " 'বইটি পড়তে পেরে আনন্দিত রকমারির সার্ভিস ভাল C দিয়ে প্রোগ্রামিং ভাল বই ধন্যবাদ জানাই মোঃ কামরুজ্জামান নিটন ভাই',\n",
              " 'অসাধারণ বই ওয়ার্ডপ্রেস শিখার দারুন বই',\n",
              " 'সময় খুবই উপযোগী বই বই আউটসোরসিং বেপারে পূর্ণ ধারনা পেয়েসি',\n",
              " 'মিলিয়ে সূন্দর একটা ব',\n",
              " 'নবীন প্রোগ্রামারদের চমৎকার একটা বই প্রবলেম সলভ ভূমিকা পালন পাশাপাশি কম্পিউটার বিজ্ঞান প্রকৌশল বিভাগের ছাত্র - ছাত্রীদের গ্রাফ অ্যালগরিদমে লাগবে সত্যিই লেখক চমৎকার একটা বই উপহার দিয়েছেন অাশা কম্পিউটার বিজ্ঞান সম্পর্কিত অারো প্রয়োজনীয় বইগুলো অামাদের উপহার দিবেন',\n",
              " 'নাস্তিকদের মতবাদের উত্তম জবাব দিয়েছেন লেখক অারিফ অাজাদ যুক্তির ফুটিয়ে তুলেছেন অাস্তিকতা নাস্তিকতার পার্থক্য সুন্দর সাবলীল মার্জিত ভাষায় উপস্থাপনা অত্যন্ত প্রশংসনীয় বইটি পড়া শেষ থামতে মন চাইবে',\n",
              " 'ভাল বই আপনাদের সংগ্রহে রাখতে পার',\n",
              " 'এক কথায় অসাধারন ব',\n",
              " 'বই টা অসধারণ চিত্র গুলো রঙ্গিন ভাল',\n",
              " 'HTML 5 শেখার বইটি চেয়ে ভাল লাগলো আগেও কয়েকটা বই পরেছি বইটি সবচেয়ে রিসোর্চ ধন্যবাদ রাইটারকে',\n",
              " 'ফরেক্স ট্রেডিং শেখার বইটি ভাল লাগলো ফরেক্স ট্রেডিং শিখতে বই দিয়ে বইটি আপনাকে অ্যাডভান্স বিষয়ে আপনাকে হেল্প',\n",
              " 'বইটি উপকার অনেকের একটু সহযোগীতা চেয়েছিলাম ভালো সহযোগীতা পাইনি অবশেষে বইটি অনলাইনে সহযোগীতা',\n",
              " 'বইটি ভাল মানের হ',\n",
              " 'আউটসোর্সিং অত্যন্ত ভাল ব',\n",
              " 'লেখক ধন্যবাদ বই বের বইটি অনলাইন ইনকাম চায় সহায়ক',\n",
              " 'চমৎকার বই নাস্তিকদের বইটা পড়া লেখকের শুভ কামনা রইল',\n",
              " 'বইটি ভাল হয়েছে ভাল লেগেছে ওয়ার্ডপ্রেস শেখার ভাল বই',\n",
              " 'ব্লগ তৈরি বইটি ভাল বইটি পড়ে অল্প সময়েই সুন্দর ব্লগ ওয়েব সাইট তৈরি',\n",
              " 'PHP ডেভেলপার দের সুন্দর ব',\n",
              " 'বইটি সময়ের দারুন',\n",
              " '- কমার্স বিজনেস প্রতিষ্ঠিত চাচ্ছেন চমৎকার ব',\n",
              " '- কমার্স সুন্দর বই',\n",
              " 'বইটি ভাল মানের হয়েছে',\n",
              " 'বইটি প্রকাশ লেখকের সময়োপযোগী যুগান্তকারী পদক্ষেপ চমকপ্রদ তথ্য - উপাত্ত সিলেবাস এনালাইসিস দরকারি বইয়ের সন্নিবিষ্ট এতটা গোছানো কোথাও খুঁজে পাইনি আশা করছি চাকরির বাজারে টিকে থাকার লড়াইয়ে উওম গাইডলাইন বই লেখক প্রকাশক সবাইকে অসংখ্য ধন্যবাদ',\n",
              " 'খুবই ভালো বই প্রতিযোগীতামূলক পরীক্ষায় বই জরুরী',\n",
              " 'দরকারী একটা বই বাংলা ভাষায় এরকম বইয়ের অভাব রয়েছে লেখককে ধন্যবাদ জানাই বইটির',\n",
              " 'বাংলাদেশের মানুষের মন মননের বই ভিতরকার শক্তি অপশক্তি জানার বই বই পড়ুয়াদের পড়ার মত একটা বই',\n",
              " 'অসাধারণ',\n",
              " 'দ্য ক্যাডার বইটা গিফট পেলাম পড়েছি দারুন লেখা যানা ছিলো',\n",
              " 'প্রচণ্ড অলস একটা মানুষ ইংরেজী শিখাটা স্বপ্নের বিষয় গ্র্যামার শিখা শব্দার্থ মুখস্থ করাটা রীতি ভীতিকর ফেসবুক ঘাঁটতে ঘাঁটতে একসময় Vocabuilder সাথে পরিচয় শব্দ ভাণ্ডার সমৃদ্ধ ভোকাবিল্ডার কতটুকু সমৃদ্ধ গত 2 মাসের হিসাব দেখলে অনায়াসেই বোঝা যায় অত্যন্ত অলস একটা মানুষ শব্দ ভাণ্ডার সমৃদ্ধ আপনারা পারবেনই - দৃঢ় বিশ্বাস অসাধ্যটা একমাত্র সম্ভব হয়েছে ভোকাবিল্ডারের বদান্যতায় ধন্যবাদ কৃতজ্ঞতা ভোকাবিল্ডার প্রিয় ফরহাদ হোসেন মাসুম ভাইকে',\n",
              " 'ইংরেজী ভোকাবুলারী শেখার বইটি অসাধারণ জি টোফেল এক্সেমে ভালো স্কোর বইয়ের পাশাপাশি বই গুলোও পড়া উচিৎ',\n",
              " 'বইটি পড়ছি বই ভিডিও হেল্পফুল',\n",
              " 'বইটি নিতান্তই মানুষজনের কথা মাথায় লেখা | মাতৃভাষা রাষ্ট্রভাষা বাংলা সকলকে কমবেশি লিখতেই | যেটুকুই লিখবেন শুদ্ধভাবে লিখতে _ _ _ সকলের ভালোবাসা ডক্টর হায়াৎ মামুদ বইটি লিখেছেন | দৈনন্দিন কাজকর্মে নিঃসন্দেহে সকলেরই লাগবে বই |',\n",
              " 'বাংলা লেখার নিয়মনীতির অত্যন্ত প্রাঞ্জল উপাস্থাপনায় লেখা বই সুখপাঠ্যও বটে',\n",
              " 'অসাধারন বই বই হাতের কাছেই ভাল',\n",
              " 'গুড',\n",
              " 'অসাধারন বই এসচএসসি পরীক্ষার্থীদের সহায়ক',\n",
              " 'সুন্দর ব',\n",
              " 'জ্ঞানের বিপরীতে অজ্ঞতা বরাবরই শোচনীয়ভাবে পরাজিত প্যারাডক্সিকাল সাজিদ আবারও প্রমাণ লেখককে আল্লাহ্\\u200c উত্তম প্রতিদান দান করুন আগামীতে অনুরূপ বই সমাজকে উপকৃত দোয়া রইল',\n",
              " 'ভালো বই',\n",
              " 'প্রতিটি কাহিনীই তথ্য শিক্ষা মূলক সূচনা সবচাইতে আকৃষ্ট গল্প গুলো পড়ার',\n",
              " 'ছোট ছোট গল্প দিয়ে সাজানো চমৎকার বই জাপান আগ্রহী দিয়ে সময় ভালই কাটবে',\n",
              " 'অসাধারণ লেখনী জাপানে গিয়েও জাপান ঘুরে আসলাম প্রাঞ্জল লেখা একটানে পড়ে শেষ বাধ্য হলাম',\n",
              " 'অসাধারণ একটা বই আশায় আছি ২য় খণ্ডের আশায়',\n",
              " 'ছোট ছোট গল্প দিয়ে জাপানকে সুন্দর উপস্থাপন যায় বইটি পড়লে পারতাম',\n",
              " 'চমৎকার বই গল্প পড়ার বাকি গল্প পড়তে ইচ্ছা করবেই',\n",
              " 'অসাধারণ লেখা',\n",
              " 'ভ্রমণ প্রিয় মানুষ দের ভাল একটা ব',\n",
              " 'কবির সাথে নেপাল দার্জিলিং ভ্রমন খারাপ লাগলো ভ্রমনের পাশাপাশি খানিকটা ইতিহাসের বর্ননা থাকায় নেপাল সম্পর্কে জ্ঞান অনেকটা বাড়লো ধন্যবাদ লেখক আবিদ ফায়সাল',\n",
              " 'নাস্তিকদের উপযুক্ত জবাব বইটি দারুণ সংগ্রহে রাখার বই',\n",
              " 'তথ্যপূর্ণ বই ঘুরে বেড়াতে পছন্দ পছন্দের তালিকায় বইটি অবশ্যই শীর্ষে ধন্যবাদ আয়মান ভাইয়া মত ভ্রমণ পিপাসুদের দারুণ বই উপহার দেয়ার জন্যে',\n",
              " 'ভাইয়া বই টা জোস',\n",
              " 'বইটা খুবই ভালো হয়েছে আরো তথ্য থাকলে ভালো হতো',\n",
              " 'পশ্চিম সম্পর্কে জানার বইটা খুবই সহায়ক ভুমিকা পালন বিশ্বাস',\n",
              " 'এক কথায় দারুন',\n",
              " 'বইটি খুবই তথ্য বহুল সময়োপযোগী খুবই ভালো লেগ',\n",
              " 'প্রবাসী জীবনের অসঙ্গতির তথ্য ভিত্তিক বইটি উপহার দেবার সন্মানিত লেখককে অসংখ্য ধন্যবাদ',\n",
              " 'অসামান্য বইটার লেখককে অভিনন্দন',\n",
              " 'তরুণ প্রজন্মের একটা অনবদ্য রচনা',\n",
              " 'অনন্য লেখনি সহজ শব্দ চয়ন পশ্চিমের জটিল জীবন ধারার অসাধারন উপস্থাপনা নিমেষেই মুগ্ধ পাঠক লেখক সাধুবাদ জানাই অনন্য উপস্থাপনার',\n",
              " \"ধর্মীয় মতবাদের পড়া শ্রেষ্ঠ বই যেটা পড়ে এক বিন্দুও বিরক্ত লাগেনি ক্যটাগরি ' অন্যান্য বইগুলোর মত\",\n",
              " 'মার্জিত রুচি বুদ্ধির দীপ্তি অপূর্ব বাকচাতুর্য স্মিথ রসিকতায় পরিপূর্ণ পূর্বের চোখ পশ্চিমের মন পাঠক হৃদয়ে অমর হয়ে',\n",
              " 'অদ্ভুত এক ভালোলাগার বই',\n",
              " 'বইটি যুগোপযোগী অসাধারন ভালো লেগেছে',\n",
              " 'বইটি আসলেই চমৎকার',\n",
              " 'বইটা ভাল লেগেছে',\n",
              " 'লেখক মুক্তিযূদ্ধকে সাবলীল ভাষায় এতটুকু বিকৃত প্রকাশ তরুণ প্রজন্মের যেকোন মানুষের জন্যই বইটি উপযুক্ত বইটি মনের মাঝে সৃষ্টি স্বাধীনতার তীব্র আবেগ বইটি ছোট মাঝেই যতটুকু কন্টেন্ট লেখক নিয়েছেন কারো জানার ইচ্ছা রেফারেন্সগুলো এক কথায় লেখকের অন্যতম শ্রেষ্ঠ নিঃসন্দেহে',\n",
              " '২২ পাতার বইয়ের সুন্দর মুক্তিযুদ্ধের সত্যিকারের ইতিহাসটুকু ফুটিয়ে তোলা হয়েছে বোধ বইটি পড়লে বোঝা একদম সাবলীল ভাষায় লেখক ড মুহম্মদ জাফর ইকবাল মুক্তিযুদ্ধকে উপস্থাপন কারণে বইটি সকল শ্রেণীর মানুষের অবশ্যপাঠ্য বইয়ের দাবি রাখে fb turjo1996',\n",
              " 'মুক্তিযুদ্ধের ইতিহাস বিস্তৃত গুরুত্বপূর্ণ পৃষ্ঠাও মুক্তিযুদ্ধের ইতিহাস লিখতে শ্রদ্ধেয় জাফর ইকবাল স্যার সুন্দরভাবে সংক্ষেপে গর্বের ইতিহাসকে ফুটিয়ে তুলেছেন সত্যিকার অর্থেই ধন্যবাদ প্রাপ্য',\n",
              " 'বইটা খুবই ভাল বাংলাদেশের মুক্তিযুদ্ধের ইতিহাস সমন্ধে পারব',\n",
              " 'বইয়ের ভিতরে ইতিহাস জানার এক অসাধারন বই সঠিক ইতিহাস এক নিমিষেই পড়ে ফেলুন',\n",
              " 'ধন্যবাদ সাজিদ ভাইকে সুন্দর গঠনমূলক বইটি লেখার শুভ কামনা রইলো',\n",
              " 'যুদ্ধ শুধুই অস্ত্রহাতে জলে জঙ্গলে ছুটে বেড়ানো বোঝে বই পাঠ্য রাষ্ট্র স্বাধীনতা বুঝতেও বই অনন্য',\n",
              " 'বাংলাদেশের স্বাধীনতা যুদ্ধের ইতিহাস রচনায় গ্রন্থ নিঃসন্দেহে মূল্যবান সংযোজন বাংলাদেশের স্বাধীনতা যুদ্ধের ইতিহাসের খানিই আজও অনালোকিত অংশে আলোকপাত মূলধারা ৭১ সমর্থ ধারণা মঈদুল হাসান সঙ্গত কারণেই সমগ্র বিষয়কে বৃহত্তর প্রেক্ষাপটে উপস্থিত পর্যাপ্ত গবেষণা অপ্রকাশিত দলিলপত্রের ভিত্তিতে ঘটনার নিরপেক্ষ উপস্থাপনের উদ্দেশ্যেই',\n",
              " 'পাশের দেশ সম্পর্কে জানার বইটা পড়া দরক',\n",
              " 'বইটিতে পাঠক নতুনত্বের স্বাদ পাবে',\n",
              " 'অত্যন্ত নিখুতভাবে মোগল আমলের যাবতীয় ইতিহাস সুন্দরভাবে সত্য কথা উপস্থাপন হয়েছে বই টা পড়ে হয়েছে মোগল আমলেই আছি অপেক্ষা মোগলনামা দ্বিতীয় খন্ডের',\n",
              " 'লেখকের লেখা উপন্যাস হয়ে ইতিহাসের বই সাহসের প্রশংসা',\n",
              " 'ইতিহাস সত্যি পছন্দ বইটি ২য় খন্ডের অপেক্ষায় আছি',\n",
              " 'হিটলার সম্পর্কে পড়া অন্যতম সেরা বই হিটলারের পাশাপাশি বিশ্বযুদ্ধ দ্বিতীয় বিশ্বযুদ্ধ সম্পর্কেও বিস্তারিত লেখা হয়েছে খুবই তথ্যবহুল বই হিটলার বিশ্বযুদ্ধ সম্পর্কে পাঠ্য বই',\n",
              " 'ভালো বই প্রিন্টিং মিস্টেক দেখলাম বর্ণানুক্রমিক একটা সূচি রাখলে ভালো হতো',\n",
              " 'মনের সাথে সন্ধি সহজ কথা অপ্রয়োজনীয় ফেলনাও এক বড়ই মধুর যন্ত্রণা মুশকিলের আসান সোজা কথা প্রাসঙ্গিক ম্যাটেরিয়াল চর্চা মনের সাথে সন্ধি অসম্ভবও মনোসন্ধি রকমই প্রয়োজনীয় একটা বই মানসিক চাপ জীবনের একটা অনিবার্য বিষয় আজহারুল ইসলাম অত্যন্ত সহজ ভাষায় মানসিক চাপ মোকাবিলার পথ বাতলে দিয়েছেন সাইকোলজির বাইরে অন্যান্য পেশাজীবি মানুষের কাজের বই মানসিক চাপ মোকাবেলাযোগ্য কৌশলের সেগুলো আত্মস্থ নজির বইটিকে অবশ্যপাঠ্য তুলেছে',\n",
              " 'চমৎকার লেখা',\n",
              " 'ভালো বই পরিবারে বইটি প্রয়োজনীয়',\n",
              " 'জগত বিখ্যাত বই অসাধারন এক্সপেক্টেশনকেও ছাড়িয়ে বইয়ের প্রিন্ট ছিলো খুবই ভালো ঝকঝকে রকমারিকে ধন্যবাদ দ্রুত ডেলিভারির',\n",
              " 'বইটি আসলেই ভালো তৌহিদুর রহমান উদয়ের তিনটি বই প্রকাশিত হয়েছে পড়ছি দুটোই ভালো বই সেগুলো - - কণা কোয়ান্টাম পরিচিতি আইনস্টাইন আপেক্ষিকতা তত্ত্ব মহাবিশ্ব',\n",
              " 'বইটি এক কথায় অসাধারণ',\n",
              " 'শ্রদ্ধেয় আলী স্যারের অসাধারণ গল্পের বই লাবণী পয়েন্ট সার্থক গল্প ভালো লেগেছে প্রতিটা বই পড়ুয়া মানুষদের বইটা পড়া উচিৎ স্যারকে ধন্যবাদ এইরকম বই উপহার দেয়ার',\n",
              " 'ভাল লাগছে বইটি',\n",
              " 'বইটা বইমেলা কিনেছিলাম খুবই ভাল বই জানার আ',\n",
              " 'এক কথায় অসাধারণ আল্লাহ জাকারিয়া মাসুদ ভাইয়ের হাতে আরো বারাকাহ দিক',\n",
              " \"বাংলাদেশের রাজনৈতিক ইতিহাস পছন্দ ব্যক্তির উপযুক্ত বই মাওলানা ভাসানীর সময়ের সাপ্তাহিক পত্রিকা ' হক কথা ' সংকলন বই গবেষণার দিবে বইটি\",\n",
              " 'বইটা পড়ে শিখলাম দাবায় অাগ্রহীদের বইটা পড়া',\n",
              " 'শতদ্রু সাহেববাবুর - বায়োলজি বারো বছর বয়সী কিশোর শতদ্রু জেনেটিক্স নামক এতো জটিল জিনিসেও এতো প্রাণ থাকতে বই পড়লে বোঝা এক কথায় চমৎকার',\n",
              " 'খুবই ভালো বই শিখছেন',\n",
              " \"হুমায়ুন আহমেদের এক অনবদ্য সৃষ্টি মধ্যাহ্ন ইতিহাসের সময়টায় গিয়েছিল লেখকের সাথে পড়া শেষ হওয়ার ' ' ইশ স্যার তাড়াতাড়ি শেষ ফেললেন একটু লিখলে হতো\",\n",
              " 'সহজ সাবলীল লেখা মন ছুঁয়ে লেখা',\n",
              " 'কাজের একটা বই',\n",
              " 'বই সার্থকতা পাঠকের হৃদয় ছুঁয়ে যায় পাঠক নিজেকে বই অংশ ফেলে মনোপাখি পুরোটাই পেরেছে লেখকের শুভকামনা',\n",
              " 'আজকেই পড়া শেষ করলাম এক কথায় অসাধারণ লেখকের আগের লেখা জাদুকাঠি বইটি পড়েই অপেক্ষা করছিলাম লিখছেন লেখককে চিনিনা লেখার ধরন অতি সরল অযথা অবান্তর কথা কম যেটুকু দরকার সেভাবেই লেখা প্রচুর এগজাম্পল দিয়েছেন ওয়ার্কশিটও বুঝলাম চাপ ফিল কিভাবে চাপ ডিল করব টুলস টেকনিকগুলো ইফেক্টিভ হয়েছে বাংলায় এরকম বই যেকারও উপকারি লেখককে ধন্যবাদ আশা করছি আরো লিখবেন সাইকোলজিক্যাল বই প্রয়োজন বিদেশি বইয়ের বাংলা অনুবাদ আসলে বাংগালিকে বুঝতে',\n",
              " 'বেষ্ট ওয়ান',\n",
              " 'দেশের বিশ্ববিদ্যালয়ে ধর্ষণকে কেন্দ্র বইটি লেখা সরকার পন্থী যোগ্যতাহীন এক উপাচার্যের পোষ্য এক ছাত্র নেতার ধর্ষণকে ধামাচাপা দেয়ার অভিযোগের গুরুত্ব এড়িয়ে শিক্ষার্থীদের অসাধারণ আন্দোলন ঘটনার ধারাবাহিকতা পাঠককে আচ্ছন্ন রাজনীতি কিভাবে বাংলাদেশের বিশ্ববিদ্যালয়ের পরিবেশ একেবারে নষ্ট কুৎসিত খেলাকে উজ্জীবিত - তারই এক অতুলনীয় উপন্যাস নোংরা মানুষদের স্বার্থের বাণিজ্যপ্রবৃত্তি আচরণ নিরীহের অন্যায় - মিলিয়ে কাহিনীর মধ্য জাফর ইকবাল স্যার সাহসী পট চিত্রিত উনার অন্যতম সেরা বই',\n",
              " 'বইটি চমৎকার দুর্বোধ্য বিষয় সহজ হয়েছে ঘটনা পারলাম আশা অন্যদেরও ভালো লাগবে',\n",
              " 'ভালো লাগলো',\n",
              " \"মত ৯০ ' দশকে জন্ম ১৯৭৫ নভেম্বরের অভ্যুত্থান সম্পর্কে একটা জানি বইটা সকল পাঠককে সহায়তা আশা\",\n",
              " 'আসলে অসাধারন বই',\n",
              " 'মুক্তিযুদ্ধের বাস্তব ঘটনা চরিত্রের সমন্বয়ে অভিনব সুখপাঠ্য হৃদয়ছোয়া ভাষা শৈলীর এক অসাধারণ উপন্যাস',\n",
              " 'ভাল বই উপস্থাপনা সাবলীল হৃদয়গ্রাহী',\n",
              " 'সিডিসহ চমৎকার বই',\n",
              " 'বইটি খূবই উপকারে লেগেছে ঘরে MS office শিখতে বইটি অবশ্যই কিনুন',\n",
              " 'অসাধারণ বই ধর্ষণের কারণগুলো সুন্দর হয়েছে সমাধান দেয়া হয়েছে সকলের পড়া উচিৎ',\n",
              " 'সাধারণত আত্ম - উন্নয়নমুলক বইগুলো ইংরেজি বইয়ের অনুবাদ বাংলাদেশি কন্টেক্সটে বেশিরভাগ সময় যায় সাইকোলজিক্যাল বইগুলো কঠিন ভাষায় লেখা বইটি উপোরোক্ত ত্রুটি মুক্ত লেখক ঢাকা বিশ্ববিদ্যালয়ের একজন তরুন শিক্ষক মনোবিজ্ঞানী হিসেবে প্রাঞ্জলভাবে অসংখ্য সমসাময়িক উদাহরণ দিয়ে বক্তব্যগুলো ধরেছেন সত্যিই প্রশংসনীয় বইটি পড়তে মজা লাগে অংশে তেরটি অধ্যায় মুলত কীভাবে সাফল্য অর্জন যায় সাফল্য অর্জনের পথে সাইকোলজিক্যাল সমস্যায় পরি কীভাবে সেগুলো বের হব বিস্তারিত দরকারি হয়েছে দ্বিতীয় অংশটা একটূ গভীর সাইকোলজিক্যাল বিষয়গুলো আলোচনা তিনটি অধ্যায় শেষে একটা চমৎকার পরিশিষ্ট বাংলাদেশে কোথায় মানসিক স্বাস্থ্যসেবা পাওয়া বিস্তারিত ঠিকানা এক কথায় বইটি যেকোনো বয়সের পাঠকের পাঠ্য লেখককে ধন্যবাদ এরকম বই উপহার দেয়ার',\n",
              " 'বইটা সেইরকম',\n",
              " 'ছোটবেলায় পড়া থাকার মত ব',\n",
              " 'এক কথায় অসাধারণ যেকোন লেখকদের পড়া অবশ্যই কর্তব্য',\n",
              " 'মাশরাফি লেখা অসাধারণ বই পড়বেন তিনিই ইন্সপায়ার্ড ভালবাসা রইল রাকিব আল হাসানের',\n",
              " 'অসাধারন রকটি বই আবেগের সাথে রহস্য যুদ্ধ মিলে - মিশে একাকার হয়ে গ',\n",
              " 'ভালো',\n",
              " 'দক্ষতা অভিজ্ঞতা দুইটা ভিন্ন জিনিস দুইটাকে সমান তালে লাগাতে পারবেন তখনই একজন জীবন অসাধারণ জীবন লাভের টিকিটটি পাবেন দুইটাকে সুন্দর ব্যবহারের যেটা দরকার সুকৌশল মাস্টার পাসওয়ার্ড বইটিতে খুবই সুন্দর সফল হবার কৌশলগুলো সুন্দরভাবে বর্ণনা আসে বইটি খুবই মজা পেয়েছি জনাব গাজী ইয়ার মোহাম্মদ জনাব এম মোর্শেদ হায়দার সাহেবকে অসংখ্য ধন্যবাদ সুন্দর একটা বই উপদের দেয়ার',\n",
              " 'অসাধারণ উপন্যাস সকলের পড়া উচিৎ',\n",
              " 'ভালো লেগেছে',\n",
              " 'এক কথায় অসাধারণ তরুণ প্রজন্মের অত্যন্ত গুরুত্তপূর্ণ বই',\n",
              " 'সাধারন বইয়ের আকারে ছোট পৃষ্ঠা সংখ্যাও গুটিকয়েক ছোট বইখানায় জাফর ইকবাল স্যার মুক্তিযুদ্ধের ইতিহাস ধরেছেন টা অবিশ্বাস্য একমাত্র জাফর ইকবাল স্যার পক্ষেই সম্ভব মুক্তিযুদ্ধের সামগ্রিক রুপ শহীদদের আত্মত্যাগ রক্তস্নাত বাংলাদেশের কথা লেখক বিধৃত লেখক ছোট বই জাফর ইকবাল স্যার ধন্যবাদ',\n",
              " 'ভয় পাইলাম বইটা পড়ে বইটা পড়ে মজা পাইলাম',\n",
              " 'বাংলাদেশের মুক্তিযুদ্ধকে পাঠ্য বই আলোচিত সময় ১৯৭১ - মার্চ তেকে ১৯৭২ - ১০ই জানুয়ারীতে শেখ মুজিবরের স্বদেশ প্রত্যাবর্তনকাল বিষয়বস্তু মুক্তিযুদ্ধের পরিকল্পনা উদ্যোগ মূল ঘটনাধারা লেখক সময়টায় তৎকালীন প্রধানমন্ত্রী তাজউদ্দিন আহমদের নীতি পরিকল্পনা প্রণয়নের জড়িত পড়েছিলেন সংগ্রামের সাংগঠনিক পরিকল্পনা ব্যবস্থাপনার দিকগুলো সম্পর্কে অবহতি বর্ণনা',\n",
              " 'মৃত্যু কিয়ামতের পথযাত্রায় সকলের যথাযথ প্রস্তুতির বইটি হয়ে উঠুক এক অনন্য সংযোজন অনুপ্রেরণা',\n",
              " 'ভাল একটা বই',\n",
              " 'বইটি পড়ে ভালো লাগলো',\n",
              " 'বাচ্চাদের ভালো একটা ব',\n",
              " 'অসাধারণ বই সকলের পড়া',\n",
              " \"ছোট একটা বইয়ের এতগুলো মানুষের অনন্য কৃর্তি পড়ি নি বইয়ের এগারটা অধ্যায়ের প্রতিটাই ভাল লেগেছে প্রতিটি মানুষই অনন্য সবচেয়ে ভাল লেগেছে গোপালচন্দ্র ভট্টাচার্য উপেন্দ্রনাথ ব্রক্ষচারী শম্ভুনাথ দে ' অধ্যায়\",\n",
              " 'অসাধারণ একটা বই',\n",
              " 'ভালো বই গল্পগুলো মৌলিক বলেই হয়েছে সাবলীল ভাষায় লিখিত গল্পগুলোর কয়েকটির প্রেক্ষাপট বাংলাদেশ বিষয়টি বলেই হয়েছে তাছাড়া গল্পগুলোর ভিত্তি চিকিৎসা বিজ্ঞান চিকিৎসা বিজ্ঞান নির্ভর সায়েন্স ফিকশন বইটি অবশ্যই প্রশংসার দাবী রাখে',\n",
              " 'অসম্ভব সুন্দর বই',\n",
              " 'পারফেক্ট মানের অনুবাদ',\n",
              " 'চমৎকার বই রিরি মোশতাক আহমেদের লেখা অন্যতম বই গল্পটি মূলত গোয়েন্দা কাহিনী রচিত গোয়েন্দাগিরির সাথে বৈজ্ঞানিক কল্পনা যোগ কথাই রহস্যের সাথে রয়েছে আতঙ্ক তারও সাথে বৈজ্ঞানিক কল্পকাহিনি বইটিকে রুপ দিয়েছে কথা বইটি অসাধারণ নিশ্চিত বইটি কিনে হতাশ',\n",
              " 'অসাধারণ চমৎকার',\n",
              " 'মিনার ভাইয়ার উপন্যাস জীবনে পড়া শ্রেষ্ঠ উপন্যাস গুলোর',\n",
              " 'এক কথায় বইটার ইডিটিং ড্রইং ফাটাফাটি পড়ার সময় হচ্ছিল জেন DC Marvel কমিক্স পড়ছি মতে ঢাকা কমিক্স বই পড়া অবশ্যই জারা কমিক্স পাগলা বলছি',\n",
              " 'বলব প্রত্যেক পেশার মানুষের পড়া খুবই গুরুত্বপূর্ণ',\n",
              " 'ছেলে - মেয়ে বিবাহিত অবিবাহিত অত্যন্ত উপকারী একটা বই',\n",
              " 'অসাধারণ একটা বই বইটি পড়ে মাইক্রোকন্ট্রোলার খুঁটিনাটি সবকিছু পেরেছি পেরেছি মাইক্রোকন্ট্রোলার এইভাবে লেখা বই দেখিনি ধন্যবাদ খুশবু আপু রাকিব ভাইয়া এইরকম বই লেখার',\n",
              " 'ভাল বই লেখক প্রাঞ্জলভাবে উপস্থাপন প্রাচীন ইতিহাস আগ্রহ লুফে নেয়া উচিৎ',\n",
              " 'ভ্রমণ সাহিত্যের এক অনবদ্য সৃষ্টি',\n",
              " 'লাবনী পয়েন্ট বইটা ভাল লাগছে রাতে বইটা পড়বার ঘুমই আসে বইটা জানি হুমায়ুন আহমেদ স্যারকে খুজে পেলাম আলী স্যারকে ধন্যবাদ স্যার পরের বই অপেক্ষায় রইলাম',\n",
              " 'পড়া অন্যতম সেরা বই ভালো লেগেছে',\n",
              " 'বই এক পাতা পড়ার পরের পাতা পড়ে উঠতে মন চাইবে',\n",
              " 'বইটি অসাধারন লেগেছে চেয়ে আনন্দ দিয়েছে রতনের চরিত্র',\n",
              " 'ভালো হয়েছে',\n",
              " 'অসম্ভব ভালো বই এক পরা আসা ভালো লাগবে',\n",
              " 'ভাল একটা বই',\n",
              " \"শচীনের বই পড়া শেষ রেটিং ভালোই বিশেষণ পদের প্রাচুর্যের আবরণে ফাঁকিবাজি চালাকি হয়েছে পাঠকের সাথে পরিসংখ্যান নির্ভর শাহাদুজ্জামানের ' একজন কমলালেবু ' - কোটেশনবহুল ফিচার আমেজের লেখা শচীনের বইয়ে ব্যক্তি শচীনকে আরেকটু ভালো আশা ছিলো শচীন প্রেমীরা পড়তে মন্দ লাগবে আশা\",\n",
              " 'ইতিহাস চেয়ে সেরা বই এইটা',\n",
              " 'বাংলা শব্দের বানান শেখার চমৎকার বই',\n",
              " 'বিশাল এক পরিবারের ঘটনা বইটি মা মারা গেছেন ছোট বড় ভাই বোনেদের মাঝে নানারকম ঘটনা নিজস্বতা মাথা উচু চলার জাফর ইকবাল মাঝে মাঝে বাচ্চাদের দুষ্টুমি শিখিয়ে ফেলেন সত্য কথা বাবা ব্যাস্ত রোজগারে বড় বোন বিভিন্নভাবে চলেছে হতাশায় মুষড়ে পড়া পরিবারটিকে জাগিয়ে তোলার এরই মাঝে ঘটে নানারকম ঘটনা কিছূ বিপদ মরে রাখার মত মুহু\\u200c\\u200c\\u200c\\u200c\\u200c\\u200c\\u200c\\u200c\\u200cর্ত মিলিয়ে বইটি ভাল',\n",
              " 'ভালো',\n",
              " 'বইটি হাতে নেয়ার শেষ বইটি রাখতে নি সুন্দর সাবলীল ভাষায় লেখা হচ্ছিল একজন কথা বলছেন দিকনির্দেশনা দিচ্ছেন',\n",
              " 'প্রিয় বই গুলোর চমৎকার থ্রিলার',\n",
              " 'বইটা পড়া শেষ করলাম ভালই লাগলো বিজ্ঞানের বইটা লেখা হয়েছে',\n",
              " 'অর্ডার করেছিলাম হাতেও পেয়েছি সম্পূর্ণ পড়েও শেষ করলাম অসাধারণ রকমারি সার্ভিস ভাল বইটির কভার পাতা গুলো উন্নত পুরাটাই ভাল',\n",
              " 'শেয়ার বাজার জিজ্ঞাসা বইটি অসাধারণ শেয়ার বাজার বিষয়ক অজানা প্রশ্নের এখান সহজে পারলাম নবীন বিনিয়োগকারী সহায়ক বইটি যুগোপযুগি হয়েছে',\n",
              " 'সুন্দর লিখা মনোমুগ্ধকর',\n",
              " 'বরাবরের ভালো লেগেছে শাহরিয়ার সাহেবের বই',\n",
              " 'জানার বই',\n",
              " 'স্যার আপনাকে অসংখ্য ধন্যবাদ বইটি দরকারি চমৎকার',\n",
              " 'নবীন সংবাদকর্মীদের প্রয়োজনীয় বই',\n",
              " 'এক কথায় চমৎকার কথায় চমৎকার রেফারেন্সগুলোতে আরো মনোযোগ দরকার ছিলো উইকি রেফারেন্স কতিপয় নাস্তিককে উইকির চরম ভক্ত হিসেবে পাওয়া যায় ইসলামি লেখনীর জগতে বই স্বীয় স্থানে উজ্জ্বল হয়ে রবে ইন শা আল্লাহ',\n",
              " 'ভাল লেগ',\n",
              " \"বই পড়লেই বই ১০ পড়ার আরেকবার পড়ি - বিদ্যুৎ মিত্রের ' সঠিক নিয়মে লেখা পড়া বই যেইগুলা পড়া - বইটা তৃতীয় পর্যায়ের বই তারাই উপকৃত জীবন যুদ্ধে পুরোপুরি বিপর্যস্ত পরাজিত - আশা বই ৫৪ পৃষ্টায় লেখক পড়াশোনার পদ্ধতি সংক্রান্ত আলোচনার এক পর্যায় সমাজে নারীদের অবস্থান কথা তারপরেও কিঞ্চিৎ আলোচনা তও অগোছালো ভাসা ভাসা বিদ্যুৎ মিত্রের ' সঠিক নিয়মে লেখা পড়া ' বইটি পড়ুন ছাত্র - জীবন পাল্টে\",\n",
              " 'অসাধারণ সাহিত্য ভঙ্গিতে লেখা হয়েছে বইটা চমৎকার লেগেছে',\n",
              " 'ভালো লাগলো পড়ে একদিনেই পড়ে শেষ ফেললাম',\n",
              " 'সফলতার সোপান বইটি পড়লাম পারলাম বইটি পড়ে বিশ্বের প্রতিষ্ঠিত ব্যক্তিরা কীভাবে জীবনে প্রতিষ্ঠিত হয়েছেন সুন্দরভাবে বইটিতে লেখা রয়েছে বিশ্বাস বইটি মনোযোগ দিয়ে পড়লে প্রতিটি পাঠক উপকৃত লেখার ভাষাও অত্যন্ত প্রাঞ্জল ধন্যবাদ লেখক ড ইবনে আশরাফ সাহেবকে এতো সুন্দর বই লেখার জন্যে',\n",
              " 'আলহামদুলিল্লাহ অত্যন্ত সুখপাঠ্য সুন্দর ফরম্যাটের বই বইটি সংগ্রহে সাধ্যমত পরিচিতজনদের শিশু কিশোরদের উপহার দেয়া',\n",
              " 'প্রোগ্রামিং সহজে শেখানো হয়েছে বইটি বিস্মিত হয়ে পারছি ধন্যবাদ ফয়সাল ভাইকে সুন্দর বই লেখার',\n",
              " 'অসাধারণ কিশোর উপন্যাস পার্সোনালি ভালো লেগেছে সমুদ্র পাড়ের একজন কিশোরী মেয়ের জীবন জলোচ্ছ্বাসের সাথে যুদ্ধ টিকে নির্মম পৃথিবীর সাথে পরিচয় পুরোটাই ভালো লেগেছে',\n",
              " 'বাংলা সাহিত্যে এক অনবদ্য সৃষ্টি হাজারও মাইল পেরিয়ে সাইমুম',\n",
              " 'খুবই সুন্দর ব',\n",
              " 'ইশতিয়াক ভাই বইটা পড়ে যাচ্ছি একাধারে ভালো লাগছে',\n",
              " 'যতটুকু প্রয়োজন ততটুকু আয়োজন হুম কথার সাথে কাজের মিল ভাল বই',\n",
              " 'যেকোন প্রতিযোগিতামূলক পরীক্ষার আজকের বিশ্ব তথ্যবহুল নির্ভরযোগ্য বই পড়ে উপকৃত হচ্ছি সবসময়',\n",
              " 'ইতিহাস সুন্দর উপস্থাপন যায় উজ্জ্বল উদাহরন বই',\n",
              " 'অসাধরন বইটি জীবন দিয়েছে জীবনটা আনন্দের কোর্স - বইটা পড়লে জীবনে আনন্দ থাকতনা',\n",
              " 'অসাধারন এক বই',\n",
              " 'অসাধারন ব',\n",
              " 'সাইন্স ফিকশন খোলা মন পড়তে হই আগের সাইন্স ফিকশন আরো দরকার ক্লাসিক হিসেবেই বইটি পড়া',\n",
              " 'জীবনবোধের অন্যধারায় ভাবতে উদ্বুদ্ধ অসাধারণ লেখা',\n",
              " 'কিশোর পাঠকদের জন্যে অসাধারন লেখা কল্পনার রাজ্যে হারিয়ে ভালো লাগে বই অবশ্যই ভালো লাগবে প্রিয় শহর ছেড়ে প্রিয় বন্ধুদের ছেড়ে গহীন অরন্যে পরিবারের সাথে থাকতে দিয়ে আস্তে আস্তে গল্পের মোড় ঘুরে যায় রবিন্সন ক্রুসো সুইস ফ্যামিলি রবিন্সন ধরেনের বই ভালবাসেন পড়ে বাঙালি ঘরানায় স্বাদ পাবেন আপন পারার মত চরিত কল্পনা ভালো লাগার মত বিবরন শাহরিয়ার কবির স্যারের অন্যতম বই',\n",
              " 'দুর্দান্ত সকলেই কিনুুন',\n",
              " 'অসাধারণ সুন্দর বই পড়া জাযাকাল্লাহু খাইরান',\n",
              " 'বইটি চমৎকার লেগেছে',\n",
              " 'ফিলিস্তিনের ৭০ বছরের ইতিহাস সম্পর্কে স্বচ্ছ ধারণা দিবে ফিলিস্তিনের লুকানো ভালবাসা হৃদয়ে আঁচড় কাটবে প্রতিটি পাতায় পাতায় কিভাবে বংশ পরম্পরায় জাতি নির্যাতিত বারং কিন্তুু দেখার শেষ ভাল লাগবে ৩৫২ পৃষ্ঠার বইটি ত্রিশ পৃষ্ঠা লেখিকা সুজান আবুলহাওয়ার দিনের গবেষণার ফসল যায় তথ্য ঐতিহাসিক লেখকের বই ঘাটাঘাটি ধন্যবাদ দিয়ে লেখার দক্ষতাকে ছোট অনুবাদক নামুজ সাকিব ধন্যবাদ দিয়ে ছোট করবো অসাধারণ অনুবাদ হৃদয় জয় সময় লাগে ইহুদি কর্তৃক নির্যাতিত ফিলিস্তিনের ইতিহাস অনেকটা দেশে আশ্রয় মিয়ানমারের রোহিঙ্গা জাতির নির্যাতনের মিল পেয়েছি দেরি পড়ে ফেলুন হাদিয়া দেওয়ার অসাধারণ বই',\n",
              " 'রম্য গল্পের চমৎকার সংকলন বইটি পড়ার মুজতবা আলীর ভক্ত হয়ে গিয়েছি বাছাই গল্পগুলো একত্র বইটি ভালো লাগার কারনই ভাষাশৈলী একটু কঠিন হুমায়ূন আহমেদ মতন সরল',\n",
              " 'ফাটাফাটি একটা ব',\n",
              " 'শাহরিয়ার আংকেলের লেখা কথা বরাবরের দারুন',\n",
              " 'লটারির টিকেটে তিরিশ লাখ টাকা পুরস্কার পাবার ফরাসত আলি বন্ধু ফারুক বখত বাচ্চাদের একটা স্কুল বানাবেন বাচ্চারা হাসতে হাসতে খেলতে খেলতে পড়বে হারুন ইঞ্জিনিয়ারের যুগান্তকারী আবিষ্কার প্লাস্টিজনা তৈরি স্কুল মূল কাঠামো একটু সমস্যা স্কুলঘর দাঁড়িয়ে থাকল মাটি আকাশের উঠে কাত অবস্থায় স্কুলের নাম পথচারী মডার্ন স্কুল যেসব বাচ্চাকাচ্চারা রাস্তাঘাটে ঘুরে বেড়ায় পড়াশুনার স্কুল এইসব পথচারী বাচ্চাদের মজার কর্মকাণ্ড লেখা বইটি খুবই মজার',\n",
              " 'বাংলায় ছোটদের সেরা প্রোগ্রামিং ব',\n",
              " 'তথ্যবহুল বই অজানা তথ্য পারলাম বাংলা ১৩৬৯ সালে ইতিহাস পরিষদের পুরস্কার পাওয়া বই কখনো কারো বইয়ের নাম লেখকের নাম শুনিনাই ইতিহাস সম্পর্কে আগ্রহী পাঠ্য',\n",
              " 'ভালো লেগেছে বই ধন্যবাদ ফরিদ পাবলিকেশন্স সুন্দর বই উপহার দেবার',\n",
              " 'ভালোবাসা',\n",
              " 'একটা বইয়ের অপেক্ষা করছিলাম ধন্যবাদ পার্থ সারথি কর ভাই চমৎকার একটা বই দেবার নতুনদের আসবেই',\n",
              " 'ভালো ব',\n",
              " 'ভাল বই ইতিহাস সাহায্য বিশ্লেষণে কিছুটা পশ্চিমা প্রভাব রয়ে',\n",
              " 'মার্ক টোয়েন টম সয়ার দুঃসাহসিক অভিযান বই অনুপ্রাণিত হয়ে লেখা মুহম্মদ জাফর ইকবাল সর্বশ্রেষ্ঠ বই গুলোর শৈশবের দুরন্তপণা আনন্দ এ্যাডভেঞ্চার মিলিয়ে অসাধারন বই',\n",
              " 'অসাধারন বই এইরকম আরো বই চা',\n",
              " 'অসাধারণ একটা বই চেয়েও অসাধারণ শেষের টুইস্ট',\n",
              " 'বই পড়ে খুবই মজা লেগেছে কিভাবে মজা গল্পের প্রোগ্রামিং শেখা যায় বই পড়লে বোঝা অসাধারণ বই কঠিন বিষয়গুলো অতি সহজেই বোঝানো হয়েছে ধন্যবাদ এরকম বই মাঝে আসার',\n",
              " 'চমৎকার বই লেখকের এরকম বই আরো আশা করছি',\n",
              " 'অত্যন্ত ভালো অনুবাদ নোম চমস্কির আরো কয়েকটা বইয়ের অনুবাদ চাই',\n",
              " 'আলহামদুলিল্লাহ্\\u200c ভাল বই শেখার দামও সাধ্যের চাই আপনারা এরুপ আরো বই কম দামে বের মানুষ সহজে ইসলামের আলো পেতে - জাযাকাল্লাহ',\n",
              " 'একটু পড়ে শেষ করলাম কাহিনী টা দারুন লেগেছে সাথে থ্রিলার ছিলই সমাজ লেখকের সচেতনতাও ফুটে উটেছে অপরাজনীতি ইয়াবার কোপানলে পড়া যুবসমাজ আধুনিক পোলাপাইন এগুলোকে কাহিনীতে ভালোভাবে ধরতে পেরেছেন কথা বইটা ভালো লেগেছে',\n",
              " 'মুক্তি যুদ্ধ সম্পর্কে পড়া সেরা বই পারলাম গোপন অজানা কথাও জানলাম',\n",
              " 'পাশের দেশ সম্পর্কে জানার বইটা পড়া দরক',\n",
              " 'বইটিতে পাঠক নতুনত্বের স্বাদ পাবে',\n",
              " 'মুক্তি যুদ্ধ সম্পর্কে পড়া সেরা বই পারলাম গোপন অজানা কথাও জানলাম',\n",
              " 'আশা করেছিলাম ততটা আশাহত হয়েছি বলব প্রত্যাশার সাথে প্রাপ্তির ঘাটতি লেখক প্রচুর গবেষণা লিখেছেন বোঝাই যায় দারুণ একটা প্লট হওয়া সত্ত্বেও মাঝারি মানের হিস্টোরিকাল থ্রিলার ব্যক্তিগত রেটিং ৩ ৫',\n",
              " 'অনুবাদ খারাপ অনুবাদকের লক্ষ্য আরো বই অনুবাদ skill development আসতে টাকা দিয়ে কিনে গারবেজ পড়া খুবই বিরক্তিকর',\n",
              " 'অনুবাদকৃত বই মন গড়া লিখা বই বাস্তব জ্ঞান বই রচনা ইচ্ছা টা ভালো অনুবাদ নাম এরকম রচনা ফজলে রাব্বি সাহেবের কোনো বই কিনব ৬৪ বই রচনা এরকম মিশ্রণ কিনবে',\n",
              " 'অনুবাদকের বিষয়ে বলার কটা বই কিনে পরলাম অযথা টাকা নষ্ট করলাম ফজলে রাব্বি ভাই অনুবাদ সমন্ধে ধারণা',\n",
              " 'বইটির অনুবাদ খুবী বাজে পরিমার্জন সংস্করণ র্নিভুল কপি সংগ্রহ করবো অবশ্যই রিভিউ জানাবেন',\n",
              " 'বইটি আগ্রহের সাথে কিনেছিলাম কিন্ত যেমনটা ভেবেছিলাম তেমনটা রাজিব আহমেদ লেখা গুণ ভালো',\n",
              " 'বইটি ভালো নিয়েছিলাম সমস্যার সম্মুখীন হলাম অনুবাদ টাও একটা ভালো নি আরো ভালো পারতো বইটির অনুবাদ মলাটে দুইবার চেঞ্জ পরও সমস্যা পেয়েছি খুবই অসন্তুষ্ট বইটি দয়া আরো ভালো করুন পরবর্তী সংস্করণ তৈরি',\n",
              " 'খুবই বিরক্তিকর বই বইটি পরি কথাগুলো বোঝা আশা অনুগত বইটি সুন্দর তুলব',\n",
              " 'উপন্যাস ইতিহাস আত্মজীবনী অখাদ্য',\n",
              " 'অনুবাদ প্রাঞ্জল পড়তে ভালো লাগেনি',\n",
              " 'খুবই দুঃখজনক বইটি বেস্ট সেলারের তালিকায় গুরুত্বপূর্ণ হয়নি রকমারির প্রচারের কারণে কিনেছিলাম একদম ভাল লাগেনি',\n",
              " 'বইটি শুনেছি জনপ্রিয় বই বইটি পড়ে ভালো লাগেনি আশা করছিলাম বইয়ের মধ্য শিক্ষানীয় বিষয় পাব পাইনি',\n",
              " 'দুর্বল বাজে অনুবাদ প্রকাশিত বইটা পড়া পারতাম কষ্টে পৃষ্ঠা পড়ার আগ্রহ হারিয়ে ফেললাম সুযোগ থাকলে বইটা ফেরৎ দিতাম',\n",
              " 'জীবনে বাজে অনুবাদের বই পড়ি পুরো টাকা টাই জলে অনুবাদটা কতোটা বাজে একটা উদাহরন দেই একটা লাইন ঈশ্বর অর্খানের ওসমানের ছেলে সাম্রাজ্যকে দীর্ঘস্থায়ী করুন লাইনটা হওয়ার কথা ঈশ্বর ওসমানের ছেলে অর্খানের ছেলের সাম্রাজ্যকে দীর্ঘস্থায়ী করুন',\n",
              " 'বাজে অনুবাদ দেখি টাকা গুলো জলে গুগল ট্রান্সলেট অনুবাদ বসিয়ে',\n",
              " 'ইউ অনুবাদ এতটা বাজে কল্পনাও করিনি',\n",
              " 'অসাধারণ লেখনী',\n",
              " 'নাহ ইউপিএলের ভার্সনটা সুন্দর অনুবাদের মান নিম্ন বাইন্ডিং + পেইজ কোয়ালিটিও ভালো মানের অনুবাদ কেমন ছাড়া ছাড়া লাগলো',\n",
              " 'এতটা খারাপ অনুবাদ আশা করিনি প্রচ্ছদ সুন্দর হয়েছে অনুবাদ ততটাই অখাদ্য ইউপিএল ধরনের অনুবাদ আশা করিনি',\n",
              " 'ফন্ট ভেঙে মুদ্রণ প্রমাদ হয়েছে একটাও অযত্ন অবহেলায় প্রকাশিত',\n",
              " 'শব্দশৈলীর মত প্রকাশনী রকমারির মত বড়মাপের সাইট কিভাবে এরকম বই প্রকাশ বোধগম্য কন্টেন্ট ক্যাব অন্যান্য ব্লগ কপি খোজ একটা গ্রুপ পারলাম লেখক কিশোর এক ছেলে অবজ্ঞা করছি ১ম শ্রেণীর একজন ছাত্র বই লেখলেও খুশি হব ভাল আইডিয়াই বিজনেস বিজনেস বই লিখেছে কপি বইমেলা লেখক সমাজ খুবই লজ্জাজনক একজন লেখক হিসেবে মাসুদ আনসারির পরামর্শ রইল কপি বই প্রকাশ ভুল তথ্য দিয়ে মানুষকে বই বিমুখ জানুন বুঝুন শিখুন লিখুন উন্নতি পাঠকগণদের ভাল',\n",
              " 'বাজে অনুবাদ',\n",
              " 'অনুবাদকের আপাতত অনুবাদ বন্ধ প্রচুর ইংলিশ অনুশীলন স্কিল আসলে অনুবাদ পাঠক রা ফ্রি নিচ্ছে মান রিচ রাখতে সিনসিয়ার',\n",
              " 'খারাপ আনুবার জীবনে পরিনাই এক পেজে একজন মানুষের নাম তিন বানানে লেখে প্রতিটা লাইনে কম ভুল',\n",
              " 'যায়গায় আক্ষরিক অনুবাদ খুবই খারাপ লেগেছে রিভার গড মত প্রাঞ্জল অনুবাদ হয়নি কাহিনী খুবই জটিল অনুযায়ী অনুবাদ ভালো হয়নি অরিজিনাল ইংলিশ ভার্শনটি পড়ার জন্যে অনুরোধ থাকলো',\n",
              " 'পড়লাম বইটা মাঝখানে কিছুটা বোরিং হয়েছে অনুবাদকের ভালো অনুবাদের চোখে পড়ার মত জায়গায় ভুল দৃষ্টিকটু',\n",
              " 'ফ্রিল্যান্সিং সাথে ইউটিউবের সম্পর্ক টা কই মাথায় ধরতেছে বই লিখলো মজা লইলো এইটাই বুঝলাম দুনিয়ার আজেবাজে জিনিস ঢুকাইয়া রাখছে',\n",
              " 'খুবই দূর্বল লেখনী গভীরতা বললেই ভিডিও তৈরি বই লেখা সারা পৃথিবীতে ফেসবুক বর্জনের ডাক বই অপ্রাসঙ্গিক হয়ে উঠবে শিগগিরই',\n",
              " 'ভাই এতো বিচ্ছিরিভাবে লিখেছেন শরীরের লোম দাড়িয়ে পড়তে বানান ভুল কেমন লেগেছে কাটাকাটি ভালো লেগেছে চাইলে গল্প আরো বড় পারতেন তাড়াহুড়ো বেশী',\n",
              " 'ফালতু বই ইংলিশ মুভির ডায়লগ কপি',\n",
              " 'বাজ',\n",
              " 'ভুলভাল জঘন্য অনুবাদ টাকা খরচ বই কিনবেন',\n",
              " 'হারে আত্ম উন্নয়ন মূলক বইয়ের অনুবাদের হিড়িক পড়েছে হারে অনুবাদকের অনুবাদের মান উন্নয়ন হয়নি দেশে গণহারে অনুবাদক বৃদ্ধি পাচ্ছে কিন্ত আফসোস গুগল ট্রান্সলেটর কৃতজ্ঞতা স্বীকার করেনা বইটা দুইবার হাতে নিয়েছিলাম পৃষ্ঠা পড়তে পারিনি',\n",
              " 'জঘন্য অনুবাদ',\n",
              " 'ভুল বানান হয়ে কোনোভাবেই পড়া যায়',\n",
              " 'ফালতু অনুবাদ',\n",
              " 'এক দিলাম হয়ে গেছি আধখানা তারাও জোটা এটায়',\n",
              " 'বইয়ের রেটিং পড়েছি এক অদ্ভুত সমস্যায় হিসেবে জিরো পাওয়ার যোগ্য জিরো যায় এক দিয়েই ক্ষেমতা দিলাম',\n",
              " 'বাজে নিম্ন মানের একটা বই গুগল ট্রান্সলেট একটু এডিট রকমারিকে বলবো বই বিক্রি পূর্বে একটু বিক্রি',\n",
              " 'বইটাতে হয়তো সময়কার ইতিহাস কিছুটা থাকতে ভেবে আমিও করসিলাম হতাশ',\n",
              " 'গত দেড় বছরে সবচেয়ে হতাশ বই কেবল শেষ পৃষ্ঠা ছাড়া পুরো খন্ডই দাগ কাটেনি ঐতিহাসিক উপন্যাসের চরিত্র শেখ মুজিব তাজউদ্দীন প্রত্যাশা আকাশচুম্বী প্রচুর বইটই ঘেঁটে লেখা বোঝা যায় বইগুলোর পড়েছি কল্পনা বিস্তারের সুযোগগুলো লেখক নষ্ট খারাপ লেগেছে লেখকের প্রচেষ্টায় সাধুবাদ জানাই হয়েছে - দুর্দান্ত একটা প্লটের অপমৃত্যু বইটায়',\n",
              " 'জঘন্য একটা বই',\n",
              " 'লেতালেতা ধরনের কাহিনি মেয়ে কঠিন ভাব প্রেম করবেনা আসল কাহিনী ক্লাস ২ প্রেম সুযোগের অভাব এখনো চরিত্র ভালো লাগেনি প্রত্যেকটা অধ্যায়ের শুরুতে সুন্দর কবিতা কবিতাগুলা ভালো লাগসে শেষপর্যন্ত অপেক্ষা করতেসি শেষমেশ চরিত্রর মায়া লাগে ঘুসি মেরে নাক ফাটায় ফেলতে চায়',\n",
              " '- কেমন লেগেছে পেণ্ডুলাম - ভালো লাগেনি প্লট সুন্দর আকর্ষণীয় শুরুটা দুর্দান্ত বইয়ের গতিও ভালো ছোট ছোট টুইস্ট আসলেই ভালো মাঝের অংশ শেষ দুটোই জঘন্য লেগেছে মায়া চরিত্রটার শুরুটা চারু আহসান চরিত্রের সাথে ভারসাম্য সমানগতিতে মাঝের চরিত্র একেবারে সাদামাটায় রুপ নেয় ভালো লাগেনি ব্যাপারটা নাজিম ভাই বইটা পেণ্ডুলামের মতই দোলাচলে রেখেছিলেন বইমেলা একটা হাইপের সৃষ্টি হয়েছিলো হয়তোবা আশাবাদী ছিলাম হতাশ হয়েছি বই প্রকাশের চাপ শেষটা তড়িঘড়ি শেষ দেয়া হয়েছে নাজিম ভাইর অন্যান্য বইয়ের মতই শেষটা আরেকটু গতিময় মারাত্মক একটা টুইস্ট বইটাও ভালো একটা মৌলিক পারতো',\n",
              " 'নাজিম ভাইয়ের বইকে ভাবিনাই প্রচন্ড হতাশ হইসি বোধহয় নাজিম ভাই স্ট্যান্ডার্ড গেসেন পেন্ডুলামের মত বই এক্সপেক্টেশন মিট পারেনা গতানুগতিক কাহিনী দুর্বল এন্ডিং অস্পষ্ট কাহিনী টুইস্টের অভাব - মিলিয়ে মোটেও নাজিমউদ্দীন - ক্লাস উপন্যাস',\n",
              " 'শুরুটা যতটুকু প্রমিসিং শেষটা ডিসেপয়েন্টিং সুন্দর প্লট বিল্ড আপ সুন্দর সাসপেন্স গ্রহন যোগ্য সমাপ্তি নাজিম ভাইয়ের আরো ভালো আশা করেছিলাম চারু চরিত্রটিকে ভালো লেগেছে বইয়ের একমাত্র পজিটিভ দিক মায়া চরিত্রটি জাস্ট রাখার জন্যই মায়াকে শক্তিশালি চরিত্র গড়ে তোলা যেত হয়তো উপন্যাসটি সত্যিকার অর্থেই অতিপ্রাকৃত উপন্যাস যেত মিলিয়ে আরো ভাল আশা করেছিলাম ভালো লাগেনি',\n",
              " 'শুরুটা ভাল শেষটা ততোটাই বাজে',\n",
              " 'কেমন প্রেম কেমন ভালোবাসা কেমন শ্রদ্ধা কেমন ঘৃণা কেমন গল্প কারো চরিত্রেরই কন্সিস্টেন্সি পুরাই হয়ে গেলাম',\n",
              " 'চরিত্র ঘটনা অগোছালো অপ্রয়োজনীয় কথা বড্ড',\n",
              " 'অনুবাদ মান আরো ভালো',\n",
              " 'জঘণ্য বই হুমায়ুন স্যারের এধরনের বই কখনো প্রত্যাশিত ন',\n",
              " 'পৃষ্ঠায় বানান ভুল জায়গায় বাক্য গঠনই হয়নি দায়সরাভাবে সারা হয়েছে সবচেয়ে বড় কথা - বইয়ের কনসেপ্ট মৌলিক বিটিভিতে একটা টিভি সিরিজ দেখাতো একটা মেয়ে সমুদ্রের নীচে অনেকক্ষণ থাকতে তিমি মাছের সাথে গাঢ় বন্ধুত্ব সেরিনা নামের বইটাতেও সেইম কাহিনি জাফর সাহেব যত্ন সহকারে কনসেপ্টটা মেরে দিয়ে একটু ঘুরিয়ে - পেঁচিয়ে উপস্থাপন আরকী',\n",
              " 'বইটা ভালো হয়নি সায়েন্স ফিকশন একটু ছিটেফোঁটা বাকি কিশোর উপন্যাসের মত নতুনত্ব',\n",
              " 'জীবনের পড়া বাজে বই গুলোর ভিতর বই টা একটা পড়ে শেষ কেবল হয়েছে সময়টাই অপচয় করলাম বইটা আশা পূরন',\n",
              " 'এবজার্ড ফিনিশিংয়ের জন্যে বইটা একদম নষ্ট হয়ে',\n",
              " 'জাফর ইকবাল স্যারের অন্যান্য বইয়ের বইটা অতটা ভালো লাগল বইয়ের নামের সাথে বিষয়বস্তুর অতটা মিল পেলাম কিছুটা প্রেত কথা থাকলেই বিষয়ের মিল খুজে পেলাম',\n",
              " 'উপন্যাস শিখেছি অত্যধিক অপ্রয়োজনীয় বিস্ফোরণ শিট বিরক্তিকর বই হাহ',\n",
              " 'ছোটবেলায় বড় কাজিনদের বইয়ের আলমারিতে দেখতাম বইটা বই নিতাম চেয়ে পড়ার বইটা পারতাম লজ্জা লাগত লোভ করছি বইটা পড়ার পড়ে ভাগ্য ভালো পড়ি পড়লে ভালো হতো সময় নষ্ট',\n",
              " 'ভাষাটা কঠিন সাধুভাষা পড়ার অভ্যাস থাকলে শেষ কঠিন দেবী চৌধুরানীর সাথে কিছুটা মিল পেয়েছি - স্বামী বিতাড়িত স্ত্রীর স্বামীর সাথে হওয়া স্বামীর চিনতে পারা দেবী চৌধুরানীর সমাপ্তি ভালো হয়েছিল',\n",
              " 'এইটা একটা উপন্যাস মুক্তিযুদ্ধ আশ্রিত ব্যবসায়িক সেইফ সাইড কোমল উপন্যাস মুক্তিযুদ্ধের উপন্যাস কথাটা রাখলেই পড়তে লাগে হলোকাস্ট ইহুদীরা সচেতন মুক্তিযুদ্ধ রাজাকার - পাকিস্তানীদের ভূমিকা চেয়ে সচেতন এইটুকুই রিভিউ এইটাই নিম্ন রেটিং প্রধান',\n",
              " 'বইটি কিনেছিলাম আশা কিনে আশাহত হলাম কারন বইটাতে কাজের চেয়ে এড',\n",
              " 'পৃথিবীর সবচেয়ে জঘন্য অনুবাদকৃত বই',\n",
              " \"জিজ্ঞাসা মুক্তিযুদ্ধের সম্পূর্ণ মূঢ় স্মৃতি ' পুরোপুরি ' অবিসংবাদিত গল্প - বলার অপেক্ষা রাখে ভয়ানক বর্ণনা পছন্দ\",\n",
              " 'বালমার্কা উপন্যাস',\n",
              " 'নারী নির্যাতনের একজন সাক্ষদানকারীর দেয়া জবানবন্দীকে প্রশ্ন বিদ্ধ – মেয়েদের বই খাতা কলমসহ গ্রেফতার — একাত্তরে মেয়েদের পথে বের হবার - কথা স্কুল কলেজ বিশ্ববিদ্যালয় বন্ধ বইখাতা হাতের স্কুল কলেজের ছাত্রছাত্রীরা পাকবাহিনীর নির্যাতন ক্যাম্পে আসে কিভাবে একটিমাত্র মিথ্যাচারই বইটিকে শূন্য রেটিং দেওয়ার গল্পের বই হিসেবে বিষয় মুক্তিযুদ্ধ গল্পচ্ছলেও যদু মদু মুক্তিযুদ্ধ পড়া তীব্র অপছন্দের বই এককথায় আসলেও অপন্যাস',\n",
              " 'প্লটওয়াইজ ভালো বই হওয়ার পটেনশিয়াল বিরক্তিকর চরিত্রগুলোর ব্যর্থ রেমি ধ্রুবর গালে নিজ হাতে দুইটা চড় পারলে বইটাকে নিঃসন্দেহে ৫ দিতাম',\n",
              " \"জঘন্য বই লিখতে আলাদা ধরণের প্রতিভা লাগে লেখক আরিফ আজাদের প্রতিভা ইচ্ছা আরিফ ব্রো ' সাথে একদিন সাক্ষাত খায় কীভাবে ঘুমায় ডান পাশ শোয় জানার খুবই ইচ্ছা\",\n",
              " 'হাস্যকর অতি হাস্যকর আসে আগেরবার ১ ৩ পড়েই ফেলে দিয়েছিলাম ইচ্ছা হয়নি মনের বিরুদ্ধেই শেষ করলাম যুক্তি অযৌক্তিক এইরকম লেখা যায় ব্যক্তিগত মতামত অফেন্ডেড নিজ দায়িত্বে',\n",
              " 'যুক্তিগুলো দূর্বল',\n",
              " 'এরকম বাজে স্ববিরোধী বই দেখিনি বাহুল্য বই পুরোটা শেষও করিনি',\n",
              " 'কমেডি বই হিসেবে ভালোই যুক্তিগুলো logical fallacy তে ভরা পুরোটা পড়ার রুচি হয়নি',\n",
              " 'হচ্ছিলো জোর লিখেছে বইটা শেষটাও জোর হয়েছে',\n",
              " 'আশানুরূপ যুক্তিসম্পন্ন সমাধান বই পাই বইটায় কভার পেজে হয়েছে প্রতিফলন বইয়ের ভিতরে লক্ষ্য',\n",
              " 'বইটি পড়ার মাথার চুল ছিড়তে ইচ্ছে করছিল 3',\n",
              " 'ভালো লাগে মিসির আলি সিরিজের অন্যতম বাজে একটা বই',\n",
              " 'ফ্ল্যাপে লেখা অনুযায়ী লেখক বইটা লিখতে যেয়ে আনন্দ পেয়েছেন পাঠক হিসেবে বইটা একদমই সুখাদ্য নি মিসির আলি আনসলভড বইতে ৭ মত ছোট ছোট কাহিনী লেখক মিসির আলির কথোপকথন গল্পের কাহিনী হয়েছে মিসির আলি আনসলভড গল্পের কাহিনী মিসির আলি সিরিজের বাকি বইগুলোর মত এক্সপেকটেশন বই পড়া হতাশ আনসলভড গল্পের কাহিনী বলেই যেই রোমহর্ষক একদমই - একটা কাহিনী বাকিগুলা ভালো লাগে',\n",
              " 'মিসির আলী সিরিজের দ্বাদশ বই | মিসির আলীর বইটা ভালো লাগলো সেরকম |',\n",
              " 'বানানের বালাই টালাই জায়গায় বাতিঘরকেও হার মানিয়ে দেবে হ',\n",
              " 'মিশির আলী সিরিজের বই খুবই বাজে লাগছে',\n",
              " 'ভালো লাগলো',\n",
              " 'নামটা পড়তে ইচ্ছা করলো নামের মত বইটা ততটা আকর্ষন করলো সত্যি শেষের বিরক্তি শেষ পাতায় লেখকের রাগ নাহ্ একদম মজা পাইনি উপন্যাসের পরিণতি বড়ই উদ্ভট',\n",
              " 'পড়তে পড়তে বিরক্ত লাগছিলো নে',\n",
              " \"Pure trash এইটার নাম দেয়া ' ঢং ' নায়ক - নায়িকা কয়টা চরিত্র ঢং - ঢাংয়ের উপরেই বইগুলির গুডরিডসে নেগেটিভ রেটিং দেয়ার ব্যবস্থা\",\n",
              " 'বইয়ের লেখা ছোট বানানে ভুল সহজ অনুবাদ মোটেও বইয়ের কভার এরকম ভাই বইয়ের কোয়ালিটি ভাল প্রয়োজনে দাম রাখেন ইছুক বইটি কিনেছি বার্ট এখনো পড়া কারন বইয়ের কোয়ালিটি দেখলে পড়ার আগ্রহ হারায় ফে',\n",
              " 'বইটা পড়ে শেষ কেবল হতাশই হলাম একবিন্দু ভাল লাগাতে পারিনি বইটাকে গল্পের শেষটা বিরক্তির ষোলকলা পূর্ণ করল',\n",
              " 'পরিণতির দিক টা রেটিং এতো কম দিতাম ফিনিশিং ভালো লাগে নি হুমায়ূন আহমেদের চিরাচরিত উপন্যাসগুলোর সাবলীলভাবে গল্প এগিয়েছে একেবারে সাদামাটা গল্প রহস্য শেষ অব্দি লেখক জীবনদর্শন ধরলেন কেবল বিতৃষ্ণার পারদটাই বেড়েছে',\n",
              " 'বইটা পড়ে ভয়ানক বিরক্ত হয়েছিলাম উফ',\n",
              " 'এতো প্যানরপ্যানর',\n",
              " 'লেখকের ভাষা শব্দ উপমা নির্বাচন প্রশংসাযোগ্য উপন্যাসের ভিতরে বইয়ের মাঝখানে গিয়েও কাহিনী কই অধিক রোমান্টিকতা সম্বলিত বইটি বাঙালী পাঠকসমাজে জনপ্রিয়তা প্রাপ্তির হেতু বুঝতে পারলাম',\n",
              " 'গল্পে টুইস্ট বেশিরভাগ সময় বিরক্তির উদ্রেক গল্পের একদম শেষ ভাগে কিছুটা লেখক মনের ভাব ফুটিয়ে তুলতে পেরেছেন উপন্যাস চিঠি সংকলন বিরক্তিকর চিঠি চরিত্রগুলো শক্তিশালী পারত গজানন মেজদি চরিত্রগূলো ভাল্ভাবে লেখা সম্ভব লেখক জায়গার ঘুরতে যাওয়ার কথা যেখানেই গেছেন সেখানেও মেমসাহেবের অন্ধ প্রেমের বিবরণ পারিপার্শ্বিকতা একটু বিবেচনা বোধ বইটি মানুষের গ্রহণযোগ্য বইটির বর্তমান রেটিং দেয় পুস্তক হিসেবে বইটি বিভিন্নভাবে গৃহীত হয়েছে',\n",
              " 'বইয়ের কথা শুনতে শুনতে পাগল হয়ে গিয়েছিলাম বইটা পড়ার আগ্রহ পড়তে বসেছি চেয়েও বেশী বিরক্ত হয়েছি লুতুপুতু টাইপের প্রেমের গল্প বই পড়ার বয়স',\n",
              " 'বইয়ের বোঝা যাচ্ছিল মেমসাহেব নায়কের happily ever after হয়নি স্বাভাবিক হয়েছিল কারো সাথে মেমসাহেব বিয়ে হয়েছে কিন্ত দেখলাম বিয়ে সমস্যা বারবার খোকন খোকন বুঝলাম খোকন সংক্রান্ত সমস্যা হয়েছে যেভাবে হয়েছে আশা করিনি মেমসাহেব সাথে পরিচয় সবকিছুই অতি নাটকীয়তায় ভরা তাছাড়া তখনকার সমাজে মেমসাহেব মা মেঝদি সবাই supportive liberal ব্যাপার টাও স্বাভাবিক লাগেনি আরোপিত লেগেছে হয়েছে প্রকৃতি দোষ দেয়ার ইচ্ছা সমাজকে ভাল সাজাচ্ছে আমলে বই জনপ্রিয় মানুষ মেমসাহেব অসতী ছুঁড়ে ফেলে দিল ভাবছি',\n",
              " 'কষ্ট বইটা শেষ করেছিলাম পড়লেই বিপি হাই হওয়ার অবস্থা এত্তো প্রেম এত্তো - _ -',\n",
              " 'লুতুপুতামির শেষ ভেরি মাচ ওভারহাইপড পড়তে ক্যান জানি খারাপ লাগে',\n",
              " 'পুরা ফালতু অনুবাদ সাটেল সাবটেল বানাইয়া দিসে গোরায় গলদ',\n",
              " \"মহান পুস্তক যেটা কষ্টে শেষ হবার খাটের নিচে ছুঁড়ে ফেলেছিলাম এপিক স্মৃতি প্যানপ্যানে পেমের একটা শ্রেণীর ' নিখাদ ফালতু ' বই লেখা মানেও টাইম লস এক তারার নিচে থাকলে দিতাম\",\n",
              " 'শেষ করলাম অবশেষে ইহাকে শেষ করলাম বিরক্তিকর দীর্ঘ ক্লান্তিকর এক বই মনের ভিতরে রোমান্টিসিজমের ছিটে ফোটাও অবশিষ্ট থাকলে বই পড়ে ইন্তেকাল বই পড়া বেশির ভাগ মানুষের কাছেই সময়ের অপচয় মেমসাহেব মত বই পড়াটা সময়ের নির্মম অপচয় আপাতত বলার এনার্জি - _ -',\n",
              " 'ওরে প্রেম ওরে কান্দন ওরে পতিব্রতা নারী জীবনের সার্থকতা',\n",
              " 'অতি খাজা বই ২০০ পৃষ্ঠা জুড়ে ঘ্যানঘ্যান মেমসাহেব অমুক মেমসাহেব তমুক মেমসাহেবের মেয়ে হয়না বুঝতে বই পড়ে ফেলার পরও পাঠক সংশয়ে নিমাই ভট্টাচার্য অত্যন্ত হতাশ',\n",
              " 'ফালতু লুতুপুতু প্রেমকাহিনী',\n",
              " 'নাম - ধাম শুনেছিলাম বইটার পড়ার Hype অবশিষ্ট থাকেনি কেমন সস্তা প্রেম কাহিনী দিকটা কিছুটা ভালো লাগলেও শেষমেশ আশাভঙ্গ',\n",
              " 'বইটা ভালো',\n",
              " 'ভাবতেই শিহরিত বোধ করছি ইহাও বই আজকাল ফেমাস লোকেরা দিবে পাঠক খাচ্ছে বড়ই তাজ্জব লাগে জনপ্রিয়রা লেখক বনে বাংলা সাহিত্যকে এক বিষম মাত্রায় বহর করুণ আকার নিবে ফেইসবুক স্ট্যাটাস হয়ে যায় বই একটা লিস্ট হয়ে যায় বই আজব বড়ই আজব',\n",
              " 'খুবি খারাপ অনুবাদ বইটি কিনে হতাশ',\n",
              " 'এটাও বই মানুষ এটাও কিনে বলবো ফেস ভ্যালু পাইসে গোবর - মূত্র ছাপাবে মানুষ কিনবে',\n",
              " 'Google করলেও ভালো ইনফরমেশন পাওযায় ফালতু বই',\n",
              " 'পুরো অগোছালো',\n",
              " 'বোঝাই যায় গরুর পাছা লেখক জাহিদ মিয়ার পছন্দের প্রিভিউয়ে দেখলাম ২৯ - ৩০ নম্বর পেজে ৮বার গরুর পাছা শব্দের উল্লেখ মাফ চাই দোয়াও চাই জঘন্য বই পড়তে চাই অরুচিবান মানুষ ধূমায়ে বই কিনেছেন সকল গরু পাছায় জাহিদ সাহেব ক্রমাগত চাটি মেরে যাচ্ছেন বলদ জাহিদ সাহেব বলদের পাল পাঠকদের একরাশ সমবেদনা',\n",
              " 'বই মেয়েই পড়তে স্বাচ্ছন্দ্য বোধ মেয়েই পরিচিত মানুষজনদের পারবে বইটি পড়ুন অশ্লীল নোংরা ফালতু একটা বই',\n",
              " 'কুরুচিপূর্ণ শব্দে ভর্তি একটা বই',\n",
              " 'ফালতু বই টাকা নস্ট হই',\n",
              " 'এত্ত বাজে ভাষা এত্ত গালিগালাজ বস্তাপঁচা একটা বই ভালো দিক গালির প্রকারভেদ পারবেন বই যেমনঃ বাঞ্চোত ভালবেসে বাইঞ্চো * রেগে বই ভাষা দোষ',\n",
              " 'টাকা হয়ে বাসায় জায়গা বইটি টাকা নষ্ট মোক্ষম সু্যোগ এখনি',\n",
              " 'নামের সাথে বইয়ের মিল বইয়ে লেখা তাবিজের কিতাব তন্ত্র মন্ত্র সম্ভার বইটিতে তন্ত্র মন্ত্র বইটিতে তাবিজ কম আমল ফযীলত লেখা এটাকে তাবিজের কিতাব আমলের কিতাব বলাটাই বিঃ দ্রঃ - বইটা কিনে আফসোস করতেছি',\n",
              " 'থার্ড ক্লাস বই আগা মাথাই বইয়েত কাহিনীর',\n",
              " 'জঘন্যমানের অনুবাদ একদম ইচ্ছা অনুবাদ কর',\n",
              " 'ফালতু টিউটোরিয়াল পুরা টাকাটাই নস্ট',\n",
              " 'সবকিছু একজন সত্যিকারের লেখক হাজারটা বই পড়ে সাধনার একটা বই লেখে আপনাদের জ্বালায় জাতি ভালো লেখকদের বঞ্চিত লেখকদের মর্যাদা থাকছে ভাগ্য ভালো রবীন্দ্রনাথ নজরুলের শরৎচন্দ্রের মত লেখকদের আমলে এসব সেলিব্রেটি যুগে ঠেলায় বই বিক্রি',\n",
              " 'লেখকদেরকে বই মেলাকে অপমান একটা বই প্রচ্ছদ',\n",
              " 'আসতেছে সবাই লিখেই বই বের ফেলতেছে চিন্তাভাবনা প্রসার রে ভাই সবাই দেখি মোটিভেশন ফালাফালি করতেছে',\n",
              " 'এরকম মনমানসিকতার মানুষ পড়াশোনা লেখালেখির ধারে কাছেও তারাও শুধুমাত্র ইমেজ বিক্রি টাকা কামানোর উদ্দেশ্যে বই লেখা বইয়ের সাহিত্যের জগতের এক অন্ধকার জগতের',\n",
              " 'বই সরান এইখান থিকা',\n",
              " 'মহান ভাষার মাসে ভাষার বিকৃতি কথাই বলি ভাষাটাকে শুদ্ধ রাখার কতই প্রয়াস অমর একুশের মত গ্রন্থ মেলায় ভাষার বিকৃতি ঘটিয়ে বইয়ের নাম বান্ধobi কিভাবে সমালোচকরা কিভাবে এড়িয়ে ইংরেজি বাংলা ভাষার মাসে এরকম ভাষার বিকৃতিতে তীব্র ঘৃনা প্রকাশ করছি এক্ষেত্রে প্রকাশকদের আরো সচেতনতা ভাষার ভালোবাসা থাকাটা একান্ত কাম্য',\n",
              " 'বাজে একটা বই ধান্দা শেষ আসছে বই লেখতে',\n",
              " 'টাকা বই লেখে পাবলিশ গত কাল এক লেখিকার বই দেখলাম বাজে কবিতা ছি ব্র\\u200d্যান্ডিও বাবার পরিচিতি তে লিখেছে শিল্পপতি কাল টাকা বই ছাপায় বইয়ে মোটিভেশনাল বিক্রিও ভালো কিনলেই',\n",
              " 'বই এতই বাজে ১ ষ্টার রেটিং দিবো এতো বাজে লিখা জীবনেও দেখি লিখসি তোদের টাকা চুরি বই কিনিস ৫ ষ্টার রেটিং দিয়ো আমারে রেজিস্টার কইরা ধন্যবাদ সবাইরে',\n",
              " 'ফাউল',\n",
              " 'মাথায় গোবর লিখলে বুঝতেছিনা প্রকাশক টাকা খাইলে ধরনের একটা ফালতু বই প্রকাশ',\n",
              " 'একটা প্রকাশনা কিভাবে একটা বই প্রকাশ',\n",
              " 'রকমারির বই বিক্রি উচিৎ নি সবসময় ভালো আশা রকমারি',\n",
              " 'অখাদ্য',\n",
              " 'দয়া অনুরোধ রইল বইটি কেনার হ - য - ব - - ল আপনাদের কস্টের টাকা নস্ট',\n",
              " 'ভাষার মাসে বাংলাকে কেমন অমর্যাদা বইয়ের প্রকাশনীকে জবাবদিহি স্রেফ টাকার লোভে এরকম বই কীভাবে বের',\n",
              " 'বাজে ব',\n",
              " 'ফালতু লোকের ফালতু বই',\n",
              " 'ধরনের বই বইমেলা বইমেলার পাঠক বই মেলার লেখক সকলের অপমান সস্তা জনপ্রিয়তার কুশ্রী উপস্থাপন',\n",
              " 'ভাষার মাসে বাংলা ভাষার চরম অবমাননা করলেই খুবই দুঃখজনক বাংলা একাডেমীর পক্ষ বই বিলুপ্ত দাবি জানাচ্ছি',\n",
              " 'বাংলা ভাষাকে অপমানের বই',\n",
              " 'টিকটক করছিল ভাল ছেলেরা মজা পেত হুদাই বই লিখতে কবিদের অসম্মান ২১ অসম্মান জন্যে টিকটক মাল গুলাই এদেরকে সবকিছু ব্যান হউক',\n",
              " 'আজেবাজে টাইপ বই ভাষা ফাইজলামি হয়েছে বই',\n",
              " 'ভাষার মাসে ভাষাকে খেলাধুলা সুযোগ দিয়েছে তাদেরকেসহ ধিক্কার বারবার অবাক হই ভেবে একটা প্রকাশনী কিভাবে একটা বই পাবলিশ করলো বাংলা একাডেমী ভণ্ডের দল মুখ দিয়া লালা ঝরা ছাড়া বের হয়না',\n",
              " 'বালের বই রকমারির এসব আবর্জনা বাহিরে ফেলে',\n",
              " 'এসব আর্বজনাও বিক্রি ভাষা শহীদদের ত্যাংগের তাৎপর্য বোঝে নোংরামির সীমা',\n",
              " 'জঘন্য একটা বই বড় কথা রকমারি জঘন্য বইটি ওয়েবসাইটে এন্ট্রি রাখবে স্বপ্নেও কল্পনা নি',\n",
              " 'বই চেয়ে টয়লেট টিস্যু কেনা উত্তম একটা লাগবো',\n",
              " 'একবাক্যে মুসলিম বিদ্বেষী হিন্দু জাতীয়তাবাদ',\n",
              " 'খোদা বই লেখা দেখি প্রচারনা চেহারাটাকে আরো পরিচিত করাবার একটা ধান্ধায় পরিনিত হয়ে আয়মান ভাইয়ার দেখি আরো দুইজন বই আসছে বইয়ে পড়ার মত রাবা খান বই লিখছে ভাল ভাল সামনের বছর সালমান মুক্তাদির সৌমিক সৌভিক রাও বই লিখবে ছোট আজাদও বাদ সেও বই লিখবে বাংলা একাডেমির বই লিখছে লিখছে বিষয়টা খেয়াল',\n",
              " 'শংকরের বিখ্যাত বইটা অবশেষে শেষ করলাম দীর্ঘ সময় পড়ে শেষ হয়েছে হয়েছে উপন্যাসের শুরুতে লেখক যেরকম আগ্রহ রাখতে পেরেছেন পরবর্তীতে তেমনটা নি পুরো বই জুড়ে লেখক শাহজাহান হোটেলের বর্ননা দিয়ে যাচ্ছেন যাচ্ছেন মাঝে মাঝে হয়েছে বইটা একটা আবাসিক শান শওকত ওয়ালা হোটেলে কর্মরত এক কর্মচারীর ডায়রী পুরো বইতে লেখক শাহজাহান হোটেলের নাম নিয়েই গেছেন শাহজাহান বানানটাই ইচ্ছে শাজাহান লেখেছেন যেটা কলকাতা কেন্দ্রীক বুদ্ধিজীবী দের স্বভাব বলুন নষ্টামি বলুন এছাড়া',\n",
              " 'প্যাথেটিক নিষ্ক্রিয় চরিত্র দেখলে মেজাজ খ্রাপ ভীষণ',\n",
              " 'ভালো লাগে একটার একটা দুর্ঘটনা - এক সিংহের মাম্বার আক্রমন পাহাড়ে উঠার সময় বুনিপের ফাইজলামি কম্পাস হইল নষ্ট পথ হইল ভুল এমনকি একটা আগ্নেয়গিরিও চান্সমত জ্বলে পুরে জ্বালায় দিল বাকি থাকলো কিসু এইটাতো গুহায় ঢুইকে হারায় আস্ত মরুভূমি পার পাহাড়ে উঠতে পা ভাঙা - কিসু হইল কিসুই হইল ভালো গল্প গল্পই এটার ভিতরে ইন ফ্যাক্ট আ সিরিজ অফ আনফরচুনেট ইভেন্টস লুসলি কানেক্টেড উইথ আ স্প্রিঙ্কলিং অফ সাম ইনফরমেশন দ্যাটস অ্যাবাউট ইট আরেকটা খুবই বাজে জিনিস হইল - অলমোস্ট শেমলেস ইউরোওয়ারশিপিং এন্ড রিয়েল শেমলেস রেসিসম এগেইন্সট দা নেটিভস বাংলা বই পরতে চাই একটা কাউনটার - ইম্পেরিয়ালিস্ট ন্যারেটিভ পাবো বাংলা বইই ইউরপিয়ান বইয়ের জিলাসলি - ইম্পেরিয়াল - চাকর - সুলভ তাইলে কই যাব ভাই গল্প বলার ফ্ল স্ত্রাকচার স্টাইল বিলড - আপ ক্লাইম্যাক্স কিসুই ভালো খুবই ডিসাপয়েনটিং',\n",
              " 'ওভাররেটেড উপন্যাস এরচাইতে ঢের ভালো লেখা সমরেশ মজুমদারের',\n",
              " 'প্রত্যাশা পড়া করছিলাম ১ স্টারের পারলাম লেখকের লেখার হাত ভাল সাহিত্যের গুনাবলীও লেখায় অটুট নাস্তিকতাবাদের বীজ লেখক পাঠকের দিয়ে চাচ্ছিলেন খুবই সতর্কতার নাস্তিকতা বললে সম্পূর্ণতা পায় খুজে খুজে ইসলামে ত্রুতি বের লেখকের মনোযোগ সাহিত্যের বই পড়ি নিশ্চয়ই ধর্মীয় জ্ঞান অর্জনের জন্যে ইসলামিক সঠিক জ্ঞান দেয়ার জন্যে অজস্র ইসলামিক স্কলার রয়েছেন খুবই খারাপ লাগে সাহিত্যের ইসলামকে ছোট কতিপয় লেখকদের অপপ্রয়াশ দেখলে',\n",
              " 'পড়তে লাগছিলো পাতা আগাতে লাগলো তারকা খসতে থাকলো শেষের ৬০ পৃষ্ঠার মত boring বর্ণনা সচরাচর যায়না মনোযোগ রাখতে হিমশিম খেতে হয়েছে শুধুমাত্র এক - তৃতীয়াংশের মত অংশের সম্মানে তারকা দিয়ে দিলুম',\n",
              " 'লেখকের চিন্তাভাবনা ছাড়া একটা উপন্যাস লিখতে ইচ্ছে হয়েছে বলেই লিখেছেন কাহিনী নাটকীয়তা থাকার ছিলো একটা চরিত্র সেটারও বিকাশ শীর্ষেন্দুর সবচেয়ে বাজে লেখাগুলোর একটা',\n",
              " 'কঠিন ভাষা বুঝা কষ্ট',\n",
              " 'কুসংষ্কারাচ্ছন্ন বই তামাম দুনিয়ার ধরনের ধর্মীয় কুসংষ্কার কোনটাই বাদ যায় আগেও হরর পজেশান মিষ্ট্রি সাইফাই পড়েছি কুসংষ্কার গ্রস্থ বইকেই হয়নি',\n",
              " 'বুঝতে পারলাম সাইন্সফিকশন রোগরোগে থ্রিলার আসলেই জাফর সার আগের বই লিখছেন এনিম্যান সস্তা দামের বই',\n",
              " 'ব\\u200d্যাপারটিতে হতাশ হয়েছি সাদা কালো কমিকস বোঝা যায়না লেখাও কোথাও মাঝের কয়েকটা পেজ ঝাপসা ক\\u200d্যারেকটারগুলো হয়েছে প্রিন্ট কোয়ালিটি অতটা ভাল হয়নি মোট কথা ভাল লাগেনি কেনাটা লস হয়েছে',\n",
              " 'বোতলে পুরনো মদ',\n",
              " 'বইয়ের প্রশংসা শুনলেও পড়ে ভালো লাগে নি আগ্রহ পড়ি নি',\n",
              " 'বইগুলার বর্ননাই বইগুলার সৌন্দর্য সারসংক্ষেপ স্রেফ ধাপ্পাবাজি পড়ে রাগ হয়েছে হচ্ছিল প্রকাশক মারি অনুবাদককে সেবা প্রকাশনীর এরকম সস্তা একদমই আশা করিনি',\n",
              " 'ঘটনার রোমান্চকর রহস্যের স্বাদ পাইনি',\n",
              " 'পড়া সবচেয়ে বাজে ব',\n",
              " 'নতুনত্ব স্রেফ সাহিত্যের বোতলে পুরনো উপন্যাসগুলোর সারগর্ভ পড়তে মজা সাময়িকমাত্র',\n",
              " 'ক্রিকেট খেলার আইন কানুন অপ্রাসঙ্গিক বিষয়ের বর্ণনাই বইয়ের নাম পরিবর্তনের অনুরোধ রাখছি রেটিং ০',\n",
              " 'আজকাল মুজাই স্যারের সাই - ফাই কিনে টাকা নষ্ট মেজাজ খারাপ বাদ দিয়েছি তবুও হাতে পড়ে পড়ে ফেললাম আশা করিনি জানি খারাপই আশা পড়িনি কম খারাপ লেগেছে একের জায়গায় দিলাম ক্রোমিয়াম অরন্য ফিনিক্স - আশি ভাগ নকল পৃ - বিশ ভাগ পৃ - তরলে ডোবানো অসংখ্য মস্তিষ্ক ছিলো ক্রেনিয়াল - শূন্যে ঝোলানো অসংখ্য মানুষের শরীরেই তফাৎ হ্যাঁ রুহান রুহান মুজাই স্যার আজকাল ফিকশন লিখেন সায়েন্স কলাম লিখলেই',\n",
              " 'এক কথাইয় অসাধারন একটা বই অনুবাদ ভাল হয়নি বানান ভুল রয়েছে',\n",
              " 'বইটা পড়ে ততটা মজা পাইনি হয়তো ঈদে এটার নাটকটা দেখেছিলাম নাট - বল্টু পার্ট 2 হয়েছে স্যারের অনুরোধ নাটকের স্ক্রিপ্টগুলোকে বই বানাতে প্রকাশকদের অনুরোধ করবো স্যারকে লেখার চাপাচাপি ওনাকে একটু স্পেস নইলে ক্রমাগত বোতলে পুরানো মদই বেরুতে',\n",
              " 'পড়াটাই বেটার কাহিনী টা এভাবে শেষ দিছে দায়িত্ব দূর লিখছে এইসব পোলাপাইনের রেটিং দেইখা আকাশ থেইকা পড়লাম',\n",
              " 'ধুর দিনটাই মাটি শরৎ বইয়ে ৫ তারার কম দিচ্ছি কম বললে কম একদম ১ ২৩০ পৃষ্ঠা মন্ত্রমুগ্ধের মত পড়েছি একদম অসহ্য লিখতে ইচ্ছা উপলক্ষে আপাতত মাস শরৎ বাবু অফ',\n",
              " 'পড়ার পড়া বই শেষে ফিল',\n",
              " 'শরৎচন্দ্র একাল যাবত বেঁচে থাকলে হতেন জানেন জীবন মানে জি বাংলার নাটক সিনেমার স্ক্রিপ্ট রাইটার নায়কের নাম চন্দ্রনাথ নায়িকার নাম সুরজ - ক্লিশে উপন্যাসগুলোর টার্গেট পাঠক পাঠিকারা কারা কথায় কথায় স্ত্রী দাসী স্ত্রীর মেনে স্বামীর পদপান্তে গড়িয়ে পরাটা পারছিলাম বস গা গুলাচ্ছে মেয়ের মা বেশ্যা দোষ মেয়ের - ভালবাসেন স্বামী গছিয়ে দিচ্ছেন হাতে বিষ এদিকে বুদ্ধি দিচ্ছেন কাগজে লিখে দিয়ে যাবার মহাশয় কোনভাবেই দায়ী নন মৃত্যুর বলিহারি শরৎ সাহেব ভাগ্য ভাল স্ক্রিপ্ট লেখার যুগ বেঁচে থাকতে হয়নি হালচালে ফেমিনিসমের জোর হাওয়া বইছে এক দিয়েছি কৈলাশ্চন্দ্র নামের বৃদ্ধের সাথে আধো আধো বোলের মালিক বিশুর সম্পর্কটার ওটুকুই বইটা কুঁচি কুঁচি ছিড়ে হাত ধুতে বাধ্য করেনি',\n",
              " 'ভালো লাগে একটার একটা দুর্ঘটনা - এক সিংহের মাম্বার আক্রমন পাহাড়ে উঠার সময় বুনিপের ফাইজলামি কম্পাস হইল নষ্ট পথ হইল ভুল এমনকি একটা আগ্নেয়গিরিও চান্সমত জ্বলে পুরে জ্বালায় দিল বাকি থাকলো কিসু এইটাতো গুহায় ঢুইকে হারায় আস্ত মরুভূমি পার পাহাড়ে উঠতে পা ভাঙা - কিসু হইল কিসুই হইল ভালো গল্প গল্পই এটার ভিতরে ইন ফ্যাক্ট আ সিরিজ অফ আনফরচুনেট ইভেন্টস লুসলি কানেক্টেড উইথ আ স্প্রিঙ্কলিং অফ সাম ইনফরমেশন দ্যাটস অ্যাবাউট ইট আরেকটা খুবই বাজে জিনিস হইল - অলমোস্ট শেমলেস ইউরোওয়ারশিপিং এন্ড রিয়েল শেমলেস রেসিসম এগেইন্সট দা নেটিভস বাংলা বই পরতে চাই একটা কাউনটার - ইম্পেরিয়ালিস্ট ন্যারেটিভ পাবো বাংলা বইই ইউরপিয়ান বইয়ের জিলাসলি - ইম্পেরিয়াল - চাকর - সুলভ তাইলে কই যাব ভাই গল্প বলার ফ্ল স্ত্রাকচার স্টাইল বিলড - আপ ক্লাইম্যাক্স কিসুই ভালো খুবই ডিসাপয়েনটিং',\n",
              " 'বইটা ভাল বইয়ের পাতার মান ভাল এক পাতার ছাপ উল্টা পাতায় যাওয়ার কারনে কষ্ট পরতে হয়েছে',\n",
              " 'বইটা একদম ভালো লাগেনি হয়েছে অপ্রয়োজনীয় শব্দে ভরপুর শেষের হয়ত একটু মিনিংফুল পুরো উপন্যাসটা শেষ মানে বিশাল একটা বিরক্তির সময় পার',\n",
              " 'আসলে বই এক ধরনের বাজে রসিকতা বোধহয় সমরেশ মজুমদার পারবেন অখাদ্য পুরোই মেজাজটাই খারাপ গ',\n",
              " 'হতাশ হইলাম গল্পের নামের সাথে অমিল চোখে পড়ে',\n",
              " 'বাংলাদেশি প্রকাশকের বই বইয়ের বাইন্ডিং কোয়ালিটি থার্ড ক্লাস ইন্ডিয়ান বই নেয়া ভাল',\n",
              " 'মহাভারতে কর্ণ সবচেয়ে প্রিয় চরিত্র কর্ণকে ঠিকমতো গ্লোরিফাই করেনি হবার কথা কর্ণরা গ্লোরিফাইড হবার জন্ম নেয়',\n",
              " 'বই তে এডভান্স লেভেলের এক্ষেত্রে বিগেনিং টু এডভান্স লাইনটি ফাউল',\n",
              " 'ভালো নি',\n",
              " 'যতটুকু ভেবেছিলাম তুলনায় গল্পগুলো খুবই সস্তা',\n",
              " 'বাজে অনুবাদ ছাপা বাইন্ডিং প্রস্তর যুগের বই',\n",
              " 'মোটামোটি সময় ভ্রমন সম্পর্কে যেসব ধারনা বারেই অগ্রহন যোগ্য ধারনা গুলোই',\n",
              " 'বইটি পড়ার সময় মানসিক অবস্থা লোপ পাওয়ার উপক্রম হয়েছিলো সবাই নিজ দায়িত্তে বইটি পড়বেন',\n",
              " 'নেগেটিভ রিভিউ যেত মাইনাসই দিতাম -',\n",
              " 'বই কেনার বুঝলাম চাইরটা জায়গার নাম চেয়ে তথ্য আমিই জানি দেখুন বাঙলাদেশ বইটা কিনিয়া কেনার দেখুন বাংলাদেশ বইটাতেও',\n",
              " 'বই ডন কুইক্সোট নামক একজন কল্পনাপ্রবন মানুষ সম্পর্কিত অনুবাদেকের ব্যর্থতা গল্প শেষ ইচ্ছা জানিনা অভিযান হিসেবে গল্পটি উত্তেজনাময় অনেকাংশে আশাহত',\n",
              " 'আশাহত হইলাম যেই পরিমান নাম ডাক শুইনা শহিদুল জহিরের বই হাতে নিলাম সিকি ভাগও ভাল লাগলো সরি শহিদুল জহির মত একজন অধম পাঠক লেখা বুঝতে পারলে বাংলা ভাষার ক্ষতি হয়ে যাবেনা',\n",
              " 'উপন্যাসের বিষয়বস্তু সুন্দর অনুবাদের মান নিম্নমানের অজশ্র বানান ভুল ভাষার সঠিক প্রয়োগ হয়নি দুর্বল অনুবাদের কারণে উপন্যাসটি পড়ে মজা মুল ইংরেজী সংস্করণ পড়াই উত্তম',\n",
              " 'ড্যান ব্রাউনের অসাধারণ গল্প - অনুবাদকের বিচ্ছিরি অনুবাদ অনুবাদকের অ্ন্যান্য ব্ই পড়ার দ্বিতীয়বার চিন্তা পরামর্শ দিচ্ছি',\n",
              " 'একঘেয়ে বিরক্তিকর বেশিরভাগ চুটকিই টুকলিফাই খানিকটা চেঞ্জ প্রকাশ হয়েছে',\n",
              " 'বইটা ভেবেছিলা ভালো হতাশ হলাম পাইথন প্রোগ্রামিং শেখা যায় সুন্দর গোছানো',\n",
              " 'বিশ্বাস মানুষকে হাসানোর চেয়েও কঠিন ভয় পাওয়ানো ভৌতিক গল্প - ছায়াছবি পছন্দের বলেই হয়ত ভীষণ চুজি কিভাবে ভয় দেখানো আদৌ ভয় দেখাতে পারছে কিনা জরুরি একটা গল্প পড়েও হয়নি চেষ্টার ছিটে - ফোটাও পেলাম ভাল লাগেনি',\n",
              " 'মারুফের মিথ্যুক টাউট বাটপার পুলাকে পশ্চাতপ্রদেশে প্রহার দেশীয় গহীন পেমের ঠ্যালায় তিথি বেগম ভুলে গলে চিকেন সুপ হয়ে গেলো খুদা মালুম থাপড়ে ব্যাটার মাড়ির দাঁত নড়িয়ে দিতাম D',\n",
              " 'জাফর ইকবাল প্রিয় একজন লেখক লেখার নিম্নমান কষ্ট দেয় মাথায় ভাল প্লট আসে লিখবেন এসব ছাই পাশ লিখে ইমেজটা দীপু নাম্বার টু তপু বন্ধু রাশেদ পড়ে হয়েছিল নষ্ট',\n",
              " 'কেমনে বিখ্যাত হইলো কিতাব মাথায় কুলায় রে মনা',\n",
              " 'হুমায়ূন হুমায়ূনের বইয়ের ব্যঙ্গকার্টুন করছিলেন',\n",
              " 'অনুবাদ ভাব ভালো কেননা লাইনে লেখকের লেখার মাধুর্য একেবারে হারিয়ে গিয়েছে',\n",
              " 'জোসেফাইন ডক্টর ভিক্টর লরেঞ্জ ১২ বছর বয়েসী একমাত্র মেয়ে অসুস্থ ডাক্তার দেখাবার মেয়ে কিছুতেই সুস্থ কিছুতেই একদিন এক হসপিটাল হারিয়ে গেলো জোসি হসপিটাল চেনা সবাইকে চেনে সবাই তাকেও চেনে ইসাবেলা কিছুক্ষন জোসির এপয়েনমেন্ট ফোন এরপরেই লরেঞ্জ মেয়ে হসপিটালে মেয়ে গায়েব কিডন্যাপ হয়ে কোথায় ছোট্ট মেয়েটা অদ্ভুত ব্যাপার হাসপাতালের সবাই মেয়েটাকে গত ১১ মাস দেখেইনি আজকেই জোসি নিয়েই এসেছিল বাবা লরেঞ্জ অর্থ হাসপাতালের সবাই জড়িত জলজ্যন্ত মেয়ে গায়েব জোসির অস্তিত্ব কোথাও কোথাও এভাবে সময় আগালো বছর পার হয়ে মেয়েকে হারিয়ে ইসাবেলা কোথায় মেয়ের শোকে লরেঞ্জ পাগল সাইক্রিয়াটিস্ট ভিক্টর লরেঞ্জ হাসপাতালের বিছানাতে আটকে পড়ে সাইকিক পেশেন্ট হিসেবে চিকিৎসা আরো ডাক্তার কথোপকথনে পাওয়া ভয়ঙ্কর তথ্য এদিকে মেয়েকে হারিয়ে পাগল্প্রায় লরেঞ্জ পারকুম নামে এক নির্জন দ্বীপে আশ্রয় নিল ডক্টর সাথে একমাত্র কুকুর আগমন ঘটে সুন্দরী সাংবাদিক আনা গ্লসের অস্তিত্ব লরেঞ্জ ছাড়া জানেনা মেয়ে যাবতকাল দেখেনি মানসিকভাবে অসুস্থ চিকিৎসার খুঁজে বের লরেঞ্জ এদিকে মেয়ে শার্লট নামে একজনের গল্প শোনায় শার্লট জোসির সাথে কোথাও একটা মিল সুক্ষ্ণ মিল মেয়ে আগমন লরেঞ্জ দুনিয়া পুরোপুরি দিল ইসাবেলার আচরণ মারাত্মক রহস্যময় অন্যদিকে পাগল্প্রায় লরেঞ্জ সূত্রের সাথে সূত্র মিলে জোসি মৃত জোসি মেরে ফেলেছে লরেঞ্জ চেনা হয়েছিল সেদিন হাসপাতালে শেষ চমকের পাঠক প্রস্তুত পাঠপ্রতিক্রিয়াঃ বইটার নাম পেয়েছিলাম গুডরিডসে রিভিউ পড়েই বইটা পড়ার অস্থির হয়ে যাই বইটা খুঁজে পড়েছিলাম অদ্ভুত বই নিজেকেই মাঝে সাইকিক পেশেন্ট হচ্ছিল বইটা পড়তে যেটা ভাবিনি শেষমেশ ঘটনা ঘটবে অপ্রত্যাশিত এক চমক নিজেকে নির্জন পারকুম দ্বীপে ভেবে দেখুন বুকের ভেতর ধক উঠবে ভয়ঙ্কর ভয়ঙ্কর অনুবাদকের ভাল হয়নি অনুবাদ মিলিয়ে থ্রিলার রহস্য সাসপেন্সে মোড়া অদ্ভুত একটা বই',\n",
              " 'দি অটোমান সেঞ্চুরিস লর্ড কিনরসের অসাধারণ গ্রন্থ অনুবাদ গ্রন্থটি প্রকাশ ভাল হতো এতো দুর্বল অনুবাদ ব্যপক মুদ্রণপ্রমাদ কিভাবে গ্রন্থ প্রকাশীত অজানা গ্রন্থটি পাঠক পড়া করলেই বুঝতে পারবেন দুর্বলতা প্যারাগ্রাফেই ২টি বাক্যের অর্থ সাথে বাক্যে এক একাধিক বানান ভুল মতে দাম দিয়ে অপাঠ্যোগ্য গ্রন্থ কেনাই উত্তম',\n",
              " 'বাজে',\n",
              " 'খুবই বিরক্তিকর থার্ড ক্লাস একটা বই পড়ে শেষ করলাম কাহিনীর আগামাথা থ্রিল ক্যারেক্টার বিল্ড আপ পড়ার মতন পুরা বই গো * পু * শা * য়া ধরনের লেভেলের অনুচ্চার্য অশ্লীল শব্দ দিয়ে ভর্তি ২০১০ - ১১ বাতিঘর প্রকাশনীর বই কিনতাম চিনত সবাই চেনে বইয়ের দাম বেড়েছে প্রসার বেড়েছে ভিড়ের ঠেলায় স্টলের যায় বইয়ের কোয়ালিটি ঠেকেছে উন্নতমানের চটিতে কয়েকটা ক্যারেক্টারের নাম ব্যবহৃত অন্যান্য শব্দ বাক্য বলি - বুলশিট ডেভিড কর্নওয়েল শিট গুপ্তচোখ ন্যাংটা বুড়ো ল্যাওড়াধর ধন ঘুঘু গু - বৃষ্টি লালন বৈরাগী পুরো শরীরে ধনের ট্যাটু চুত * * * * কাকে আসছস আম জানি চ্যা * * বাচল মরল আরো অসংখ্য পুরোপুরি অসুস্থ একটা বই গতকাল স্টলে শুনলাম বই বিক্রি শেষ আজিব কাস্টোমার প্রতিবার বইমেলায় বাতিঘর খুজে খুজে বের করতাম এরপর চিন্তা করব',\n",
              " 'বাংলা অনুবাদ সাজানো গোছানো লাইন গুলা উল্টা পাল্টা সাজানো',\n",
              " 'পড়া অন্যতম ফালতু উপন্যাস হেমকান্তের প্রবাহটা নিঃসন্দেহে ভাল লেগেছে ধ্রুব রেমির অধ্যায়গুলা বিরক্তিকর লেগেছে পড়ার সময় হয়েছে তাড়াতাড়ি শেষ পারলেই বাচি নায়িকা জান দিয়ে ভালবাসবে নায়ক হেয়ালি বেড়াবে পাত্তা দিবেনা থিমটুকুর অর্ধেক বই গেছেন লেখক অনেকটা লুতুপুতু টাইপ উপন্যাস হয়ে ত্যানাপ্যাচানী ত্যানাপ্যাচানী ত্যানাপ্যাচানী পড়া সবচে বিরক্তিকর বই - চরিত্র ধ্রুব ধ্রুব - রেমির প্রবাহটা কারো ভাল লাগলে জোর গলায় বলবো ভাই জি বাংলা জলশা স্টার প্লাসের সিরিয়াল দেখুন ভাল লাগবে অংশটা বিরক্তিকর বাকি বইটা ভাল লাগলেও শেষ বইটাকে অপছন্দের তালিকায় ফেলে দিলাম',\n",
              " 'সত্য মিথ্যার বেড়াজালে এক চমৎকার অনেকাংশেই তথ্য বিকৃতিতে ভরপুর উপন্যাসের শেষ একজন সামরিক স্বৈরশাসকের গুণগান রাজনৈতিক দলের স্লোগানে ব্যবহৃত তাকেই হুবুহু হয়েছে উপন্যাসকে ইতিহাসের দালিলিক প্রমাণ হিসেবে উপস্থাপন ইতিহাসকেই অপমান',\n",
              " 'ইতিহাসগ্রন্থ উপন্যাস দলিল দস্তাবেজ প্রবন্ধগ্রন্থ গল্পগ্রন্থ জগাখিচুরি পুস্তক জ্যাক আব অলট্রেড',\n",
              " 'The art of war বইটার বাংলা অনুবাদ দেখার বইটা কিনে ফেলি ইংলিশ ভার্সনটা বইটা নিঃসন্দেহে অসাধারণ অনুবাদটা পুরাই ফালতু লেখক মোটেও মত স্টাডি বইয়ের ৩৩ পৃষ্ঠা মন গড়া কথা লিখেছে কিনা বইটার সারস্মরম লেখার ধরন খুবই জঘন্য বইটা কিনতে যাই কল সেন্টার ভাল রিভিউ অনুবাদ কপিটার পড়ার ইতিহাস',\n",
              " 'জঘন্য কঠিন অনুবাদ কম - পড়েছি দুঃখিত Mr অনুবাদক',\n",
              " 'বই খারাপ অনুবাদ একদম ভাল লাগেনি লেগেছে জায়গায় খাপছাড়া জায়গায় প্যারা বুঝতে পড়তে হয়েছে ভাল বইটির ভাল অনুবাদ হওয়া',\n",
              " 'একটা স্টার নিচে যায়ে একটা স্টার খুবই বাজে রচনা মাথা মুণ্ড হয়ে লেখক দিয়ে জোর লেখানো হয়েছে পুরো টাকা টাই নষ্ট',\n",
              " 'বইটি পড়ে মজা পাইনি অনুবাদ একদম ভাল',\n",
              " 'ভুল বানান রয়েছে বইটিতে',\n",
              " 'বইটা চমৎকার দুঃখের সাথে অনুবাদ মান ভালো',\n",
              " 'বই কাহিনী ভালোই লেগেছে বই অসংখ্য বানান ভুল মজা নষ্ট দিয়েছে বাংলা বইয়ে এতো বানান ভুল পাই বিরক্তিকর হতাশাজনক',\n",
              " 'শীর্ষেন্দুর অদ্ভুতুড়ে সিরিজের কয়টা বই পড়েছি খাপছাড়াভাবে দুর্বল ঠেকল তিন দাগাতাম শেষ প্যারার আরেকটা কমিয়ে দিলাম',\n",
              " 'একটা দরকারি বই',\n",
              " 'হুমায়ুনের যেসব বইয়ের নাম দেখলে পেট মোচড় দিয়ে বমি আসে',\n",
              " 'ভালো হয়নি',\n",
              " 'নিশীথিনী হতাশ বইটি পড়ে হয়েছে দেবীতেই কাহিনী শেষ দিলে ভালো আশা বইটা হয়তো অন্যান্য বেশিই আশাহত হয়ে আমিই মূলত বইয়ের শেষটা একদমই মনঃপুত লাগেনি',\n",
              " 'বই রিভিউ পাগলা হয়ে কিনলাম মনটাই খারাপ হয়ে লেখক সাইন্স ফিকশন লেখছেন লাভ স্টোরি লাভ স্টোরিতেও এক মেয়ের বর্ননা ৫০ পৃষ্ঠা জুড়ে গল্প টা হয়ত খারাপ বর্ননা সাইন্স ফিকশনের সাথে যায় সত্যি কার অর্থে সাইন্স ফিকশন টাও সাইন্স মান দন্ডে বারে ভাল যেহেতু ভাল রিভিউ দিয়েছে সেহেতু মতামত বলব মোটা মোটি একটা গল্প হয়ছে মোটেও ভাল সাইন্স ফিকশন নি কথার পুনরাবৃত্তি খুবই',\n",
              " 'ভালো লাগলো একদম রহস্য',\n",
              " 'অদ্ভুত বই',\n",
              " 'বইটার ইংরেজি সংস্করণ পড়েছিলাম ইসলামের ইতিহাস হিসেবে মোটেও নির্ভরযোগ্য বইটি',\n",
              " 'বইটির টাইপিং ভুল রয়েছে',\n",
              " 'বিরক্তিকর বই বুঝায় বইটি পুরোপুরি সৃজনশীলতা তথ্য তত্ত্ব গঠনমূলক আলোচনা - সমালোচনা বইয়ে তীব্র ঘৃণা উগ্র বিদ্বেষ কুরুচিপূর্ণ ভাষার উদগ্র বই টানে পাঠককে ঘটনায় টানে ভাষায় গতিময়তায় অনলি টাইম ওয়েস্ট',\n",
              " 'বইটা প্রত্যাশা পূরণ ব্যর্থ হয়েছে চরমভাবে ব্যর্থ',\n",
              " 'বুঝলাম ধৈর্যে কুলালো একটু কঠিনই লেগেছে বইটার ভাষা',\n",
              " 'হুমায়ুন আহমেদ সবচেয়ে বাজে বইয়ের কাহিনী হালকা গাঁজাখুরি ছন্ন ছাড়া প্লটহোলে ভরা নট রিকমেন্ডেড',\n",
              " 'বইটি পড়তে হলিউডি গ্রেডেড সাই ফাই ফ্লিকের মতন মুখস্থ প্লটলাইন বিরক্তিকর চরিত্র ন্যাকা ডায়লগ সবই লেখকের বইগুলো PG রেটেড হয়না বলেই সম্ভবত রগরগে বর্ণনা',\n",
              " 'বই লেখক গাঞ্জা খেয়ে লেখা করছিলো',\n",
              " 'ভালো লাগে থ্রিল্লার থ পাই নারী চরিত্র রাখতেই মায়া নামক পুতুল এক চরিত্র আনা হইসে পুরো বইতে উল্লেখযোগ্য ভুমিকাই শেষ কিল্ফ হাংার নাজিম ভাইয়ের বই দুখ হতাশ হইসি বইটা কিনার নিলখেত গেসিলাম নিকুঞ্জ পুরা পাক্কা ২ ঘণ্টা লাগসিল',\n",
              " 'বাজে প্রিন্ট আদিকালের লোহার টাইপ প্রেসে ছাপা',\n",
              " 'মেটাফরিকাল যুক্তি দিয়ে ঈশ্বরের অস্তিত্ব প্রমাণের হাস্যকর ভুলে ভরা বৈজ্ঞানিক যুক্তি - তক্কের উপস্থাপনার সমালোচনা তোলা থাকুক এসব কাজের উপযোগী জ্ঞানী - গুণী মানুষ আছেন লেখকের চাপাতি ছেড়ে কলম হাতে যুদ্ধ প্রচেষ্টাকে এপ্রিশিয়েট যাই শুভবুদ্ধির উদয় ঘটলে হয়তো অভিজিৎ রায় বেঁচে থাকতেন',\n",
              " 'ভালো বই',\n",
              " 'নাঃ লেখাটাও জমল লেখক লেখার কেন্দ্রে রাখছেন দুর্বল সহজে - প্রভাবিত চরিত্র লেখার আকর্ষণ কমে যায় বইটিও অত্যধিক সরলীকরণের শিকার সর্বোপরি দানব বইটি কার্যত ছাঁচে ঢালা লেখাটা ভীষণ প্রেডিক্টেবল হয়ে পড়েছিল ভালো লাগল',\n",
              " 'উপকারি',\n",
              " 'কাহিনী হইল আস্তে ধীরে শেষ হইল হঠাত',\n",
              " 'ভাই এইভাবে কাটাকাটি মাথা ঘুরাইতেছে বানান ভুল জুস',\n",
              " 'প্রচুর বানান ভুল খাপছাড়া বাক্য অনুবাদ Worst translator',\n",
              " 'প্রচুর ভুল বিষোদগ',\n",
              " 'একটু ধীরে সুস্থিতেই বইয়ের গল্প বেড়ে উঠেছে মূল কাহিনী পড়েই হয়েছে শেষের ভাল রকমের এক সাসপেন্স আসি আসি করেও কোথায় আটকে তাছাড়া প্রতিমার ব্যাপারটিও বইতে ভালভাবে সমাধান হয়নি',\n",
              " 'বিরক্তিকর সময় নষ্ট করলাম পড়ে',\n",
              " 'বইটি কেনার ভালো লেগেছিল হয়েছিল ভালো মোটেও ভালো লাগছে কেমন সস্তা মানের',\n",
              " 'জঘন্য বই অনেকদিন পড়িনি আনিসুল হকের লেখার উচ্ছ্বাসও বইয়ের নাম দেখেই বইয়ের ভেতরের বস্তুর মান সম্পর্কে কিছুটা আন্দাজ করেছিলাম বইটা চেয়েও হতাশ ভালো উপন্যাস পড়ব এরকম আশা পড়তে করেছি এমনও মূল উদ্দেশ্য স্বৈরাচারবিরোধী আন্দোলন সম্পর্কে একটু জানাশোনা উদ্দেশ্যও একেবারে ব্যর্থ যেটুকু জানলাম সেটুকু জানতাম বিচ্ছিন আর্টিকেল ব্লগ সৌজন্যে স্বৈরাচার বিরোধী আন্দোলন পড়াশোনা শোচনীয়ভাবে কম তাছাড়াও সময়কালে বয়সও বোঝার হয়ে ওঠেনি বিষয়ে জানাশোনা শূন্যের কোঠায় সামান্য তথ্যও জানার পরিধিকে কিছুটা বিস্তৃত এইটুকু আশা আশাবাদ একেবারেই লাগে নি ইতিহাস জানার বই পড়ার পরিকল্পনা নিরুৎসাহিতই করব',\n",
              " 'মূল কাহিনীর - অনুবাদের - অনুবাদের বানানের - বানানের অবস্থা জঘন্য',\n",
              " 'অত্যন্ত বাজে অনুবাদ পুরো গল্পের মজা নষ্ট বইয়ের নাম কিনেছিলাম অনুবাদকের নাম যাচাই ছিলো গল্পের ল্যাজা মুড়ো বুঝার উপায় একাধারে নাটকের সংলাপের মত লাইন লাইন ট্রান্সলেট হয়েছে আসলে গল্প কিসের বুঝতে মাথা খাটাতে গল্পের ক্যারেক্টার গুলোর পরিচয় সুন্দর হয়নি',\n",
              " 'মাত্রাতিরিক্ত বাজে অনুবাদ',\n",
              " 'বিশ্বের সেরা রহস্য উপন্যাসঃ ৩ কাম ইজি গো ইজি বইটি বিশ্বের সেরা রহস্য উপন্যাস সিরিজের তিন নম্বর বই নালন্দা অনুবাদ সেল অনুবাদে সিরিজে এসেছে অসাধারন অসাধারন আন্তর্জাতিক মানের রহস্য উপন্যাস অত্যান্ত জনপ্রিয় হয়েছিল পাঠক সমাজে আলোড়ন তুলেছিল অসাধারন সিরিজের বইগুলো তে পাঠক পাবেন প্রতিটি উপন্যাসেই রোমাঞ্চকর অভিজ্ঞতা রোমাঞ্চোপন্যাস পাঠক দের সিরিজ বের নালন্দা অনুবাদ সেল বিশ্বের সেরা রহস্য উপন্যাস সিরিজের অসাধারন রোমাঞ্চকর বইটি অনুবাদ প্রকাশিত ২০১৭ সালে বইটি প্রকাশিত নালন্দা প্রকাশনী প্রকাশক রেদওয়ানুর রহমান জুয়েল বইটি সম্পাদনায় আছেন অস্ট্রিক আর্যু প্রচ্ছদ ডিজাইন জাহাঙ্গীর আলমর আধুনিক ইংরেজি রহস্য সাহিত্যের জগতে জেমস হ্যাডলি চেজ বিখ্যাত নাম দেশেই ইংরেজী পড়া দেশে লেখালেখির সমকক্ষ জনপ্রিয় লেখক বেশী চোখে পড়ে লেখা কাম ইজি গো ইজি উপন্যাসটি অনুবাদ প্রকাশিত হয়েছে বইটি তে হেডলি চেজের কাহিনিগুলোতে সচরাচর গোয়েন্দা নায়কের ডিটেকশনের ব্যাপার দীর্ঘকাল প্রধান রহস্যকাহিনীতে এদিকেই জোর টা হয়েছে চেজ লক্ষভেদ পাপীর মনের ভেতর ঢুকে কামনা বিবেক অনুশোচনার বিশ্লেষন অসাধারন থ্রিলার বইটি পড়লে পাঠক অন্যরকম স্বাদ পাবেন রহস্যপোন্যাস বইটি পড়ার সময়ে পাঠক গল্পটিতে ডুবে বাধ্য অসাধারন রহস্যপোন্যাসটি পাঠকেরই ভালো লাগবে',\n",
              " 'ওনার বইয়ের সবচেয়ে শক্তিশালী দিক contextualization গল্পই হয়েছে ছায়া অবলম্বনে লেখা বেজি গল্পটিতে কয়েকটি অসঙ্গতি প্রথমদিকে গল্পটা অকারনে প্যাঁচানো হয়েছে সবের মিলিয়ে টেনেটুনে বইটা পুরান বইয়ের দোকান কিনতাম কিনে থাকলে বেচে দিতাম ধার পড়তাম পিডিএফ পড়তাম অন্যদের কথা জানি পয়সা খরচ বই কিনতাম',\n",
              " 'বেসিক আলী কমিক্স সিরিজ ভক্ত বই সফল নিরাশ বইটা পড়ে নিরাশ হয়েছি',\n",
              " 'সবচেয়ে ফালতু বই খালি খালি টাকা নষ্ট science - fiction লেখে প্রেম পিরিতের কথা লেখা তাছাড়াউ আজেবাজে কথা লেখা',\n",
              " '১০ পাতায় একটা গল্পকে টেনে টুনে ১৩৬ পাতার লম্বা একটা গল্পে পরিনত হয়েছে ডিসগ্রেসফুল',\n",
              " 'বাজে সাইন্স ফিকশন পুরা টাকাটাই নষ্ট',\n",
              " 'হতাশ হয়েছি আশানুরূপ বইটি',\n",
              " 'বিরক্তিকর থ্রিল',\n",
              " 'ভাল লাগেনি বইটা ভাল জিনিস আসলে লেখার ভাষা বিজ্ঞানের মাধুর্য অনেকটা স্কুল কলেজের বই মত হ',\n",
              " 'ভালো লাগে',\n",
              " 'ফালতু বই জঘন্য গল্প',\n",
              " 'ফালতু একটা বই বই নামটা ভুতের বাচ্চা জাফর ইকবাল দিলে ভালো হতো',\n",
              " 'জাফর ইকবালের বইয়ের সবচেয়ে ফালতু বই',\n",
              " 'রেটিং নাম বইটি কিনেছিলাম ভাবলাম বাংলাভাষায় বইয়ের প্রয়োজন ছিলো পড়ার মনটাই খারাপ হয়ে একটা বই হলো চাইতে ইউটিউব সন্দিপ মাহেশরীর লাস্ট লাইফ চেনজিং সেমিনার গুনে ভালো',\n",
              " 'খুবই কঠিন ভাষা বুঝা যায়',\n",
              " 'খুবই কটিন ভাসা বুঝা যায়',\n",
              " 'একটা ছোট্টগল্প বিশেষত্ব',\n",
              " 'উনার কয়েকটি বই কিনেছিলাম বই গুলো পড়ে দেখি উপস্থাপনা অত্যন্ত খারাপ বই পড়ার অযোগ্য',\n",
              " 'অসম্ভব ধোর্যশীল ব্যাক্তি ভালো খারাপ বইয়ের পার্থক্য বোঝে ছাড়া বই পড়তে পারা অসম্ভব অযথা ত্যানা পাকানো হয়েছে উপন্যাসে কাহিনীর কোন আগাগোড়া মুক্তিযুদ্ধ রচনায় হয়ে উঠেছে ভিষন স্থুল একজন প্রাপ্ত বয়স্ক লেখকের আবেগ কোথা আসে কাহিনীর ধারাবাহিকতা বই মুড়ির মত বিক্রি হয়েছে বই বিক্রি হয়েছে বিজ্ঞাপনে আলোর বিজ্ঞাপনের কারনেই আনিসুল হকের এসব অখাদ্য লোকে এক হিসেবে বাধ্য হয়ে কিনছে প্রথিবীর উৎকুষ্টতম বই হিসেবে বড্ড ব্যবসায়িক লেখক লেখকই নন জঘন্য বিরক্তিকর অসহ্যনিয় পাঠের অযোগ্য',\n",
              " 'বইটার মূল হিটলারের জীবনী সংক্রান্ত বইটা পড়ার সময় অনুবাদকের অনুবাদটি কঠিন হয়েছে তাছাড়া কোথাও কোথাও ভূল বানান রয়েছে',\n",
              " 'করুন করুন করুন - করুন ওটা করুন করুন বই টা ঘিরে এক রাশ হতাশাই প্রকাশ করলাম',\n",
              " 'এরকম ভিত্তিহীন কাল্পনিক গল্প শিশুদের পড়াই ভালো',\n",
              " 'বিরক্তি পড়া শেষ করেছি হুমায়ূন আহমেদের হঠাৎ মিসির আলির বইতে ঢুকতে ইচ্ছে জানি বইতে উপস্থিতি বিরক্তির মাত্রা অনেকাংশে বাড়িয়ে দিয়েছে',\n",
              " 'নামকরণের সাথে উপন্যাসের মিল গতানুগতিক লেখাগুলোর প্রাপ্তি বললে বলব মার্থার কাহিনীটুকু নাহ',\n",
              " 'একেবারে দুর্বল অনুবাদ কলকাতার বাংলা বাংলাদেশের বাংলা মিলে পুরো জগাখিচুড়ি ভিতর বঙ্কিমের বাংলাও প্রকাশনীগুলোর অনুবাদ ছাপানোর পড়া অনুবাদ যেহেতু পেরেছেন প্রকাশনী নিজেও একটু শ্রম সময় দিয়ে অনুবাদক আদায় পারতেন সুন্দর অনুবাদ',\n",
              " 'কারণে উপন্যাসটা ধরেছিলাম পারছি পড়লে ভালো ব্যাটা বেটি কারণকে জব্বর একটা ধোলাই দিতাম আচ্ছারকম শিক্ষা সময়ের অপচয় কাহিনির বিশেষত্ব খুশি লিখেছেন কান ধরলুম শিক্ষা হয়েছে আছি গো মা বিপদে',\n",
              " 'খুবি বিরক্ত লেগেছে ঘটনা ঘুরায় প্যাচায়',\n",
              " 'একটা বইয়ের পাতায় পাতায় এতো প্রেম থাকলে হজম একটু কঠিন একটু আসলে ভালোই কঠিন বিশাল প্রেমময় বই ভাল বিশাল প্যারাময় বই',\n",
              " 'ফালতু বই টাকা নষ্ট',\n",
              " 'একটু পড়ে বলসিলো একটু পড়লাম হড়হড় বমি দিলাম কেনার সাহস পাই নি রিভিউতে গেলাম রিভিউ দিছে এইটুকু বলবো দিনশেষে রিভিউ দিয়ে থামানো যাবেনা কেয়ার নাকে বললো বললো',\n",
              " 'বই ছিঃ ধিকার জানায় প্রশাসনের নজর দেয়া উচিৎ বই ২১ শে বই মেলায় পাবলিশ কতটা মান সম্পূর্ণ রকমারিরও উচিৎ বই ওয়েবসাইটে পাবলিশ',\n",
              " 'প্রিয় রকমারি কম দয়া বইটি আপনাদের ওয়েবসাইট সরিয়ে ফেলুন বড্ড বেমানান দেখাচ্ছে বাংলিশ বইটিকে',\n",
              " 'পুরাই ফালতু বই ফালতু বই কিভাবে বই মেলায় গেলো মাথায় ধরতেছে',\n",
              " 'বাংলা ভাষাকে রীতিমত ধর্ষণ হয়েছে বইয়ে কেনার প্রশ্ন আসে ব্যান উচিৎ বইকে',\n",
              " \"আফসোস বাংলা ভাষায় ' জঘন্য ' শব্দটির নীচে শব্দ\",\n",
              " 'মানে এক কথায় লিখে ছাপিয়ে দিচ্ছে সমস্যা টা বুঝতে পারছি',\n",
              " 'বাংলা ইংরেজি মানে বাংলিশ ভাষা দক্ষতার হো * * মারা হয়েছে বইটির জয় রাবা খানের বাড়া খান',\n",
              " 'দয়া বাঙালি বইটি কিনবেন দেশকে ভালবাসলে ভাষাকে ভালবাসলে বইটিকে বর্জন করুন',\n",
              " 'আবর্জনা',\n",
              " 'বইটা অশ্লীল যানতাম',\n",
              " 'বুলশিট',\n",
              " 'বাংলাদেশের সাহিত্যের বই টা একটা হুমমি',\n",
              " 'ফাউল একটা বই',\n",
              " 'বাংলা ভাষাকে ব্যাঙ্গ এদেরকে বেত দিয়ে টস টস পিটানো উচিৎ',\n",
              " 'টাইপ আবর্জনা রকমারিতে কিভাবে আসল বুঝতে পারছি খালি টাকা দিলেই রকমারিতে বইয়ের বিজ্ঞাপন দেয়া যায় রকমারির শর্ত গুলো পরিবর্তন উচিৎ টাইপ বই ওয়েবসাইটে সাহিত্যের পরিবেশ দূষণ',\n",
              " 'সবচেয়ে বাজে ফালতু বই রকমারির উচিৎ হয়নি বইটি লিস্টে রাখার বইটি বাংলা ভাষাকে বিকৃত মর্যাদাও নষ্ট টাকার লোভে প্রোমোট বুঝতে বাংলা একাডেমির খামখেয়ালি ভাব মোটেও গ্রহণ যোগ্য',\n",
              " 'বাজে একটা বই বইটি বাতিল বইটি বাংলা ভাষাকে অপমানিত কর',\n",
              " 'ইসলাম লিখা বইয়ের কভার বাজে কিভাবে উমার হুকা টানতেন কথা কোথায় লিখা ইসলামিক ইতিহাস লিখতে চাইলে ইসলামের মহান ব্যক্তিত্বদের টানার অবশ্যই জেনে নি',\n",
              " 'খুবই হাস্যকর ধিক তারে শত ধিক',\n",
              " 'অপরিশীলিত',\n",
              " \"ল\\u200cইট্টা শুটকির সাথে ইঁদুর মারার বিষ\\u200cও ব\\u200cইয়ের বাংলা ভাষার বেইজ্জতি সবাই হাগু ওরাও ভাষার রক্তের দাম জানবে রকমারিতে ' বান্ধobhi ' সর্বোচ্চ বিক্রিত ব\\u200cইয়ের তালিকায় জায়গা পায়\",\n",
              " 'রাবা খান আপনাকে বলছি বই লিখতে লেখেন সাধনা বই লেখা উচিৎ নাহ্ একটা অসভ্য ভাষায় বইটি লিখতে গেলেন সত্যিি বই লিখতে চেয়ে ভাষাকে অপমান চেয়ে আপনাদের মত ফালতু মানুষ বই লেখা প্রকাশ করাকে নিছক খেলা আপনাদের ভালো ভালো লেখকরা সুযোগ পাচ্ছে ধিক্কার জানাই আপনাকে মত মানুষদের',\n",
              " 'বাংলা ভাষার মা বাপ বইয়ের উপরের প্রচ্ছেদটাই',\n",
              " 'অমর একুশে বইমেলা - ২০১৯ সুনাম নস্ট জঘন্য বই',\n",
              " 'বাংলা সাহিত্যকে শেষ এইটাই',\n",
              " 'পুরাই অখাদ্য এক পেইজও পড়ার ধৈর্য বাজে ইংরেজি জ্ঞান বই লিখতে গেলেন সহজ বাংলাতেও লিখা যেত',\n",
              " 'লেখা তাল সম্ভব লেখিকা লেখার মানকে গুরুত্ব নাদিয়ে টাকা কামানোর দিকেই লক্ষ্য পৃষ্ঠা সংখ্যা বাড়ানোর পৃষ্ঠায় সম্পূর্ণ ভরে লিখেনি অনুচ্ছেদে পৃষ্ঠার মাঝথেকে লেখা জায়গায় উপমা বর্ননা ভালো লেগেছে',\n",
              " 'আসলো এইসব আজে বাজে বই বের বিক্রি',\n",
              " 'রাবা খান গোষ্ঠী ইস্ট ইন্ডিয়া কোম্পানি আসা লোকের মত কথা ভাষার মান ইজ্জ্বত খাচ্ছে ধরণের লেখা বই এও বই পেজ থাপ্রাই দাঁত ফেলে মন চাইছে ফাইজলামি লাগাইছে',\n",
              " 'বাংলা ভাষা মধুর ভাষা ইংরেজীতে লিখুন নয়তো বাংলায় ভাষাকে বিকৃত অধিকার আপনাকে দেয় নি সেলিব্রেটি অধিকার পেয়ে গেছেন সময় শুধরান',\n",
              " 'জিরো স্টার দেয়ার উপায় আফসোস',\n",
              " 'বই পুরো প্রকাশনী জগতের কলঙ্ক',\n",
              " 'দেশের সাহিত্য কবর দেওয়ার রাবা খান সোলাইমান মত বস্তা পচা বই',\n",
              " 'বই কিভাবে প্রকাশিত ক্রেতারা নিচ্ছে হতবাক বই অংশ পড়ে দেখেই মেজাজটা বিগড়ে',\n",
              " 'বাংলা একাডেমীর বইয়ের লেখিকা প্রকাশনীর বিরুদ্ধে কঠোর ব্যবস্থা নেয়া ভবিষ্যতে ভাষার বিকৃতি বই বের',\n",
              " 'পুস্তক পড়িয়া বোধ হইয়াছে লেখক জীবনে বালতি গামছার ব্যবসা করিতেন উদ্ভাবনি প্রতিভার অভাব হেতু আকর্ষণীয় বিজ্ঞাপন প্রস্তুত করিয়া ক্রেতাগণকে প্রভাবিত করিয়া পর্যাপ্ত বালতি গামছা বিক্রয় করিয়া লাভের মুখ দেখিতে পারিতেছিলেন এমতাবস্থায় বালতি গামছা লইয়া ক্ষণে ক্ষণে প্রেমিকার লাগিয়া হুহু করিয়া ক্রন্দন করিয়া বিছানা বালিশ ভিজানোর কাহিনী ফাঁদিয়া লেখক মহাশয় ব্যবসা রক্ষার শেষ চাল চালিয়াছেন',\n",
              " 'মেমসাহেব পড়তে যেয়ে বুঝেছিলাম বিরাট ধৈর্যের অধিকারী বই পড়তে কখনো এরকম কষ্ট টাইম ওয়েস্ট এতটা জনপ্রিয় কেনো বুঝার শেষ করেছি এখানেও ব্যর্থ পাঠ্য - জীবনে সম্ভবত এতটা লুতুপুতু প্রেমকাহিনী দুর্লভ',\n",
              " 'চটি গল্প পুরোটাই শেষটা একটু জাতের একটা স্টার রেটিং হিসেবে দিয়েছি ওটা শেষটুকুর জন্যই অযথা সময় নষ্ট বইটা পড়ার ঢের ভালো বই',\n",
              " 'শুরুটা ভালো বাকি অংশটুকু নীতিকথা অলৌকিকতা অধারাবাহিক কাহিনীর ছড়াছড়ি ছাড়া',\n",
              " 'লে হালুয়া বইয়ের চরিত্রই কেমনে এতো ভালো উচ্চাঙ্গ সঙ্গীত গাইতে সবারই খালি উদাস উদাস সন্ন্যাসী ভাব হরিশংকর মোটামুটি চরিত্রই সময়ে কম বিরক্তির উদ্রেক সারাক্ষণই প্রচন্ড বিরক্তিকর চরিত্র বইয়ের মূল চরিত্র ভন্ড চরিত্র কখনো পড়েছি পারতেসি হাতের পেলে ঠাস ঠাস চড় মারতে পারলে একটু ভালো লাগত',\n",
              " 'বইটা পড়েছিলাম লুকিয়ে লুকিয়ে ৬ষ্ঠ ৭ম শ্রেণীতে পড়ি নিষদ্ধ জিনিষ ঘ্রান পেয়েই মূলত বইটা পড়া নিশ্চই ভালো ছিলো বইটা সংগ্রহ করেছিলাম ছোট আন্টির অবশ্যই জানিয়ে বইটা একটুও ভালো লাগে হুমায়ুন আহমেদের বইগুলা পরবর্তীতে পড়া হইছে সেগুলোর নিকৃষ্ট',\n",
              " 'বইটা বাসায় ছিলো পড়া আজকে পড়লাম গল্প হিসেবে গুছায়ে উঠার শেষ কাহিনীর টানাপোড়ন একেবারে দস্যু দলের মুখে ভাষার জুতসই লাগলো সম্ভবত বছরে একটা সায়েন্স ফিকশান লিখতে কারণেই লিখা গুডরিডসে ঝাঁঝালো রিভিউ একটু হতাশ হলাম পরিসংখ্যানের হিসেবে বাজে গল্প গুলোই পরবর্তীতে ভালো গল্পের ভিত্তি হিসেবে একশটা বই লিখলে ভালো মন্দ হবেই সায়েন্স ফিকশান পড়ে প্রথমবার পড়লেও ভালো লাগতো',\n",
              " 'বলার পড়ে হতাশ হয়েছি পড়ার সময় হয়েছে লেখক শুধুমাত্র লেখাটি শেষ জন্যই ব্যস্ত কাহিনীর গভীরতা মোটেও একটুখানি গুরুত্ব দিলেই চরিত্রগুলো বিকশিত পারতো',\n",
              " 'মোটামুটি অখাদ্য একটা সায়েন্স ফিকশন টিনেজ বয়স পার এসেছি ১৪ - ১৫ বছরের ছেলেমেয়েদেরও বইটা ভালো লাগবে সন্দেহ',\n",
              " \"বইগুলোর দাম পৃষ্ঠা সংখ্যার চেয়ে তুলনামূলক বেশী সেগুলো বেশীরভাগ সময়ই চমৎকার অখাদ্য - একটা প্রকৃষ্ট উদাহরণ ' নানু দাদু - ভাইর ' লেখা বইটা কোনোদিন সুযোগপেলে বিরুদ্ধে মামলা করুম - ব্যপারে শতভাগ নিশ্চিত > _ <\",\n",
              " 'বই শখ পড়তে বসেছিলাম ভালো বই ভেবে বইটির বেস্ট ডেসক্রিপশন সম্ভবত একজন রাজনৈতিক দলের নিবেদিত কর্মীর মনস্ক্রিয়ার পাডুলিপি বইতে ইসলামী রাজনীতির কার্যকলাপ নির্দিষ্ট হয়েছে শুধুমাত্র মানদণ্ডেই বইটিকে ফুল মার্ক্স যায় ইসলাম ধরম বিভ্রান্তিমূলক কথাবার্তা উল্লেখ রয়েছে আগেও লেখক হুমায়ুন আজাদের চাছাছলা লেখা পছন্দ হয়নি ব্যক্তিগত বই নিষেধের পক্ষপাতী নই অর্ধেক পড়ার অগ্রসর রুচি হয়নি সমগ্র বইটিতে চ্যাপ্টার উপন্যাস এক হিসেবে চটি হিসেবে চালিয়ে যায় literary content এটাতে খুঁজলে পাওয়ার আশা বৃথা অতি লেখার পাঠক সংখ্যা বৃদ্ধি উত্তম পন্থা নিষিদ্ধ ঘোষণা - পাক সার জমিন সাদ বাদ উক্তির জলজ্যান্ত উদাহরণ',\n",
              " 'নোংরা অর্থহীন বই মাতামাতি বইয়ের মাথামুন্ডুহীন উপস্থাপনাকে কল্পনায় বিমূর্ত শিল্প ভেবে নেয় হয়তো',\n",
              " 'কষ্ট ২৫টা পৃষ্ঠা পড়লাম পারলাম ভাল উপন্যাসের ম্যাটেরিয়াল লেখক নিম্নমানের লেখনী দিয়ে নষ্ট ফেলেছেন মনটা তিতা হয়ে সিগারেট ধরিয়ে সমঝদার বন্ধুর সাথে আড্ডা পারলে ভাল',\n",
              " 'ফ্ল্যাপে থ্রিলার লেখা ছিলো পড়তে একবারও টের পাই নি জায়গায় অপ্রয়োজনীয় প্যাঁচাল বিরক্তিই বাড়িয়েছে কাহিনীর অসামঞ্জস্যতা পীড়াদায়ক প্রায়ই হয়েছে ছাঁইপাশ লেখা মাথা - মুন্ডু পড়া লেখকের বই নাম শুনে হাতে নিয়েছিলাম পুরোপুরি হতাশ',\n",
              " 'বইটা শেষ হয়েছিল লেখক মোটেও উপন্যাসের পরিণতি সম্পর্কে ছক লিখেছেন প্রচন্ড হতাশ হয়েছি',\n",
              " \"খুবই দূর্বল রচনা লোকজনের প্রশংসা শুনে বইটি কিনে পড়েছি খুবই হতাশ হলাম সমস্যার কয়েকটি উল্লেখ ১ পুরো বইটিই ভুল বানানে ভর্তি পড়তে পড়তে বিরক্তি আসবে ২ প্রধান চরিত্রের ফ্ল্যাশব্যাকগুলো বইয়ের পৃষ্ঠাসংখ্যা বৃদ্ধি সেগুলোর কয়েকটি বেশিরভাগের সাথেই বইয়ের মূল গল্পের সংযোগ অংশগুলো বই বাদ দিলেও মূল গল্পের আসবে ৩ চরিত্রের পয়েন্ট অব ভিউ লেখা অংশগুলো চরিত্রের সাথে সামঞ্জস্যপূর্ণভাবে বর্ণিত হয়নি মনোযোগী পাঠকের পাঠে বিরক্তি যোগাবে ৪ গল্পের মূল রহস্যটি প্রচণ্ড ক্লিশে গল্পে বর্ণিত - চর্বিত ' অনন্ত জীবনের খোঁজে তদসম্পর্কিত টানাহ্যাঁচড়া ' ওপর ভিত্তি লেখা ৫ গল্পের অংশ অসামঞ্জস্যপূর্ণভাবে সাজানো হয়েছে ৬ প্রধান চরিত্রগুলো নির্মাণ হয়েছে খুবই দূর্বলভাবে পরিস্থিতিতে এইসব চরিত্রের প্রতিক্রিয়াও আরোপিত হয়েছে\",\n",
              " 'প্লট অভিনব ড্যান ব্রাউন কারো সাথে মিল পাইনি স্টোরিটেলিং লেখার ধরণ একেবারে - নবিশদের মত অহেতুক জায়গায় টানা হয়েছে পরের ২টা পড়া কিনা বুঝতে পারছি',\n",
              " 'পড়লেই ক্ষতি মূল্যবান সময় বাঁচবে',\n",
              " 'ধরণের বইয়ে একটা ফাতরা ক্যারেক্টার থাকাই মৃন্ময়ীর দাদা মা মৃন্ময়ী জহিরের বোন মিনা স্বামী সবুজ টিয়া এতগুলো ফাতরা আহ্লাদি ক্যারেক্টার থাকাটাই ভাল চিত্রার বিয়ে বইটি পড়েছেন একটু লক্ষ্য করলেই দেখবেন বইয়ের প্লট খানিকটা ঘুরিয়ে ফিরিয়ে লেখা অসহায় মিথ্যাবাদী বোন চুরির অভ্যাস নির্দিষ্ট সময়ে টেলিফোন হুমায়ূন আহমেদ অন্যতম প্রিয় লেখক বইতে সচরাচর এক দেই বইতে বাধ্য হলাম',\n",
              " 'সস্তা - ম্য - উ - প - ন্যা - স',\n",
              " 'হুমায়ূন আহমেদের বই একেবারেই ভালো লাগলো বইটা হুমায়ূন আহমেদ লিখেছিলেন জানি বইয়ের শেষে তারাশঙ্করের ডাইনী গল্পটাও ঢুকিয়ে দেয়াটা কেমন লেগেছে',\n",
              " 'ম্যাজিক বই ম্যাজিক বিষয়ে ইনটারেস্ট ম্যাজিকের বর্ণনামুলক বই শেষ ভালই কষ্টকর',\n",
              " 'একটু সিনেমাটিক হয়ে গেলো লেখনী বড্ড দুর্বল ভিতরে দাগ কাটেনা একজন শিল্পী চরিত্রকে ফুঁটিয়ে তোলা হয়েছে যেই শিল্পী মেয়েদের মেয়েমানুষ ভাবতেই ভালবাসে মেয়েদের অফিস আদালতে মানায় প্রকৃত স্থান রসুইঘরে একজন শিল্পীর নিচুমনের ভাবনা শোভা পায়না বই এতো বিখ্যাত ভাবতাম মেমসাহেব ওভাররেটেড বই বাংলা সাহিত্যে দ্বিতীয়টি ভাবনা ভুল',\n",
              " 'এক কথায় হতাশ কথায় হতাশ বইটার অসাধারণ হচ্ছিল শিল্পীদের বোহেমিয়ান জীবন মনোমুগ্ধকর উপন্যাস পড়তে যাচ্ছি করাচির এক্সিবিশন বন্ধুদের আড্ডা আর্ট বিষয়ক কথাবার্তা ইন্টারেস্টিং লাগছিল পড়তে তরতর আগাচ্ছিল বই পনেরো - বিশ পেজ দ্রুত পড়েও ফেললাম পরের কাহিনী পুরনো আমলের বাংলা সিনেমার সাথেই তুলনীয়',\n",
              " 'বাংলা সাহিত্যের সবচেয়ে ওভাররেটেড বইগুলোর এক',\n",
              " \"অতিরিক্ত রকমের ফালতু বই ফালতু ফালতু মতাদর্শ বইয়ের এতো নাম ডাক ক্যামনে হইলো লেখকরে পাইলে দাঁড় করাইয়ে একটানা আধা ঘণ্টাব্যাপী ' অতি গঠনমূলক সমালোচনা - বক্তৃতা ' প্রদানের তীব্র ইচ্ছা জাগছে\",\n",
              " 'ব্যক্তিগত মতামত উপন্যাসটি একদমই ভালো লাগেনি জাহেদ মহৎ একজন ধর্ষিতাকে মেনে নিয়েছে ছবি সৌভাগ্যবটি একজন বিয়ে অতীত মেনে নিয়েছে ভালো লাগেনি একদমই overrated',\n",
              " \"শহীদুল জহিরের গল্প বলার ধরণ ভাল লাগে নি হয়তো বাক্য গঠনের স্টাইলের গল্পে মনোযোগ নষ্ট হয়েছে হয়তো কথা ঘুরিয়ে ফিরিয়ে বারবার পড়তে পড়তে চূড়ান্ত রকমের বিরক্ত হয়েছি হয়তো পুরান ঢাকার ভূতের গলির সম্পূর্ণ পুরান ঢাকার মানুষের যাপিত জীবনধারা মস্তিষ্কের গ্রে সেলগুলি উত্তেজিত নি হয়তো গল্পগুলির তাৎপর্য বোধগম্য হয়নি গল্পগুলি নিছক বলার জন্যই গভীর তাৎপর্যের সন্ধানকারীদের এসব হয়তো ' জাদু বাস্তবতা ' ' ম্যাজিক রিয়ালিজম ' এক্সপেকটেশন ফুলফিল পারেনি হয়তো রবীন্দ্রনাথ মানিক সুনীলে বুঁদ ভাষা শহীদুল জহিরের ভাঙচুর বিচলিত নি\",\n",
              " 'অত্যন্ত বাজে অনুবাদ হচ্ছিল Google traslator দিয়ে',\n",
              " 'বইয়ের সাইজের একটা ব্যাপার ধরনের ফালতু সাইজের বই বই পড়ার দিয়ে মানুষ ঝালমুড়ি খায় সেল্ফে রাখে ধরনের সাইজের বই',\n",
              " 'মোস্তাক আহমেদের কয়টা বই পড়ছি সবই ভুয়া লেখার মান খুবই বাজে',\n",
              " 'পুরাই ফাওল তারপরও পড়ে দখতে হয়ত লাগলেও লাগতে মেধা বিকাশের বিষয়ে উপদেশ দেয়া article লেখার lolz',\n",
              " 'বানানে ভুল প্রকাশ চেক ছিলো',\n",
              " 'এইটা ট্রান্সলেট করসে বুঝতাসিনা সরাসরি google ট্রান্সলেটোর ব্যাবহার কইরা ট্রান্সলেট করসে ভাষার ভাবার্থই প্রতিটা পেজেই ভুল ভুল Rokomarir দৃষ্টি আকর্ষণ করছি - আপনারা দয়াকরে বইয়ের গুণমান ভালোকরে যাচাই বই select',\n",
              " 'ভূলে ভরা বই বাক্যগুলো জটিলভালে লেখা বুঝতে কষ্ট সেখানেই দাড়ি কমা লাগানো সম্পূর্ণ বইতে বানানের ভূল সবমিলে বাজে অবস্থা অনুরোধ রকমারি বইটি বিক্রয় বন্ধ দেয় দাম দিয়ে বই কিনে পড়ার সময় বিরক্তি পড়তে দুঃখজনক',\n",
              " 'বাজে অনুবাদ একদম বাজে প্লিজ অনুবাদ কিনবেন বড় ভুল করলাম বই টা কিন',\n",
              " 'অত্যন্ত বাজে অনুবাদ রিভিউ কিনে দেখলে ঠকতে হতো প্রচুর বানান ভুল বুঝতে পারছিনা শেষ করব কীভাবে ৩১ পৃষ্ঠা অতি কষ্টে পড়লাম ইংরেজী পড়াটাই বেটার হা আমিও একমত অন্যদের সাথে এরকম বই লিস্টে রাখবেন বইপ্রেমীরা বাজে বইয়ের পিছনে টাকা ঢালতে পছন্দ করবেনা ভুল বললে ক্ষমা চাচ্চি অগ্রেই']"
            ]
          },
          "metadata": {},
          "execution_count": 488
        }
      ],
      "source": [
        "#cleaning the texts\n",
        "import re\n",
        "corpus=[]\n",
        "for i in range(0,700):\n",
        "    review = re.sub('[‘’“”…,।.?/()\\!:;{}\"]', ' ', data['Review'][i])\n",
        "    review = re.sub('\\n', '', review)\n",
        "    bn_stemmer = BanglaStemmer()\n",
        "    review=bn_stemmer.stem(review)\n",
        "    review = remove_stopwords(review, stopwords)\n",
        "    review=' '.join(review)\n",
        "    corpus.append(review)\n",
        "corpus"
      ]
    },
    {
      "cell_type": "code",
      "execution_count": null,
      "metadata": {
        "colab": {
          "base_uri": "https://localhost:8080/"
        },
        "id": "sISLzcao6VU9",
        "outputId": "a1eae5f4-24d1-4ee9-db63-3e7389c82dd4"
      },
      "outputs": [
        {
          "output_type": "stream",
          "name": "stdout",
          "text": [
            "[[0. 0. 0. ... 0. 0. 0.]\n",
            " [0. 0. 0. ... 0. 0. 0.]\n",
            " [0. 0. 0. ... 0. 0. 0.]\n",
            " ...\n",
            " [0. 0. 0. ... 0. 0. 0.]\n",
            " [0. 0. 0. ... 0. 0. 0.]\n",
            " [0. 0. 0. ... 0. 0. 0.]]\n",
            "[1 1 1 1 1 1 1 1 1 1 1 1 1 1 1 1 1 1 1 1 1 1 1 1 1 1 1 1 1 1 1 1 1 1 1 1 1\n",
            " 1 1 1 1 1 1 1 1 1 1 1 1 1 1 1 1 1 1 1 1 1 1 1 1 1 1 1 1 1 1 1 1 1 1 1 1 1\n",
            " 1 1 1 1 1 1 1 1 1 1 1 1 1 1 1 1 1 1 1 1 1 1 1 1 1 1 1 1 1 1 1 1 1 1 1 1 1\n",
            " 1 1 1 1 1 1 1 1 1 1 1 1 1 1 1 1 1 1 1 1 1 1 1 1 1 1 1 1 1 1 1 1 1 1 1 1 1\n",
            " 1 1 1 1 1 1 1 1 1 1 1 1 1 1 1 1 1 1 1 1 1 1 1 1 1 1 1 1 1 1 1 1 1 1 1 1 1\n",
            " 1 1 1 1 1 1 1 1 1 1 1 1 1 1 1 1 1 1 1 1 1 1 1 1 1 1 1 1 1 1 1 1 1 1 1 1 1\n",
            " 1 1 1 1 1 1 1 1 1 1 1 1 1 1 1 1 1 1 1 1 1 1 1 1 1 1 1 1 1 1 1 1 1 1 1 1 1\n",
            " 1 1 1 1 1 1 1 1 1 1 1 1 1 1 1 1 1 1 1 1 1 1 1 1 1 1 1 1 1 1 1 1 1 1 1 1 1\n",
            " 1 1 1 1 1 1 1 1 1 1 1 1 1 1 1 1 1 1 1 1 1 1 1 1 1 1 1 1 1 1 1 1 1 1 1 1 1\n",
            " 1 1 1 1 1 1 1 1 1 1 1 1 1 1 1 1 1 0 0 0 0 0 0 0 0 0 0 0 0 0 0 0 0 0 0 0 0\n",
            " 0 0 0 0 0 0 0 0 0 0 0 0 0 0 0 0 0 0 0 0 0 0 0 0 0 0 0 0 0 0 0 0 0 0 0 0 0\n",
            " 0 0 0 0 0 0 0 0 0 0 0 0 0 0 0 0 0 0 0 0 0 0 0 0 0 0 0 0 0 0 0 0 0 0 0 0 0\n",
            " 0 0 0 0 0 0 0 0 0 0 0 0 0 0 0 0 0 0 0 0 0 0 0 0 0 0 0 0 0 0 0 0 0 0 0 0 0\n",
            " 0 0 0 0 0 0 0 0 0 0 0 0 0 0 0 0 0 0 0 0 0 0 0 0 0 0 0 0 0 0 0 0 0 0 0 0 0\n",
            " 0 0 0 0 0 0 0 0 0 0 0 0 0 0 0 0 0 0 0 0 0 0 0 0 0 0 0 0 0 0 0 0 0 0 0 0 0\n",
            " 0 0 0 0 0 0 0 0 0 0 0 0 0 0 0 0 0 0 0 0 0 0 0 0 0 0 0 0 0 0 0 0 0 0 0 0 0\n",
            " 0 0 0 0 0 0 0 0 0 0 0 0 0 0 0 0 0 0 0 0 0 0 0 0 0 0 0 0 0 0 0 0 0 0 0 0 0\n",
            " 0 0 0 0 0 0 0 0 0 0 0 0 0 0 0 0 0 0 0 0 0 0 0 0 0 0 0 0 0 0 0 0 0 0 0 0 0\n",
            " 0 0 0 0 0 0 0 0 0 0 0 0 0 0 0 0 0 0 0 0 0 0 0 0 0 0 0 0 0 0 0 0 0 0]\n"
          ]
        }
      ],
      "source": [
        "# TF-IDF process\n",
        "from sklearn.feature_extraction.text import TfidfVectorizer\n",
        "cv = TfidfVectorizer()\n",
        "X= cv.fit_transform(corpus).toarray()\n",
        "y= data.iloc[:, 1].values\n",
        "print(X)\n",
        "print(y)"
      ]
    },
    {
      "cell_type": "code",
      "execution_count": null,
      "metadata": {
        "colab": {
          "base_uri": "https://localhost:8080/"
        },
        "id": "rgIa_inH66Nx",
        "outputId": "a9886b04-4464-41c3-e76b-fd454ced85c4"
      },
      "outputs": [
        {
          "output_type": "stream",
          "name": "stdout",
          "text": [
            "[[0. 0. 0. ... 0. 0. 0.]\n",
            " [0. 0. 0. ... 0. 0. 0.]\n",
            " [0. 0. 0. ... 0. 0. 0.]\n",
            " ...\n",
            " [0. 0. 0. ... 0. 0. 0.]\n",
            " [0. 0. 0. ... 0. 0. 0.]\n",
            " [0. 0. 0. ... 0. 0. 0.]]\n"
          ]
        }
      ],
      "source": [
        "#Splitting the dataset into training set and test set\n",
        "from sklearn.model_selection import train_test_split\n",
        "X_train,X_test,y_train,y_test= train_test_split(X,y,test_size=0.2,random_state=0, stratify=data['Class'])\n",
        "print(X)"
      ]
    },
    {
      "cell_type": "code",
      "source": [
        "X_train.shape"
      ],
      "metadata": {
        "colab": {
          "base_uri": "https://localhost:8080/"
        },
        "id": "d7p-3la6GxH9",
        "outputId": "381eddaf-31cc-4ec5-88e1-ff27625d720e"
      },
      "execution_count": null,
      "outputs": [
        {
          "output_type": "execute_result",
          "data": {
            "text/plain": [
              "(560, 1162)"
            ]
          },
          "metadata": {},
          "execution_count": 491
        }
      ]
    },
    {
      "cell_type": "markdown",
      "metadata": {
        "id": "FQ_J4DETDLVs"
      },
      "source": [
        "# **Decision Tree**"
      ]
    },
    {
      "cell_type": "code",
      "execution_count": null,
      "metadata": {
        "colab": {
          "base_uri": "https://localhost:8080/"
        },
        "id": "mGDiR3_67BG_",
        "outputId": "8064d3b4-ecab-442c-95c1-3586774816c2"
      },
      "outputs": [
        {
          "output_type": "execute_result",
          "data": {
            "text/plain": [
              "DecisionTreeClassifier(criterion='entropy', random_state=0)"
            ]
          },
          "metadata": {},
          "execution_count": 492
        }
      ],
      "source": [
        "# Fitting Decision Tree to the training set\n",
        "from sklearn.tree import DecisionTreeClassifier\n",
        "classifier=DecisionTreeClassifier(criterion=\"entropy\", random_state=0)\n",
        "classifier.fit(X_train, y_train)"
      ]
    },
    {
      "cell_type": "code",
      "execution_count": null,
      "metadata": {
        "id": "eOXY1n3coDgY"
      },
      "outputs": [],
      "source": [
        "#predicting the Test set results\n",
        "y_pred=classifier.predict(X_test)"
      ]
    },
    {
      "cell_type": "code",
      "execution_count": null,
      "metadata": {
        "colab": {
          "base_uri": "https://localhost:8080/"
        },
        "id": "5L1sZvwPoKaF",
        "outputId": "1366b62d-b16c-46b0-f17e-6529a674a22d"
      },
      "outputs": [
        {
          "output_type": "stream",
          "name": "stdout",
          "text": [
            "[[50 20]\n",
            " [19 51]]\n"
          ]
        }
      ],
      "source": [
        "#Making the confusion matrix\n",
        "from sklearn.metrics import confusion_matrix\n",
        "cm=confusion_matrix(y_test, y_pred)\n",
        "print(cm)"
      ]
    },
    {
      "cell_type": "code",
      "execution_count": null,
      "metadata": {
        "colab": {
          "base_uri": "https://localhost:8080/"
        },
        "id": "yGZUNDYcoKaG",
        "outputId": "f7790286-b569-4b21-cb43-686ccbdcdcd5"
      },
      "outputs": [
        {
          "output_type": "stream",
          "name": "stdout",
          "text": [
            "0.7214285714285714\n"
          ]
        }
      ],
      "source": [
        "#finding accuracy\n",
        "from sklearn.metrics import accuracy_score\n",
        "accuracy=accuracy_score(y_test,y_pred)\n",
        "print(accuracy)"
      ]
    },
    {
      "cell_type": "code",
      "execution_count": null,
      "metadata": {
        "colab": {
          "base_uri": "https://localhost:8080/"
        },
        "id": "8xD6cZqsoKaG",
        "outputId": "982c6a53-d6b4-45d4-ac81-2c25a309c370"
      },
      "outputs": [
        {
          "output_type": "stream",
          "name": "stdout",
          "text": [
            "Recall 0.729\n"
          ]
        }
      ],
      "source": [
        "#finding Recall\n",
        "from sklearn.metrics import recall_score\n",
        "recall=recall_score(y_test,y_pred,average=\"binary\")\n",
        "print('Recall %.3f'%recall)"
      ]
    },
    {
      "cell_type": "code",
      "execution_count": null,
      "metadata": {
        "colab": {
          "base_uri": "https://localhost:8080/"
        },
        "id": "gliD8Ub1oKaH",
        "outputId": "1acae142-486f-4086-964c-bd8ba958b21d"
      },
      "outputs": [
        {
          "output_type": "stream",
          "name": "stdout",
          "text": [
            "precision 0.718\n"
          ]
        }
      ],
      "source": [
        "#finding Precision\n",
        "from sklearn.metrics import precision_score\n",
        "precision=precision_score(y_test,y_pred,average=\"binary\")\n",
        "print('precision %.3f'%precision)"
      ]
    },
    {
      "cell_type": "code",
      "execution_count": null,
      "metadata": {
        "colab": {
          "base_uri": "https://localhost:8080/"
        },
        "id": "aVCnEmK4oKaH",
        "outputId": "d8403b67-27a3-47ec-b7de-c4d2e9ae72d7"
      },
      "outputs": [
        {
          "output_type": "stream",
          "name": "stdout",
          "text": [
            "f1_score 0.723\n"
          ]
        }
      ],
      "source": [
        "#finding F1-score\n",
        "from sklearn.metrics import f1_score\n",
        "f1=f1_score(y_test,y_pred,average=\"binary\")\n",
        "print('f1_score %.3f'%f1)"
      ]
    },
    {
      "cell_type": "markdown",
      "metadata": {
        "id": "_ahKzibSDXLU"
      },
      "source": [
        "# **K Nearest Neighbor**"
      ]
    },
    {
      "cell_type": "code",
      "execution_count": null,
      "metadata": {
        "colab": {
          "base_uri": "https://localhost:8080/"
        },
        "id": "ZoR6zao2Bnw0",
        "outputId": "c4d745b7-b180-40d9-a3ec-aabc66f8f4a0"
      },
      "outputs": [
        {
          "output_type": "execute_result",
          "data": {
            "text/plain": [
              "KNeighborsClassifier(n_neighbors=4)"
            ]
          },
          "metadata": {},
          "execution_count": 499
        }
      ],
      "source": [
        "# Fitting KNN to the training set\n",
        "from sklearn.neighbors import KNeighborsClassifier\n",
        "classifier=KNeighborsClassifier(n_neighbors=4,metric='minkowski',p=2)\n",
        "classifier.fit(X_train,y_train)"
      ]
    },
    {
      "cell_type": "code",
      "execution_count": null,
      "metadata": {
        "id": "N5Vs9YBRobYj"
      },
      "outputs": [],
      "source": [
        "#predicting the Test set results\n",
        "y_pred=classifier.predict(X_test)"
      ]
    },
    {
      "cell_type": "code",
      "execution_count": null,
      "metadata": {
        "colab": {
          "base_uri": "https://localhost:8080/"
        },
        "id": "WMFtuhnhobYk",
        "outputId": "802f2cfe-0cfd-48f8-8e06-a502a229b1b1"
      },
      "outputs": [
        {
          "output_type": "stream",
          "name": "stdout",
          "text": [
            "[[21 49]\n",
            " [15 55]]\n"
          ]
        }
      ],
      "source": [
        "#Making the confusion matrix\n",
        "from sklearn.metrics import confusion_matrix\n",
        "cm=confusion_matrix(y_test, y_pred)\n",
        "print(cm)"
      ]
    },
    {
      "cell_type": "code",
      "execution_count": null,
      "metadata": {
        "colab": {
          "base_uri": "https://localhost:8080/"
        },
        "id": "98BURvCnobYl",
        "outputId": "ec20c062-eec5-4e5b-fa72-bda8afed42f8"
      },
      "outputs": [
        {
          "output_type": "stream",
          "name": "stdout",
          "text": [
            "0.5428571428571428\n"
          ]
        }
      ],
      "source": [
        "#finding accuracy\n",
        "from sklearn.metrics import accuracy_score\n",
        "accuracy=accuracy_score(y_test,y_pred)\n",
        "print(accuracy)"
      ]
    },
    {
      "cell_type": "code",
      "execution_count": null,
      "metadata": {
        "colab": {
          "base_uri": "https://localhost:8080/"
        },
        "id": "VxCSN4ZoobYm",
        "outputId": "1a09c772-323b-41e3-9798-696e6b6d62a7"
      },
      "outputs": [
        {
          "output_type": "stream",
          "name": "stdout",
          "text": [
            "Recall 0.786\n"
          ]
        }
      ],
      "source": [
        "#finding Recall\n",
        "from sklearn.metrics import recall_score\n",
        "recall=recall_score(y_test,y_pred,average=\"binary\")\n",
        "print('Recall %.3f'%recall)"
      ]
    },
    {
      "cell_type": "code",
      "execution_count": null,
      "metadata": {
        "colab": {
          "base_uri": "https://localhost:8080/"
        },
        "id": "QS7mMyP0obYm",
        "outputId": "6e52cd8e-d714-49f7-ce6a-d48d21fb6b6f"
      },
      "outputs": [
        {
          "output_type": "stream",
          "name": "stdout",
          "text": [
            "precision 0.529\n"
          ]
        }
      ],
      "source": [
        "#finding Precision\n",
        "from sklearn.metrics import precision_score\n",
        "precision=precision_score(y_test,y_pred,average=\"binary\")\n",
        "print('precision %.3f'%precision)"
      ]
    },
    {
      "cell_type": "code",
      "execution_count": null,
      "metadata": {
        "colab": {
          "base_uri": "https://localhost:8080/"
        },
        "id": "VrxO0EMpobYn",
        "outputId": "1c45ecc8-8e77-4b16-a18e-3a5f7eca2c15"
      },
      "outputs": [
        {
          "output_type": "stream",
          "name": "stdout",
          "text": [
            "f1_score 0.632\n"
          ]
        }
      ],
      "source": [
        "#finding F1-score\n",
        "from sklearn.metrics import f1_score\n",
        "f1=f1_score(y_test,y_pred,average=\"binary\")\n",
        "print('f1_score %.3f'%f1)"
      ]
    },
    {
      "cell_type": "markdown",
      "metadata": {
        "id": "NQvv_HIWGGNj"
      },
      "source": [
        "# **Support Vector Machine**"
      ]
    },
    {
      "cell_type": "code",
      "execution_count": null,
      "metadata": {
        "colab": {
          "base_uri": "https://localhost:8080/"
        },
        "id": "2aw93yVzFFL8",
        "outputId": "fbd4a5d2-5714-45b9-b4d2-3d766ce4d56c"
      },
      "outputs": [
        {
          "output_type": "execute_result",
          "data": {
            "text/plain": [
              "SVC(kernel='linear')"
            ]
          },
          "metadata": {},
          "execution_count": 506
        }
      ],
      "source": [
        "# Fitting SVM to the training set\n",
        "from sklearn.svm import SVC\n",
        "classifier = SVC(kernel='linear')\n",
        "classifier.fit(X_train, y_train)"
      ]
    },
    {
      "cell_type": "code",
      "execution_count": null,
      "metadata": {
        "id": "ri6Nru8QonsZ"
      },
      "outputs": [],
      "source": [
        "#predicting the Test set results\n",
        "y_pred=classifier.predict(X_test)"
      ]
    },
    {
      "cell_type": "code",
      "execution_count": null,
      "metadata": {
        "colab": {
          "base_uri": "https://localhost:8080/"
        },
        "id": "gCcJG8mKonsc",
        "outputId": "3e7296ae-85d8-44d0-8d68-b58da0bacf30"
      },
      "outputs": [
        {
          "output_type": "stream",
          "name": "stdout",
          "text": [
            "[[60 10]\n",
            " [10 60]]\n"
          ]
        }
      ],
      "source": [
        "#Making the confusion matrix\n",
        "from sklearn.metrics import confusion_matrix\n",
        "cm=confusion_matrix(y_test, y_pred)\n",
        "print(cm)"
      ]
    },
    {
      "cell_type": "code",
      "execution_count": null,
      "metadata": {
        "colab": {
          "base_uri": "https://localhost:8080/"
        },
        "id": "1E_0X_Nconsd",
        "outputId": "641fc7dc-2233-4b8a-ed26-e16f9c7a8498"
      },
      "outputs": [
        {
          "output_type": "stream",
          "name": "stdout",
          "text": [
            "0.8571428571428571\n"
          ]
        }
      ],
      "source": [
        "#finding accuracy\n",
        "from sklearn.metrics import accuracy_score\n",
        "accuracy=accuracy_score(y_test,y_pred)\n",
        "print(accuracy)"
      ]
    },
    {
      "cell_type": "code",
      "execution_count": null,
      "metadata": {
        "colab": {
          "base_uri": "https://localhost:8080/"
        },
        "id": "1EMIqphxonsd",
        "outputId": "d3d5b127-4ccb-4204-b594-a0e44a9a8a41"
      },
      "outputs": [
        {
          "output_type": "stream",
          "name": "stdout",
          "text": [
            "Recall 0.857\n"
          ]
        }
      ],
      "source": [
        "#finding Recall\n",
        "from sklearn.metrics import recall_score\n",
        "recall=recall_score(y_test,y_pred,average=\"binary\")\n",
        "print('Recall %.3f'%recall)"
      ]
    },
    {
      "cell_type": "code",
      "execution_count": null,
      "metadata": {
        "colab": {
          "base_uri": "https://localhost:8080/"
        },
        "id": "oAFR2uvhonse",
        "outputId": "0dce0396-aecf-49c7-f8d6-e990f8e5ebee"
      },
      "outputs": [
        {
          "output_type": "stream",
          "name": "stdout",
          "text": [
            "precision 0.857\n"
          ]
        }
      ],
      "source": [
        "#finding Precision\n",
        "from sklearn.metrics import precision_score\n",
        "precision=precision_score(y_test,y_pred,average=\"binary\")\n",
        "print('precision %.3f'%precision)"
      ]
    },
    {
      "cell_type": "code",
      "execution_count": null,
      "metadata": {
        "colab": {
          "base_uri": "https://localhost:8080/"
        },
        "id": "7XpeGAdhonse",
        "outputId": "a63c887a-6202-45cf-87ff-0af864238458"
      },
      "outputs": [
        {
          "output_type": "stream",
          "name": "stdout",
          "text": [
            "f1_score 0.857\n"
          ]
        }
      ],
      "source": [
        "#finding F1-score\n",
        "from sklearn.metrics import f1_score\n",
        "f1=f1_score(y_test,y_pred,average=\"binary\")\n",
        "print('f1_score %.3f'%f1)"
      ]
    },
    {
      "cell_type": "markdown",
      "metadata": {
        "id": "t_M-GjL9G4zo"
      },
      "source": [
        "# **Multinomial Naive Bayes**\n"
      ]
    },
    {
      "cell_type": "code",
      "execution_count": null,
      "metadata": {
        "id": "CxdQJ_DEG1sU"
      },
      "outputs": [],
      "source": [
        "from sklearn.naive_bayes import MultinomialNB\n",
        "\n",
        "classifier = MultinomialNB().fit(X_train, y_train)"
      ]
    },
    {
      "cell_type": "code",
      "execution_count": null,
      "metadata": {
        "id": "YnDkMmzY7HDq"
      },
      "outputs": [],
      "source": [
        "#predicting the Test set results\n",
        "y_pred=classifier.predict(X_test)"
      ]
    },
    {
      "cell_type": "code",
      "execution_count": null,
      "metadata": {
        "colab": {
          "base_uri": "https://localhost:8080/"
        },
        "id": "XAGr-UFL7JhS",
        "outputId": "3925abf5-8def-41f6-86de-c2395b28183a"
      },
      "outputs": [
        {
          "output_type": "stream",
          "name": "stdout",
          "text": [
            "[[56 14]\n",
            " [ 9 61]]\n"
          ]
        }
      ],
      "source": [
        "#Making the confusion matrix\n",
        "from sklearn.metrics import confusion_matrix\n",
        "cm=confusion_matrix(y_test, y_pred)\n",
        "print(cm)"
      ]
    },
    {
      "cell_type": "code",
      "execution_count": null,
      "metadata": {
        "colab": {
          "base_uri": "https://localhost:8080/"
        },
        "id": "JjfeeWx37Lw4",
        "outputId": "5a0a4872-f6d0-4f42-fd96-e2185badd053"
      },
      "outputs": [
        {
          "output_type": "stream",
          "name": "stdout",
          "text": [
            "0.8357142857142857\n"
          ]
        }
      ],
      "source": [
        "#finding accuracy\n",
        "from sklearn.metrics import accuracy_score\n",
        "accuracy=accuracy_score(y_test,y_pred)\n",
        "print(accuracy)"
      ]
    },
    {
      "cell_type": "code",
      "execution_count": null,
      "metadata": {
        "colab": {
          "base_uri": "https://localhost:8080/"
        },
        "id": "F3JqQRkJ7OoL",
        "outputId": "abd063d4-efd8-4a78-e766-1ef25bea98ac"
      },
      "outputs": [
        {
          "output_type": "stream",
          "name": "stdout",
          "text": [
            "Recall 0.871\n"
          ]
        }
      ],
      "source": [
        "#finding Recall\n",
        "from sklearn.metrics import recall_score\n",
        "recall=recall_score(y_test,y_pred,average=\"binary\")\n",
        "print('Recall %.3f'%recall)"
      ]
    },
    {
      "cell_type": "code",
      "execution_count": null,
      "metadata": {
        "colab": {
          "base_uri": "https://localhost:8080/"
        },
        "id": "yCi7iA_m7ZC2",
        "outputId": "2fbb6d56-73aa-4c37-cdb5-eefb32db3b0c"
      },
      "outputs": [
        {
          "output_type": "stream",
          "name": "stdout",
          "text": [
            "precision 0.813\n"
          ]
        }
      ],
      "source": [
        "#finding Precision\n",
        "from sklearn.metrics import precision_score\n",
        "precision=precision_score(y_test,y_pred,average=\"binary\")\n",
        "print('precision %.3f'%precision)"
      ]
    },
    {
      "cell_type": "code",
      "execution_count": null,
      "metadata": {
        "colab": {
          "base_uri": "https://localhost:8080/"
        },
        "id": "zSObiip67Zti",
        "outputId": "83ca72c0-1d55-44c7-9403-508bfc00e53c"
      },
      "outputs": [
        {
          "output_type": "stream",
          "name": "stdout",
          "text": [
            "f1_score 0.841\n"
          ]
        }
      ],
      "source": [
        "#finding F1-score\n",
        "from sklearn.metrics import f1_score\n",
        "f1=f1_score(y_test,y_pred,average=\"binary\")\n",
        "print('f1_score %.3f'%f1)"
      ]
    },
    {
      "cell_type": "markdown",
      "metadata": {
        "id": "60Ddnb5aDZfm"
      },
      "source": [
        "# **Random Forest**"
      ]
    },
    {
      "cell_type": "code",
      "execution_count": null,
      "metadata": {
        "id": "3zQJ-WbRmvT0"
      },
      "outputs": [],
      "source": [
        "X_train,X_test,y_train,y_test=train_test_split(data['Review'],data['Class'],test_size=0.2,random_state=0,shuffle=True, stratify=data['Class'])"
      ]
    },
    {
      "cell_type": "code",
      "execution_count": null,
      "metadata": {
        "colab": {
          "base_uri": "https://localhost:8080/"
        },
        "id": "kflNbjmyB0ck",
        "outputId": "4d1129dc-fd7c-4930-c606-c2ca8e9b5f55"
      },
      "outputs": [
        {
          "output_type": "execute_result",
          "data": {
            "text/plain": [
              "Pipeline(steps=[('tfidf', TfidfVectorizer()),\n",
              "                ('classifier', RandomForestClassifier(n_jobs=-1))])"
            ]
          },
          "metadata": {},
          "execution_count": 521
        }
      ],
      "source": [
        "# Fitting Random Forest to the training set\n",
        "from sklearn.ensemble import RandomForestClassifier\n",
        "from sklearn.pipeline import Pipeline\n",
        "classifier=Pipeline([('tfidf',TfidfVectorizer()),('classifier',RandomForestClassifier(n_estimators=100,n_jobs=-1))])\n",
        "classifier.fit(X_train, y_train)"
      ]
    },
    {
      "cell_type": "code",
      "execution_count": null,
      "metadata": {
        "id": "9KenMg6DleOc"
      },
      "outputs": [],
      "source": [
        "#predicting the Test set results\n",
        "y_pred=classifier.predict(X_test)"
      ]
    },
    {
      "cell_type": "code",
      "execution_count": null,
      "metadata": {
        "colab": {
          "base_uri": "https://localhost:8080/"
        },
        "id": "JFQcYqX5leg9",
        "outputId": "3e36aa1e-226f-4731-9e1b-d41495ae86a7"
      },
      "outputs": [
        {
          "output_type": "stream",
          "name": "stdout",
          "text": [
            "[[56 14]\n",
            " [ 6 64]]\n"
          ]
        }
      ],
      "source": [
        "from sklearn.metrics import confusion_matrix\n",
        "cm=confusion_matrix(y_test, y_pred)\n",
        "print(cm)"
      ]
    },
    {
      "cell_type": "code",
      "execution_count": null,
      "metadata": {
        "colab": {
          "base_uri": "https://localhost:8080/"
        },
        "id": "p1UFKvknlsgw",
        "outputId": "7f58d10a-e173-455a-baf6-4f40eed6b80a"
      },
      "outputs": [
        {
          "output_type": "stream",
          "name": "stdout",
          "text": [
            "0.8571428571428571\n"
          ]
        }
      ],
      "source": [
        "#finding accuracy\n",
        "from sklearn.metrics import accuracy_score\n",
        "accuracy=accuracy_score(y_test,y_pred)\n",
        "print(accuracy)"
      ]
    },
    {
      "cell_type": "code",
      "execution_count": null,
      "metadata": {
        "colab": {
          "base_uri": "https://localhost:8080/"
        },
        "id": "GQlsYQ-GogyC",
        "outputId": "2f5d482e-0a98-4725-f391-5962f3fad9c7"
      },
      "outputs": [
        {
          "output_type": "stream",
          "name": "stdout",
          "text": [
            "Recall 0.914\n"
          ]
        }
      ],
      "source": [
        "#finding Recall\n",
        "from sklearn.metrics import recall_score\n",
        "recall=recall_score(y_test,y_pred,average=\"binary\")\n",
        "print('Recall %.3f'%recall)"
      ]
    },
    {
      "cell_type": "code",
      "execution_count": null,
      "metadata": {
        "colab": {
          "base_uri": "https://localhost:8080/"
        },
        "id": "DIukioKOogyC",
        "outputId": "e5c92dd1-69bf-49a8-ce59-28aff451337f"
      },
      "outputs": [
        {
          "output_type": "stream",
          "name": "stdout",
          "text": [
            "precision 0.821\n"
          ]
        }
      ],
      "source": [
        "#finding Precision\n",
        "from sklearn.metrics import precision_score\n",
        "precision=precision_score(y_test,y_pred,average=\"binary\")\n",
        "print('precision %.3f'%precision)"
      ]
    },
    {
      "cell_type": "code",
      "execution_count": null,
      "metadata": {
        "colab": {
          "base_uri": "https://localhost:8080/"
        },
        "id": "8c4Dk6ljogyD",
        "outputId": "236a7e70-f81b-4f20-e051-06f7eb63d213"
      },
      "outputs": [
        {
          "output_type": "stream",
          "name": "stdout",
          "text": [
            "f1_score 0.865\n"
          ]
        }
      ],
      "source": [
        "#finding F1-score\n",
        "from sklearn.metrics import f1_score\n",
        "f1=f1_score(y_test,y_pred,average=\"binary\")\n",
        "print('f1_score %.3f'%f1)"
      ]
    }
  ],
  "metadata": {
    "colab": {
      "collapsed_sections": [],
      "name": "Book Review.ipynb",
      "provenance": []
    },
    "kernelspec": {
      "display_name": "Python 3",
      "name": "python3"
    },
    "language_info": {
      "name": "python"
    }
  },
  "nbformat": 4,
  "nbformat_minor": 0
}